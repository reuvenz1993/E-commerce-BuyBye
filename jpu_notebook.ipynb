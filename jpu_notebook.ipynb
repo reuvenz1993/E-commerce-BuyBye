{
 "nbformat": 4,
 "nbformat_minor": 2,
 "metadata": {
  "language_info": {
   "name": "python",
   "codemirror_mode": {
    "name": "ipython",
    "version": 3
   },
   "version": "3.7.0-final"
  },
  "orig_nbformat": 2,
  "file_extension": ".py",
  "mimetype": "text/x-python",
  "name": "python",
  "npconvert_exporter": "python",
  "pygments_lexer": "ipython3",
  "version": 3,
  "kernelspec": {
   "name": "python37064bitenvvirtualenv3752e02dd1ee44fdaf9b5646f27fe35a",
   "display_name": "Python 3.7.0 64-bit ('env': virtualenv)"
  }
 },
 "cells": [
  {
   "cell_type": "code",
   "execution_count": 146,
   "metadata": {},
   "outputs": [],
   "source": [
    "def get_relvent_results(product_type ,min_price , max_price , min_stars):\n",
    "    if product_type != 'all':\n",
    "        temp = str(product_type)\n",
    "        products = Product.query.filter(Product.product_type==temp)\n",
    "    else:\n",
    "        products = Product.query\n",
    "\n",
    "    products = products.filter(Product.price > min_price , Product.price < max_price )\n",
    "    products = products.all()\n",
    "    product_list = []\n",
    "    for p in products:\n",
    "        product_list.append( p.as_list() )\n",
    "    for prod in product_list:\n",
    "        prod.append(get_product_extra_info(prod[0]))\n",
    "    return product_list"
   ]
  },
  {
   "cell_type": "code",
   "execution_count": 145,
   "metadata": {},
   "outputs": [],
   "source": [
    "def get_product_extra_info(pid):\n",
    "    product = Product.query.filter_by(id=pid).first()\n",
    "    if product==None:\n",
    "        print('product number : ' + str(pid) + ' not exists')\n",
    "        return False \n",
    "    \n",
    "    order_count = product.orders.count()\n",
    "    order_list = product.orders.all()\n",
    "    stars = 0\n",
    "    reviews = []\n",
    "    for order in order_list:\n",
    "        for review in order.reviews:\n",
    "            reviews.append(review)\n",
    "            stars += review.stars\n",
    "    \n",
    "    review_count = len(reviews) \n",
    "    if review_count > 0 :\n",
    "        avg = stars / len(reviews)\n",
    "    else :\n",
    "        avg = 5\n",
    "\n",
    "    supplier_name =  product_supplier_name(pid)\n",
    "    return { 'order_count' : order_count , 'review_count':review_count , 'avg_stars': avg , 'supplier_name':supplier_name }"
   ]
  },
  {
   "cell_type": "code",
   "execution_count": 147,
   "metadata": {},
   "outputs": [
    {
     "data": {
      "text/plain": "[[1,\n  'ball',\n  'real madrid ball',\n  1,\n  'sports',\n  'N/A',\n  'nike',\n  5.0,\n  '/static/img/products/football.jfif',\n  None,\n  {'order_count': 1,\n   'review_count': 1,\n   'avg_stars': 4.0,\n   'supplier_name': 'Super Sports'}],\n [2,\n  'pen',\n  'a good pen',\n  1,\n  'house',\n  'N/A',\n  'pilot',\n  2.0,\n  '/static/img/products/default.png',\n  'N/A',\n  {'order_count': 0,\n   'review_count': 0,\n   'avg_stars': 5,\n   'supplier_name': 'Super Sports'}]]"
     },
     "execution_count": 147,
     "metadata": {},
     "output_type": "execute_result"
    }
   ],
   "source": [
    "res = get_relvent_results('all', 1 ,100 , 1)\n",
    "res"
   ]
  },
  {
   "cell_type": "code",
   "execution_count": 149,
   "metadata": {},
   "outputs": [
    {
     "data": {
      "text/plain": "{'order_count': 1,\n 'review_count': 1,\n 'avg_stars': 4.0,\n 'supplier_name': 'Super Sports'}"
     },
     "execution_count": 149,
     "metadata": {},
     "output_type": "execute_result"
    }
   ],
   "source": [
    "get_product_extra_info(1)"
   ]
  },
  {
   "cell_type": "code",
   "execution_count": 141,
   "metadata": {},
   "outputs": [],
   "source": [
    "def product_supplier_name(pid):\n",
    "    product = Product.query.filter_by(id=pid).first()\n",
    "    supplier = Supplier.query.filter_by(id=product.supplier_id).first()\n",
    "    return supplier.name\n"
   ]
  },
  {
   "cell_type": "code",
   "execution_count": 17,
   "metadata": {},
   "outputs": [
    {
     "ename": "NameError",
     "evalue": "name 'product_supplier_name' is not defined",
     "output_type": "error",
     "traceback": [
      "\u001b[1;31m---------------------------------------------------------------------------\u001b[0m",
      "\u001b[1;31mNameError\u001b[0m                                 Traceback (most recent call last)",
      "\u001b[1;32m<ipython-input-17-fd36423fddd6>\u001b[0m in \u001b[0;36m<module>\u001b[1;34m\u001b[0m\n\u001b[1;32m----> 1\u001b[1;33m \u001b[0mproduct_supplier_name\u001b[0m\u001b[1;33m(\u001b[0m\u001b[1;36m1\u001b[0m\u001b[1;33m)\u001b[0m\u001b[1;33m\u001b[0m\u001b[0m\n\u001b[0m",
      "\u001b[1;31mNameError\u001b[0m: name 'product_supplier_name' is not defined"
     ]
    }
   ],
   "source": [
    "product_supplier_name(1)\n"
   ]
  },
  {
   "cell_type": "code",
   "execution_count": 3,
   "metadata": {},
   "outputs": [],
   "source": [
    "from ecommerce import db\n",
    "from ecommerce.models import *\n",
    "\n",
    "supllier_id = Supplier.query.filter_by(username = 'supplier2').first().id"
   ]
  },
  {
   "cell_type": "code",
   "execution_count": 4,
   "metadata": {},
   "outputs": [
    {
     "data": {
      "text/plain": "2"
     },
     "execution_count": 4,
     "metadata": {},
     "output_type": "execute_result"
    }
   ],
   "source": [
    "supllier_id"
   ]
  },
  {
   "cell_type": "code",
   "execution_count": null,
   "metadata": {},
   "outputs": [],
   "source": []
  },
  {
   "cell_type": "code",
   "execution_count": 18,
   "metadata": {},
   "outputs": [],
   "source": [
    "from ecommerce import *\n",
    "from ecommerce.models import *"
   ]
  },
  {
   "cell_type": "code",
   "execution_count": 19,
   "metadata": {},
   "outputs": [
    {
     "name": "stdout",
     "output_type": "stream",
     "text": "[id:1 , name:ball, desc:real madrid ball, id:2 , name:pen, desc:a good pen]\n---\n[id:1 , product_id:1, buyer_id:1, supplier_id:1, qty:2, status:open, unit_price:5.0000000000, total_price:10.0000000000, reviews:SELECT reviews.id AS reviews_id, reviews.order_id AS reviews_order_id, reviews.stars AS reviews_stars, reviews.review_content AS reviews_review_content, reviews.review_time AS reviews_review_time \nFROM reviews \nWHERE ? = reviews.order_id]\n---\n[id:1 , order_id:1, stars:4, review_content:N/A, review_time:N/A]\n"
    }
   ],
   "source": [
    "sup = Supplier.query.get(1)\n",
    "products = sup.get_products()\n",
    "print (products)\n",
    "print (\"---\")\n",
    "orders = sup.get_orders()\n",
    "print (orders)\n",
    "print (\"---\")\n",
    "reviews = sup.get_reviews()\n",
    "print(reviews)"
   ]
  },
  {
   "cell_type": "code",
   "execution_count": 3,
   "metadata": {},
   "outputs": [
    {
     "name": "stdout",
     "output_type": "stream",
     "text": "[id:1 , product_id:1, buyer_id:1, supplier_id:1, qty:2, status:open, unit_price:5.0000000000, total_price:10.0000000000, reviews:SELECT reviews.id AS reviews_id, reviews.order_id AS reviews_order_id, reviews.stars AS reviews_stars, reviews.review_content AS reviews_review_content, reviews.review_time AS reviews_review_time \nFROM reviews \nWHERE ? = reviews.order_id]\n-----\n[id:1 , product_id:1, buyer_id:1, supplier_id:1, qty:2, status:open, unit_price:5.0000000000, total_price:10.0000000000, reviews:SELECT reviews.id AS reviews_id, reviews.order_id AS reviews_order_id, reviews.stars AS reviews_stars, reviews.review_content AS reviews_review_content, reviews.review_time AS reviews_review_time \nFROM reviews \nWHERE ? = reviews.order_id]\n"
    }
   ],
   "source": [
    "product = Product.query.get(1)\n",
    "product_orders = product.get_orders()\n",
    "print(product_orders)\n",
    "print('-----')\n",
    "review = product.get_review()\n",
    "print(review)"
   ]
  },
  {
   "cell_type": "code",
   "execution_count": 65,
   "metadata": {},
   "outputs": [],
   "source": [
    "from ecommerce import *\n",
    "from ecommerce.models import *"
   ]
  },
  {
   "cell_type": "code",
   "execution_count": 19,
   "metadata": {},
   "outputs": [
    {
     "data": {
      "text/plain": "int"
     },
     "execution_count": 19,
     "metadata": {},
     "output_type": "execute_result"
    }
   ],
   "source": [
    "type(product_orders[0].id)"
   ]
  },
  {
   "cell_type": "code",
   "execution_count": 9,
   "metadata": {},
   "outputs": [
    {
     "data": {
      "text/plain": "ecommerce.models.Order"
     },
     "execution_count": 9,
     "metadata": {},
     "output_type": "execute_result"
    }
   ],
   "source": [
    "orders = Order.query.all()\n",
    "type(orders[0])"
   ]
  },
  {
   "cell_type": "code",
   "execution_count": 14,
   "metadata": {},
   "outputs": [],
   "source": [
    "def ab():\n",
    "    reviews = []\n",
    "    orders = Order.query.all()\n",
    "    for order in orders:\n",
    "        rev = order.get_reviews()\n",
    "        reviews.append(rev)\n",
    "    return reviews"
   ]
  },
  {
   "cell_type": "code",
   "execution_count": 15,
   "metadata": {},
   "outputs": [
    {
     "data": {
      "text/plain": "[id:1 , order_id:1, stars:4, review_content:N/A, review_time:N/A]"
     },
     "execution_count": 15,
     "metadata": {},
     "output_type": "execute_result"
    }
   ],
   "source": [
    "ab()"
   ]
  },
  {
   "cell_type": "code",
   "execution_count": 11,
   "metadata": {},
   "outputs": [
    {
     "data": {
      "text/plain": "1"
     },
     "execution_count": 11,
     "metadata": {},
     "output_type": "execute_result"
    }
   ],
   "source": [
    "r = Reviews.query.first()\n",
    "r.order_id"
   ]
  },
  {
   "cell_type": "code",
   "execution_count": 1,
   "metadata": {},
   "outputs": [],
   "source": [
    "from ecommerce import *\n",
    "from ecommerce.models import *"
   ]
  },
  {
   "cell_type": "code",
   "execution_count": 9,
   "metadata": {},
   "outputs": [
    {
     "data": {
      "text/plain": "<Supplier 1>"
     },
     "execution_count": 9,
     "metadata": {},
     "output_type": "execute_result"
    }
   ],
   "source": [
    "r = Reviews.query.first()\n",
    "r.get_supplier()"
   ]
  },
  {
   "cell_type": "code",
   "execution_count": 10,
   "metadata": {},
   "outputs": [
    {
     "data": {
      "text/plain": "{'_sa_instance_state': <sqlalchemy.orm.state.InstanceState at 0x17fed395f60>,\n 'stars': 4,\n 'id': 1,\n 'review_content': 'N/A',\n 'order_id': 1,\n 'review_time': datetime.datetime(2020, 1, 9, 4, 52, 3, 258439),\n 'order': id:1 , product_id:1, buyer_id:1, supplier_id:1, qty:2, status:open, unit_price:5.0000000000, total_price:10.0000000000, reviews:SELECT reviews.id AS reviews_id, reviews.order_id AS reviews_order_id, reviews.stars AS reviews_stars, reviews.review_content AS reviews_review_content, reviews.review_time AS reviews_review_time \n FROM reviews \n WHERE ? = reviews.order_id}"
     },
     "execution_count": 10,
     "metadata": {},
     "output_type": "execute_result"
    }
   ],
   "source": [
    "r.__dict__"
   ]
  },
  {
   "cell_type": "code",
   "execution_count": 15,
   "metadata": {},
   "outputs": [
    {
     "data": {
      "text/plain": "[id:1 , order_id:1, stars:4, review_content:N/A, review_time:N/A]"
     },
     "execution_count": 15,
     "metadata": {},
     "output_type": "execute_result"
    }
   ],
   "source": [
    "p = Product.query.first()\n",
    "p.get_review()"
   ]
  },
  {
   "cell_type": "code",
   "execution_count": 28,
   "metadata": {},
   "outputs": [
    {
     "data": {
      "text/plain": "{'_sa_instance_state': <sqlalchemy.orm.state.InstanceState at 0x17fed3c82e8>,\n 'unit_price': Decimal('5.0000000000'),\n 'qty': 2,\n 'supplier_id': 1,\n 'buyer_id': 1,\n 'id': 1,\n 'total_price': Decimal('10.0000000000'),\n 'status': 'open',\n 'order_time': datetime.datetime(2020, 1, 9, 4, 49, 55, 160963),\n 'product_id': 1}"
     },
     "execution_count": 28,
     "metadata": {},
     "output_type": "execute_result"
    }
   ],
   "source": [
    "sup.orders[0].__dict__"
   ]
  },
  {
   "cell_type": "code",
   "execution_count": 44,
   "metadata": {},
   "outputs": [],
   "source": [
    "def get_orders_data():\n",
    "    orders = Order.query.filter_by(product_id=1)\n",
    "    num_of_orders = orders.count()\n",
    "    orders = orders.all()\n",
    "    sold = 0\n",
    "    for order in orders:\n",
    "        sold += order.qty\n",
    "\n",
    "    return [ orders, num_of_orders ,sold ]"
   ]
  },
  {
   "cell_type": "code",
   "execution_count": 47,
   "metadata": {},
   "outputs": [
    {
     "data": {
      "text/plain": "[[id:1 , product_id:1, buyer_id:1, supplier_id:1, qty:2, status:open, unit_price:5.0000000000, total_price:10.0000000000, reviews:SELECT reviews.id AS reviews_id, reviews.order_id AS reviews_order_id, reviews.stars AS reviews_stars, reviews.review_content AS reviews_review_content, reviews.review_time AS reviews_review_time \n  FROM reviews \n  WHERE ? = reviews.order_id], 1, 2]"
     },
     "execution_count": 47,
     "metadata": {},
     "output_type": "execute_result"
    }
   ],
   "source": [
    "get_orders_data()"
   ]
  },
  {
   "cell_type": "code",
   "execution_count": 37,
   "metadata": {},
   "outputs": [
    {
     "data": {
      "text/plain": "2"
     },
     "execution_count": 37,
     "metadata": {},
     "output_type": "execute_result"
    }
   ],
   "source": [
    "sold"
   ]
  },
  {
   "cell_type": "code",
   "execution_count": null,
   "metadata": {},
   "outputs": [],
   "source": []
  }
 ]
}