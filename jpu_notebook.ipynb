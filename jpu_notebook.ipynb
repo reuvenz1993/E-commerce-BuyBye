{
 "nbformat": 4,
 "nbformat_minor": 2,
 "metadata": {
  "language_info": {
   "name": "python",
   "codemirror_mode": {
    "name": "ipython",
    "version": 3
   },
   "version": "3.7.0-final"
  },
  "orig_nbformat": 2,
  "file_extension": ".py",
  "mimetype": "text/x-python",
  "name": "python",
  "npconvert_exporter": "python",
  "pygments_lexer": "ipython3",
  "version": 3,
  "kernelspec": {
   "name": "python37064bitenvvirtualenv3752e02dd1ee44fdaf9b5646f27fe35a",
   "display_name": "Python 3.7.0 64-bit ('env': virtualenv)"
  }
 },
 "cells": [
  {
   "cell_type": "code",
   "execution_count": 120,
   "metadata": {},
   "outputs": [],
   "source": [
    "def get_relvent_results(product_type ,min_price , max_price , min_stars):\n",
    "    if product_type != 'all':\n",
    "        temp = str(product_type)\n",
    "        products = Product.query.filter(Product.product_type==temp)\n",
    "    else:\n",
    "        products = Product.query\n",
    "\n",
    "    products = products.filter(Product.price > min_price , Product.price < max_price )\n",
    "    products = products.all()\n",
    "    product_list = []\n",
    "    for p in products:\n",
    "        product_list.append( p.as_list() )\n",
    "    for prod in product_list:\n",
    "        prod.append(get_avg_stars_and_orders(prod[0]))\n",
    "    return product_list"
   ]
  },
  {
   "cell_type": "code",
   "execution_count": 121,
   "metadata": {},
   "outputs": [],
   "source": [
    "def get_avg_stars_and_orders(pid):\n",
    "    product = Product.query.filter_by(id=pid).first()\n",
    "    if product==None:\n",
    "        print('product number : ' + str(pid) + ' not exists')\n",
    "        return False \n",
    "    \n",
    "    order_count = product.orders.count()\n",
    "    order_list = product.orders.all()\n",
    "    stars = 0\n",
    "    reviews = []\n",
    "    for order in order_list:\n",
    "        for review in order.reviews:\n",
    "            reviews.append(review)\n",
    "            stars += review.stars\n",
    "    \n",
    "    review_count = len(reviews) \n",
    "    if review_count > 0 :\n",
    "        avg = stars / len(reviews)\n",
    "    else :\n",
    "        avg = 5\n",
    "    return { 'order_count' : order_count , 'review_count':review_count , 'avg_stars': avg }"
   ]
  },
  {
   "cell_type": "code",
   "execution_count": 131,
   "metadata": {},
   "outputs": [
    {
     "data": {
      "text/plain": "[[1,\n  'ball',\n  'real madrid ball',\n  1,\n  'sports',\n  'N/A',\n  'nike',\n  5.0,\n  '/static/img/products/football.jfif',\n  None,\n  {'order_count': 1, 'review_count': 1, 'avg_stars': 4.0}],\n [2,\n  'pen',\n  'a good pen',\n  1,\n  'house',\n  'N/A',\n  'pilot',\n  2.0,\n  '/static/img/products/default.png',\n  'N/A',\n  {'order_count': 0, 'review_count': 0, 'avg_stars': 5}]]"
     },
     "execution_count": 131,
     "metadata": {},
     "output_type": "execute_result"
    }
   ],
   "source": [
    "res = get_relvent_results('all', 1 ,100 , 1)\n",
    "res"
   ]
  },
  {
   "cell_type": "code",
   "execution_count": 119,
   "metadata": {},
   "outputs": [
    {
     "data": {
      "text/plain": "{'order_count': 1, 'review_count': 1, 'avg_stars': 4.0}"
     },
     "execution_count": 119,
     "metadata": {},
     "output_type": "execute_result"
    }
   ],
   "source": [
    "get_avg_stars_and_orders(1)"
   ]
  },
  {
   "cell_type": "code",
   "execution_count": 141,
   "metadata": {},
   "outputs": [],
   "source": [
    "def product_supplier_name(pid):\n",
    "    product = Product.query.filter_by(id=pid).first()\n",
    "    supplier = Supplier.query.filter_by(id=product.supplier_id).first()\n",
    "    return supplier.name\n"
   ]
  },
  {
   "cell_type": "code",
   "execution_count": 142,
   "metadata": {},
   "outputs": [
    {
     "data": {
      "text/plain": "'Super Sports'"
     },
     "execution_count": 142,
     "metadata": {},
     "output_type": "execute_result"
    }
   ],
   "source": [
    "product_supplier_name(1)\n"
   ]
  }
 ]
}