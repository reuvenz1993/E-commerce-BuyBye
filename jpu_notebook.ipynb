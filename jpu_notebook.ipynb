{
 "nbformat": 4,
 "nbformat_minor": 2,
 "metadata": {
  "language_info": {
   "name": "python",
   "codemirror_mode": {
    "name": "ipython",
    "version": 3
   },
   "version": "3.7.0-final"
  },
  "orig_nbformat": 2,
  "file_extension": ".py",
  "mimetype": "text/x-python",
  "name": "python",
  "npconvert_exporter": "python",
  "pygments_lexer": "ipython3",
  "version": 3,
  "kernelspec": {
   "name": "python37064bitenvvirtualenv3752e02dd1ee44fdaf9b5646f27fe35a",
   "display_name": "Python 3.7.0 64-bit ('env': virtualenv)"
  }
 },
 "cells": [
  {
   "cell_type": "code",
   "execution_count": 146,
   "metadata": {},
   "outputs": [],
   "source": [
    "def get_relvent_results(product_type ,min_price , max_price , min_stars):\n",
    "    if product_type != 'all':\n",
    "        temp = str(product_type)\n",
    "        products = Product.query.filter(Product.product_type==temp)\n",
    "    else:\n",
    "        products = Product.query\n",
    "\n",
    "    products = products.filter(Product.price > min_price , Product.price < max_price )\n",
    "    products = products.all()\n",
    "    product_list = []\n",
    "    for p in products:\n",
    "        product_list.append( p.as_list() )\n",
    "    for prod in product_list:\n",
    "        prod.append(get_product_extra_info(prod[0]))\n",
    "    return product_list"
   ]
  },
  {
   "cell_type": "code",
   "execution_count": 145,
   "metadata": {},
   "outputs": [],
   "source": [
    "def get_product_extra_info(pid):\n",
    "    product = Product.query.filter_by(id=pid).first()\n",
    "    if product==None:\n",
    "        print('product number : ' + str(pid) + ' not exists')\n",
    "        return False \n",
    "    \n",
    "    order_count = product.orders.count()\n",
    "    order_list = product.orders.all()\n",
    "    stars = 0\n",
    "    reviews = []\n",
    "    for order in order_list:\n",
    "        for review in order.reviews:\n",
    "            reviews.append(review)\n",
    "            stars += review.stars\n",
    "    \n",
    "    review_count = len(reviews) \n",
    "    if review_count > 0 :\n",
    "        avg = stars / len(reviews)\n",
    "    else :\n",
    "        avg = 5\n",
    "\n",
    "    supplier_name =  product_supplier_name(pid)\n",
    "    return { 'order_count' : order_count , 'review_count':review_count , 'avg_stars': avg , 'supplier_name':supplier_name }"
   ]
  },
  {
   "cell_type": "code",
   "execution_count": 147,
   "metadata": {},
   "outputs": [
    {
     "data": {
      "text/plain": "[[1,\n  'ball',\n  'real madrid ball',\n  1,\n  'sports',\n  'N/A',\n  'nike',\n  5.0,\n  '/static/img/products/football.jfif',\n  None,\n  {'order_count': 1,\n   'review_count': 1,\n   'avg_stars': 4.0,\n   'supplier_name': 'Super Sports'}],\n [2,\n  'pen',\n  'a good pen',\n  1,\n  'house',\n  'N/A',\n  'pilot',\n  2.0,\n  '/static/img/products/default.png',\n  'N/A',\n  {'order_count': 0,\n   'review_count': 0,\n   'avg_stars': 5,\n   'supplier_name': 'Super Sports'}]]"
     },
     "execution_count": 147,
     "metadata": {},
     "output_type": "execute_result"
    }
   ],
   "source": [
    "res = get_relvent_results('all', 1 ,100 , 1)\n",
    "res"
   ]
  },
  {
   "cell_type": "code",
   "execution_count": 149,
   "metadata": {},
   "outputs": [
    {
     "data": {
      "text/plain": "{'order_count': 1,\n 'review_count': 1,\n 'avg_stars': 4.0,\n 'supplier_name': 'Super Sports'}"
     },
     "execution_count": 149,
     "metadata": {},
     "output_type": "execute_result"
    }
   ],
   "source": [
    "get_product_extra_info(1)"
   ]
  },
  {
   "cell_type": "code",
   "execution_count": 141,
   "metadata": {},
   "outputs": [],
   "source": [
    "def product_supplier_name(pid):\n",
    "    product = Product.query.filter_by(id=pid).first()\n",
    "    supplier = Supplier.query.filter_by(id=product.supplier_id).first()\n",
    "    return supplier.name\n"
   ]
  },
  {
   "cell_type": "code",
   "execution_count": 17,
   "metadata": {},
   "outputs": [
    {
     "ename": "NameError",
     "evalue": "name 'product_supplier_name' is not defined",
     "output_type": "error",
     "traceback": [
      "\u001b[1;31m---------------------------------------------------------------------------\u001b[0m",
      "\u001b[1;31mNameError\u001b[0m                                 Traceback (most recent call last)",
      "\u001b[1;32m<ipython-input-17-fd36423fddd6>\u001b[0m in \u001b[0;36m<module>\u001b[1;34m\u001b[0m\n\u001b[1;32m----> 1\u001b[1;33m \u001b[0mproduct_supplier_name\u001b[0m\u001b[1;33m(\u001b[0m\u001b[1;36m1\u001b[0m\u001b[1;33m)\u001b[0m\u001b[1;33m\u001b[0m\u001b[0m\n\u001b[0m",
      "\u001b[1;31mNameError\u001b[0m: name 'product_supplier_name' is not defined"
     ]
    }
   ],
   "source": [
    "product_supplier_name(1)\n"
   ]
  },
  {
   "cell_type": "code",
   "execution_count": 3,
   "metadata": {},
   "outputs": [],
   "source": [
    "from ecommerce import db\n",
    "from ecommerce.models import *\n",
    "\n",
    "supllier_id = Supplier.query.filter_by(username = 'supplier2').first().id"
   ]
  },
  {
   "cell_type": "code",
   "execution_count": 4,
   "metadata": {},
   "outputs": [
    {
     "data": {
      "text/plain": "2"
     },
     "execution_count": 4,
     "metadata": {},
     "output_type": "execute_result"
    }
   ],
   "source": [
    "supllier_id"
   ]
  },
  {
   "cell_type": "code",
   "execution_count": null,
   "metadata": {},
   "outputs": [],
   "source": []
  },
  {
   "cell_type": "code",
   "execution_count": 18,
   "metadata": {},
   "outputs": [],
   "source": [
    "from ecommerce import *\n",
    "from ecommerce.models import *"
   ]
  },
  {
   "cell_type": "code",
   "execution_count": 19,
   "metadata": {},
   "outputs": [
    {
     "name": "stdout",
     "output_type": "stream",
     "text": "[id:1 , name:ball, desc:real madrid ball, id:2 , name:pen, desc:a good pen]\n---\n[id:1 , product_id:1, buyer_id:1, supplier_id:1, qty:2, status:open, unit_price:5.0000000000, total_price:10.0000000000, reviews:SELECT reviews.id AS reviews_id, reviews.order_id AS reviews_order_id, reviews.stars AS reviews_stars, reviews.review_content AS reviews_review_content, reviews.review_time AS reviews_review_time \nFROM reviews \nWHERE ? = reviews.order_id]\n---\n[id:1 , order_id:1, stars:4, review_content:N/A, review_time:N/A]\n"
    }
   ],
   "source": [
    "sup = Supplier.query.get(1)\n",
    "products = sup.get_products()\n",
    "print (products)\n",
    "print (\"---\")\n",
    "orders = sup.get_orders()\n",
    "print (orders)\n",
    "print (\"---\")\n",
    "reviews = sup.get_reviews()\n",
    "print(reviews)"
   ]
  },
  {
   "cell_type": "code",
   "execution_count": 3,
   "metadata": {},
   "outputs": [
    {
     "name": "stdout",
     "output_type": "stream",
     "text": "[id:1 , product_id:1, buyer_id:1, supplier_id:1, qty:2, status:open, unit_price:5.0000000000, total_price:10.0000000000, reviews:SELECT reviews.id AS reviews_id, reviews.order_id AS reviews_order_id, reviews.stars AS reviews_stars, reviews.review_content AS reviews_review_content, reviews.review_time AS reviews_review_time \nFROM reviews \nWHERE ? = reviews.order_id]\n-----\n[id:1 , product_id:1, buyer_id:1, supplier_id:1, qty:2, status:open, unit_price:5.0000000000, total_price:10.0000000000, reviews:SELECT reviews.id AS reviews_id, reviews.order_id AS reviews_order_id, reviews.stars AS reviews_stars, reviews.review_content AS reviews_review_content, reviews.review_time AS reviews_review_time \nFROM reviews \nWHERE ? = reviews.order_id]\n"
    }
   ],
   "source": [
    "product = Product.query.get(1)\n",
    "product_orders = product.get_orders()\n",
    "print(product_orders)\n",
    "print('-----')\n",
    "review = product.get_review()\n",
    "print(review)"
   ]
  },
  {
   "cell_type": "code",
   "execution_count": 8,
   "metadata": {},
   "outputs": [],
   "source": [
    "from ecommerce import *\n",
    "from ecommerce.models import *"
   ]
  },
  {
   "cell_type": "code",
   "execution_count": 19,
   "metadata": {},
   "outputs": [
    {
     "data": {
      "text/plain": "int"
     },
     "execution_count": 19,
     "metadata": {},
     "output_type": "execute_result"
    }
   ],
   "source": [
    "type(product_orders[0].id)"
   ]
  },
  {
   "cell_type": "code",
   "execution_count": 9,
   "metadata": {},
   "outputs": [
    {
     "data": {
      "text/plain": "ecommerce.models.Order"
     },
     "execution_count": 9,
     "metadata": {},
     "output_type": "execute_result"
    }
   ],
   "source": [
    "orders = Order.query.all()\n",
    "type(orders[0])"
   ]
  },
  {
   "cell_type": "code",
   "execution_count": 14,
   "metadata": {},
   "outputs": [],
   "source": [
    "def ab():\n",
    "    reviews = []\n",
    "    orders = Order.query.all()\n",
    "    for order in orders:\n",
    "        rev = order.get_reviews()\n",
    "        reviews.append(rev)\n",
    "    return reviews"
   ]
  },
  {
   "cell_type": "code",
   "execution_count": 15,
   "metadata": {},
   "outputs": [
    {
     "data": {
      "text/plain": "[id:1 , order_id:1, stars:4, review_content:N/A, review_time:N/A]"
     },
     "execution_count": 15,
     "metadata": {},
     "output_type": "execute_result"
    }
   ],
   "source": [
    "ab()"
   ]
  },
  {
   "cell_type": "code",
   "execution_count": 70,
   "metadata": {},
   "outputs": [
    {
     "name": "stdout",
     "output_type": "stream",
     "text": "pid is False\n"
    }
   ],
   "source": [
    "pid=None\n",
    "if pid :\n",
    "    print ('pid is True')\n",
    "else :\n",
    "    print ('pid is False')"
   ]
  },
  {
   "cell_type": "code",
   "execution_count": 20,
   "metadata": {},
   "outputs": [],
   "source": [
    "from ecommerce import *\n",
    "from ecommerce.models import *"
   ]
  },
  {
   "cell_type": "code",
   "execution_count": 136,
   "metadata": {},
   "outputs": [
    {
     "data": {
      "text/plain": "<flask_sqlalchemy.BaseQuery at 0x1aec72b6748>"
     },
     "execution_count": 136,
     "metadata": {},
     "output_type": "execute_result"
    }
   ],
   "source": [
    "pro = Product.query\n",
    "pro"
   ]
  },
  {
   "cell_type": "code",
   "execution_count": 137,
   "metadata": {},
   "outputs": [],
   "source": [
    "pro = pro.filter_by(id=4)"
   ]
  },
  {
   "cell_type": "code",
   "execution_count": 138,
   "metadata": {},
   "outputs": [],
   "source": [
    "pro = pro.filter_by(name='Chair')"
   ]
  },
  {
   "cell_type": "code",
   "execution_count": 139,
   "metadata": {},
   "outputs": [
    {
     "data": {
      "text/plain": "[id:4 , name:Chair, desc:Comfortable chair]"
     },
     "execution_count": 139,
     "metadata": {},
     "output_type": "execute_result"
    }
   ],
   "source": [
    "pro.all()"
   ]
  },
  {
   "cell_type": "code",
   "execution_count": 101,
   "metadata": {},
   "outputs": [],
   "source": [
    "def get_orders_data():\n",
    "    orders = Order.query.filter_by(product_id=1)\n",
    "    num_of_orders = orders.count()\n",
    "    orders = orders.all()\n",
    "    sold = 0\n",
    "    for order in orders:\n",
    "        sold += order.qty\n",
    "\n",
    "    return [ orders, {'num_of_orders':num_of_orders} ,{'sold':sold} ]"
   ]
  },
  {
   "cell_type": "code",
   "execution_count": 51,
   "metadata": {},
   "outputs": [
    {
     "data": {
      "text/plain": "[[id:1 , product_id:1, buyer_id:1, supplier_id:1, qty:2, status:open, unit_price:5.0000000000, total_price:10.0000000000, reviews:SELECT reviews.id AS reviews_id, reviews.order_id AS reviews_order_id, reviews.stars AS reviews_stars, reviews.review_content AS reviews_review_content, reviews.review_time AS reviews_review_time \n  FROM reviews \n  WHERE ? = reviews.order_id], {'num_of_orders': 1}, {'sold': 2}]"
     },
     "execution_count": 51,
     "metadata": {},
     "output_type": "execute_result"
    }
   ],
   "source": [
    "get_orders_data()"
   ]
  },
  {
   "cell_type": "code",
   "execution_count": 37,
   "metadata": {},
   "outputs": [
    {
     "data": {
      "text/plain": "2"
     },
     "execution_count": 37,
     "metadata": {},
     "output_type": "execute_result"
    }
   ],
   "source": [
    "sold"
   ]
  },
  {
   "cell_type": "code",
   "execution_count": 3,
   "metadata": {},
   "outputs": [],
   "source": [
    "b = Buyer.query.first()"
   ]
  },
  {
   "cell_type": "code",
   "execution_count": 6,
   "metadata": {},
   "outputs": [
    {
     "data": {
      "text/plain": "<sqlalchemy.orm.dynamic.AppenderBaseQuery at 0x22e3c7a6160>"
     },
     "execution_count": 6,
     "metadata": {},
     "output_type": "execute_result"
    }
   ],
   "source": [
    "b.orders"
   ]
  },
  {
   "cell_type": "code",
   "execution_count": 29,
   "metadata": {},
   "outputs": [],
   "source": [
    "from ecommerce import *\n",
    "from ecommerce.models import *"
   ]
  },
  {
   "cell_type": "code",
   "execution_count": 15,
   "metadata": {},
   "outputs": [
    {
     "data": {
      "text/plain": "[]"
     },
     "execution_count": 15,
     "metadata": {},
     "output_type": "execute_result"
    }
   ],
   "source": [
    "sup = Supplier.query.get(1)\n",
    "sup.get_reviews(pid=2)"
   ]
  },
  {
   "cell_type": "code",
   "execution_count": 2,
   "metadata": {},
   "outputs": [
    {
     "ename": "NameError",
     "evalue": "name 'Product' is not defined",
     "output_type": "error",
     "traceback": [
      "\u001b[1;31m---------------------------------------------------------------------------\u001b[0m",
      "\u001b[1;31mNameError\u001b[0m                                 Traceback (most recent call last)",
      "\u001b[1;32m<ipython-input-2-0c1b2d967b44>\u001b[0m in \u001b[0;36m<module>\u001b[1;34m\u001b[0m\n\u001b[1;32m----> 1\u001b[1;33m \u001b[0mp\u001b[0m \u001b[1;33m=\u001b[0m \u001b[0mProduct\u001b[0m\u001b[1;33m.\u001b[0m\u001b[0mquery\u001b[0m\u001b[1;33m.\u001b[0m\u001b[0mfilter_by\u001b[0m\u001b[1;33m(\u001b[0m\u001b[0mid\u001b[0m\u001b[1;33m=\u001b[0m\u001b[1;36m10\u001b[0m\u001b[1;33m)\u001b[0m\u001b[1;33m.\u001b[0m\u001b[0mall\u001b[0m\u001b[1;33m(\u001b[0m\u001b[1;33m)\u001b[0m\u001b[1;33m\u001b[0m\u001b[0m\n\u001b[0m",
      "\u001b[1;31mNameError\u001b[0m: name 'Product' is not defined"
     ]
    }
   ],
   "source": [
    "p = Product.query.filter_by(id=10).all()"
   ]
  },
  {
   "cell_type": "code",
   "execution_count": 5,
   "metadata": {},
   "outputs": [
    {
     "data": {
      "text/plain": "{'_sa_instance_state': <sqlalchemy.orm.state.InstanceState at 0x13ccc2dc8d0>,\n 'email': 'anatoli@gmail.com',\n 'username': 'Anatoli',\n 'password_hash': 'pbkdf2:sha256:50000$zW0XdGc7$4c34011ccfd4c66f3d59b0e8535dca3d3376b763fb4a36a499a4980bf1df07ac',\n 'name': 'anatoli zolo',\n 'address': 'rehovot',\n 'photo': 'default.jpg'}"
     },
     "execution_count": 5,
     "metadata": {},
     "output_type": "execute_result"
    }
   ],
   "source": [
    "Anatoli.__dict__"
   ]
  },
  {
   "cell_type": "code",
   "execution_count": 24,
   "metadata": {},
   "outputs": [],
   "source": [
    "orders = Order.query.filter_by(product_id=1)"
   ]
  },
  {
   "cell_type": "code",
   "execution_count": 30,
   "metadata": {},
   "outputs": [],
   "source": [
    "Anatoli = Buyer('anatoli@gmail.com' , 'Anatoli' , 'Anatoli', name='anatoli Zolo' ,address='Rehovot' )"
   ]
  },
  {
   "cell_type": "code",
   "execution_count": 28,
   "metadata": {},
   "outputs": [
    {
     "name": "stdout",
     "output_type": "stream",
     "text": "Help on class Supplier in module ecommerce.models:\n\nclass Supplier(sqlalchemy.ext.declarative.api.Model, flask_login.mixins.UserMixin)\n |  Supplier(email, username, password, name='N/A', type_of='N/A', address='N/A', photo='default.jpg')\n |  \n |  Base class for SQLAlchemy declarative base model.\n |  \n |  To define models, subclass :attr:`db.Model <SQLAlchemy.Model>`, not this\n |  class. To customize ``db.Model``, subclass this and pass it as\n |  ``model_class`` to :class:`SQLAlchemy`.\n |  \n |  Method resolution order:\n |      Supplier\n |      sqlalchemy.ext.declarative.api.Model\n |      flask_sqlalchemy.model.Model\n |      flask_login.mixins.UserMixin\n |      builtins.object\n |  \n |  Methods defined here:\n |  \n |  __init__(self, email, username, password, name='N/A', type_of='N/A', address='N/A', photo='default.jpg')\n |  \n |  check_password(self, password)\n |  \n |  get_orders(self, status=None, pid=None)\n |  \n |  get_products(self)\n |      # gets an Supplier object and return list of his products\n |  \n |  get_reviews(self, pid=None)\n |  \n |  ----------------------------------------------------------------------\n |  Data descriptors defined here:\n |  \n |  address\n |  \n |  email\n |  \n |  id\n |  \n |  name\n |  \n |  orders\n |  \n |  password_hash\n |  \n |  photo\n |  \n |  products\n |  \n |  type_of\n |  \n |  username\n |  \n |  ----------------------------------------------------------------------\n |  Data and other attributes defined here:\n |  \n |  __mapper__ = <Mapper at 0x13ccc25b780; Supplier>\n |  \n |  __table__ = Table('suppliers', MetaData(bind=None), Column('...fault=C...\n |  \n |  __tablename__ = 'suppliers'\n |  \n |  ----------------------------------------------------------------------\n |  Data and other attributes inherited from sqlalchemy.ext.declarative.api.Model:\n |  \n |  metadata = MetaData(bind=None)\n |  \n |  query = <flask_sqlalchemy.BaseQuery object>\n |  \n |  query_class = <class 'flask_sqlalchemy.BaseQuery'>\n |      SQLAlchemy :class:`~sqlalchemy.orm.query.Query` subclass with convenience methods for querying in a web application.\n |      \n |      This is the default :attr:`~Model.query` object used for models, and exposed as :attr:`~SQLAlchemy.Query`.\n |      Override the query class for an individual model by subclassing this and setting :attr:`~Model.query_class`.\n |  \n |  ----------------------------------------------------------------------\n |  Methods inherited from flask_sqlalchemy.model.Model:\n |  \n |  __repr__(self)\n |      Return repr(self).\n |  \n |  ----------------------------------------------------------------------\n |  Data descriptors inherited from flask_sqlalchemy.model.Model:\n |  \n |  __dict__\n |      dictionary for instance variables (if defined)\n |  \n |  ----------------------------------------------------------------------\n |  Data and other attributes inherited from flask_sqlalchemy.model.Model:\n |  \n |  __weakref__ = <weakref at 0x0000013CCC2572C8; to 'DefaultMeta' at 0x00...\n |  \n |  \n |  ----------------------------------------------------------------------\n |  Methods inherited from flask_login.mixins.UserMixin:\n |  \n |  __eq__(self, other)\n |      Checks the equality of two `UserMixin` objects using `get_id`.\n |  \n |  __hash__(self, /)\n |      Return hash(self).\n |  \n |  __ne__(self, other)\n |      Checks the inequality of two `UserMixin` objects using `get_id`.\n |  \n |  get_id(self)\n |  \n |  ----------------------------------------------------------------------\n |  Data descriptors inherited from flask_login.mixins.UserMixin:\n |  \n |  is_active\n |  \n |  is_anonymous\n |  \n |  is_authenticated\n\n"
    }
   ],
   "source": [
    "help(Supplier)"
   ]
  },
  {
   "cell_type": "code",
   "execution_count": 39,
   "metadata": {},
   "outputs": [
    {
     "data": {
      "text/plain": "{'_sa_instance_state': <sqlalchemy.orm.state.InstanceState at 0x13cce4c22e8>,\n 'name': 'white desk',\n 'supplier_id': 8,\n 'price': 21,\n 'product_type': 'furniture',\n 'product_sub_type': 'N/A',\n 'desc': 'white deskת Measurements : 140X100X60',\n 'brand': 'Home depot',\n 'picture': '/static/img/products/default.jpg'}"
     },
     "execution_count": 39,
     "metadata": {},
     "output_type": "execute_result"
    }
   ],
   "source": [
    "product.__dict__"
   ]
  },
  {
   "cell_type": "code",
   "execution_count": 74,
   "metadata": {},
   "outputs": [],
   "source": [
    "product = Product('Tennis ball' , 2 , \n",
    "1350 ,product_type='sports' , desc='Tennis ball' )"
   ]
  },
  {
   "cell_type": "code",
   "execution_count": 75,
   "metadata": {},
   "outputs": [],
   "source": [
    "db.session.add(product)\n",
    "db.session.commit()"
   ]
  },
  {
   "cell_type": "code",
   "execution_count": 84,
   "metadata": {},
   "outputs": [
    {
     "name": "stderr",
     "output_type": "stream",
     "text": "c:\\Users\\user\\ecommerce-3\\env\\lib\\site-packages\\sqlalchemy\\sql\\sqltypes.py:603: SAWarning: Dialect sqlite+pysqlite does *not* support Decimal objects natively, and SQLAlchemy must convert from floating point - rounding errors and other issues may occur. Please consider storing Decimal numbers as strings or integers on this platform for lossless storage.\n  'storage.' % (dialect.name, dialect.driver))\n"
    }
   ],
   "source": [
    "ord = Order.query.get(1)\n",
    "prod = Product.query.get(ord.supplier_id)"
   ]
  },
  {
   "cell_type": "code",
   "execution_count": 85,
   "metadata": {},
   "outputs": [
    {
     "data": {
      "text/plain": "id:1 , name:ball, desc:real madrid ball"
     },
     "execution_count": 85,
     "metadata": {},
     "output_type": "execute_result"
    }
   ],
   "source": [
    "prod"
   ]
  },
  {
   "cell_type": "code",
   "execution_count": null,
   "metadata": {},
   "outputs": [],
   "source": []
  }
 ]
}