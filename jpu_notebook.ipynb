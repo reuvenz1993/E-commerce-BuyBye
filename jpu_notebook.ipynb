{
 "nbformat": 4,
 "nbformat_minor": 2,
 "metadata": {
  "language_info": {
   "name": "python",
   "codemirror_mode": {
    "name": "ipython",
    "version": 3
   },
   "version": "3.7.0-final"
  },
  "orig_nbformat": 2,
  "file_extension": ".py",
  "mimetype": "text/x-python",
  "name": "python",
  "npconvert_exporter": "python",
  "pygments_lexer": "ipython3",
  "version": 3,
  "kernelspec": {
   "name": "python37064bitenvvirtualenv3752e02dd1ee44fdaf9b5646f27fe35a",
   "display_name": "Python 3.7.0 64-bit ('env': virtualenv)"
  }
 },
 "cells": [
  {
   "cell_type": "code",
   "execution_count": 146,
   "metadata": {},
   "outputs": [],
   "source": [
    "def get_relvent_results(product_type ,min_price , max_price , min_stars):\n",
    "    if product_type != 'all':\n",
    "        temp = str(product_type)\n",
    "        products = Product.query.filter(Product.product_type==temp)\n",
    "    else:\n",
    "        products = Product.query\n",
    "\n",
    "    products = products.filter(Product.price > min_price , Product.price < max_price )\n",
    "    products = products.all()\n",
    "    product_list = []\n",
    "    for p in products:\n",
    "        product_list.append( p.as_list() )\n",
    "    for prod in product_list:\n",
    "        prod.append(get_product_extra_info(prod[0]))\n",
    "    return product_list"
   ]
  },
  {
   "cell_type": "code",
   "execution_count": 145,
   "metadata": {},
   "outputs": [],
   "source": [
    "def get_product_extra_info(pid):\n",
    "    product = Product.query.filter_by(id=pid).first()\n",
    "    if product==None:\n",
    "        print('product number : ' + str(pid) + ' not exists')\n",
    "        return False \n",
    "    \n",
    "    order_count = product.orders.count()\n",
    "    order_list = product.orders.all()\n",
    "    stars = 0\n",
    "    reviews = []\n",
    "    for order in order_list:\n",
    "        for review in order.reviews:\n",
    "            reviews.append(review)\n",
    "            stars += review.stars\n",
    "    \n",
    "    review_count = len(reviews) \n",
    "    if review_count > 0 :\n",
    "        avg = stars / len(reviews)\n",
    "    else :\n",
    "        avg = 5\n",
    "\n",
    "    supplier_name =  product_supplier_name(pid)\n",
    "    return { 'order_count' : order_count , 'review_count':review_count , 'avg_stars': avg , 'supplier_name':supplier_name }"
   ]
  },
  {
   "cell_type": "code",
   "execution_count": 147,
   "metadata": {},
   "outputs": [
    {
     "data": {
      "text/plain": "[[1,\n  'ball',\n  'real madrid ball',\n  1,\n  'sports',\n  'N/A',\n  'nike',\n  5.0,\n  '/static/img/products/football.jfif',\n  None,\n  {'order_count': 1,\n   'review_count': 1,\n   'avg_stars': 4.0,\n   'supplier_name': 'Super Sports'}],\n [2,\n  'pen',\n  'a good pen',\n  1,\n  'house',\n  'N/A',\n  'pilot',\n  2.0,\n  '/static/img/products/default.png',\n  'N/A',\n  {'order_count': 0,\n   'review_count': 0,\n   'avg_stars': 5,\n   'supplier_name': 'Super Sports'}]]"
     },
     "execution_count": 147,
     "metadata": {},
     "output_type": "execute_result"
    }
   ],
   "source": [
    "res = get_relvent_results('all', 1 ,100 , 1)\n",
    "res"
   ]
  },
  {
   "cell_type": "code",
   "execution_count": 149,
   "metadata": {},
   "outputs": [
    {
     "data": {
      "text/plain": "{'order_count': 1,\n 'review_count': 1,\n 'avg_stars': 4.0,\n 'supplier_name': 'Super Sports'}"
     },
     "execution_count": 149,
     "metadata": {},
     "output_type": "execute_result"
    }
   ],
   "source": [
    "get_product_extra_info(1)"
   ]
  },
  {
   "cell_type": "code",
   "execution_count": 141,
   "metadata": {},
   "outputs": [],
   "source": [
    "def product_supplier_name(pid):\n",
    "    product = Product.query.filter_by(id=pid).first()\n",
    "    supplier = Supplier.query.filter_by(id=product.supplier_id).first()\n",
    "    return supplier.name\n"
   ]
  },
  {
   "cell_type": "code",
   "execution_count": 17,
   "metadata": {},
   "outputs": [
    {
     "ename": "NameError",
     "evalue": "name 'product_supplier_name' is not defined",
     "output_type": "error",
     "traceback": [
      "\u001b[1;31m---------------------------------------------------------------------------\u001b[0m",
      "\u001b[1;31mNameError\u001b[0m                                 Traceback (most recent call last)",
      "\u001b[1;32m<ipython-input-17-fd36423fddd6>\u001b[0m in \u001b[0;36m<module>\u001b[1;34m\u001b[0m\n\u001b[1;32m----> 1\u001b[1;33m \u001b[0mproduct_supplier_name\u001b[0m\u001b[1;33m(\u001b[0m\u001b[1;36m1\u001b[0m\u001b[1;33m)\u001b[0m\u001b[1;33m\u001b[0m\u001b[0m\n\u001b[0m",
      "\u001b[1;31mNameError\u001b[0m: name 'product_supplier_name' is not defined"
     ]
    }
   ],
   "source": [
    "product_supplier_name(1)\n"
   ]
  },
  {
   "cell_type": "code",
   "execution_count": 3,
   "metadata": {},
   "outputs": [],
   "source": [
    "from ecommerce import db\n",
    "from ecommerce.models import *\n",
    "\n",
    "supllier_id = Supplier.query.filter_by(username = 'supplier2').first().id"
   ]
  },
  {
   "cell_type": "code",
   "execution_count": 4,
   "metadata": {},
   "outputs": [
    {
     "data": {
      "text/plain": "2"
     },
     "execution_count": 4,
     "metadata": {},
     "output_type": "execute_result"
    }
   ],
   "source": [
    "supllier_id"
   ]
  },
  {
   "cell_type": "code",
   "execution_count": null,
   "metadata": {},
   "outputs": [],
   "source": []
  },
  {
   "cell_type": "code",
   "execution_count": 18,
   "metadata": {},
   "outputs": [],
   "source": [
    "from ecommerce import *\n",
    "from ecommerce.models import *"
   ]
  },
  {
   "cell_type": "code",
   "execution_count": 19,
   "metadata": {},
   "outputs": [
    {
     "name": "stdout",
     "output_type": "stream",
     "text": "[id:1 , name:ball, desc:real madrid ball, id:2 , name:pen, desc:a good pen]\n---\n[id:1 , product_id:1, buyer_id:1, supplier_id:1, qty:2, status:open, unit_price:5.0000000000, total_price:10.0000000000, reviews:SELECT reviews.id AS reviews_id, reviews.order_id AS reviews_order_id, reviews.stars AS reviews_stars, reviews.review_content AS reviews_review_content, reviews.review_time AS reviews_review_time \nFROM reviews \nWHERE ? = reviews.order_id]\n---\n[id:1 , order_id:1, stars:4, review_content:N/A, review_time:N/A]\n"
    }
   ],
   "source": [
    "sup = Supplier.query.get(1)\n",
    "products = sup.get_products()\n",
    "print (products)\n",
    "print (\"---\")\n",
    "orders = sup.get_orders()\n",
    "print (orders)\n",
    "print (\"---\")\n",
    "reviews = sup.get_reviews()\n",
    "print(reviews)"
   ]
  },
  {
   "cell_type": "code",
   "execution_count": 3,
   "metadata": {},
   "outputs": [
    {
     "name": "stdout",
     "output_type": "stream",
     "text": "[id:1 , product_id:1, buyer_id:1, supplier_id:1, qty:2, status:open, unit_price:5.0000000000, total_price:10.0000000000, reviews:SELECT reviews.id AS reviews_id, reviews.order_id AS reviews_order_id, reviews.stars AS reviews_stars, reviews.review_content AS reviews_review_content, reviews.review_time AS reviews_review_time \nFROM reviews \nWHERE ? = reviews.order_id]\n-----\n[id:1 , product_id:1, buyer_id:1, supplier_id:1, qty:2, status:open, unit_price:5.0000000000, total_price:10.0000000000, reviews:SELECT reviews.id AS reviews_id, reviews.order_id AS reviews_order_id, reviews.stars AS reviews_stars, reviews.review_content AS reviews_review_content, reviews.review_time AS reviews_review_time \nFROM reviews \nWHERE ? = reviews.order_id]\n"
    }
   ],
   "source": [
    "product = Product.query.get(1)\n",
    "product_orders = product.get_orders()\n",
    "print(product_orders)\n",
    "print('-----')\n",
    "review = product.get_review()\n",
    "print(review)"
   ]
  },
  {
   "cell_type": "code",
   "execution_count": 1,
   "metadata": {},
   "outputs": [],
   "source": [
    "from ecommerce import *\n",
    "from ecommerce.models import *"
   ]
  },
  {
   "cell_type": "code",
   "execution_count": 19,
   "metadata": {},
   "outputs": [
    {
     "data": {
      "text/plain": "int"
     },
     "execution_count": 19,
     "metadata": {},
     "output_type": "execute_result"
    }
   ],
   "source": [
    "type(product_orders[0].id)"
   ]
  },
  {
   "cell_type": "code",
   "execution_count": 9,
   "metadata": {},
   "outputs": [
    {
     "data": {
      "text/plain": "ecommerce.models.Order"
     },
     "execution_count": 9,
     "metadata": {},
     "output_type": "execute_result"
    }
   ],
   "source": [
    "orders = Order.query.all()\n",
    "type(orders[0])"
   ]
  },
  {
   "cell_type": "code",
   "execution_count": 14,
   "metadata": {},
   "outputs": [],
   "source": [
    "def ab():\n",
    "    reviews = []\n",
    "    orders = Order.query.all()\n",
    "    for order in orders:\n",
    "        rev = order.get_reviews()\n",
    "        reviews.append(rev)\n",
    "    return reviews"
   ]
  },
  {
   "cell_type": "code",
   "execution_count": 15,
   "metadata": {},
   "outputs": [
    {
     "data": {
      "text/plain": "[id:1 , order_id:1, stars:4, review_content:N/A, review_time:N/A]"
     },
     "execution_count": 15,
     "metadata": {},
     "output_type": "execute_result"
    }
   ],
   "source": [
    "ab()"
   ]
  },
  {
   "cell_type": "code",
   "execution_count": 70,
   "metadata": {},
   "outputs": [
    {
     "name": "stdout",
     "output_type": "stream",
     "text": "pid is False\n"
    }
   ],
   "source": [
    "pid=None\n",
    "if pid :\n",
    "    print ('pid is True')\n",
    "else :\n",
    "    print ('pid is False')"
   ]
  },
  {
   "cell_type": "code",
   "execution_count": 1,
   "metadata": {},
   "outputs": [],
   "source": [
    "from ecommerce import *\n",
    "from ecommerce.models import *"
   ]
  },
  {
   "cell_type": "code",
   "execution_count": 136,
   "metadata": {},
   "outputs": [
    {
     "data": {
      "text/plain": "<flask_sqlalchemy.BaseQuery at 0x1aec72b6748>"
     },
     "execution_count": 136,
     "metadata": {},
     "output_type": "execute_result"
    }
   ],
   "source": [
    "pro = Product.query\n",
    "pro"
   ]
  },
  {
   "cell_type": "code",
   "execution_count": 137,
   "metadata": {},
   "outputs": [],
   "source": [
    "pro = pro.filter_by(id=4)"
   ]
  },
  {
   "cell_type": "code",
   "execution_count": 138,
   "metadata": {},
   "outputs": [],
   "source": [
    "pro = pro.filter_by(name='Chair')"
   ]
  },
  {
   "cell_type": "code",
   "execution_count": 139,
   "metadata": {},
   "outputs": [
    {
     "data": {
      "text/plain": "[id:4 , name:Chair, desc:Comfortable chair]"
     },
     "execution_count": 139,
     "metadata": {},
     "output_type": "execute_result"
    }
   ],
   "source": [
    "pro.all()"
   ]
  },
  {
   "cell_type": "code",
   "execution_count": 101,
   "metadata": {},
   "outputs": [],
   "source": [
    "def get_orders_data():\n",
    "    orders = Order.query.filter_by(product_id=1)\n",
    "    num_of_orders = orders.count()\n",
    "    orders = orders.all()\n",
    "    sold = 0\n",
    "    for order in orders:\n",
    "        sold += order.qty\n",
    "\n",
    "    return [ orders, {'num_of_orders':num_of_orders} ,{'sold':sold} ]"
   ]
  },
  {
   "cell_type": "code",
   "execution_count": 51,
   "metadata": {},
   "outputs": [
    {
     "data": {
      "text/plain": "[[id:1 , product_id:1, buyer_id:1, supplier_id:1, qty:2, status:open, unit_price:5.0000000000, total_price:10.0000000000, reviews:SELECT reviews.id AS reviews_id, reviews.order_id AS reviews_order_id, reviews.stars AS reviews_stars, reviews.review_content AS reviews_review_content, reviews.review_time AS reviews_review_time \n  FROM reviews \n  WHERE ? = reviews.order_id], {'num_of_orders': 1}, {'sold': 2}]"
     },
     "execution_count": 51,
     "metadata": {},
     "output_type": "execute_result"
    }
   ],
   "source": [
    "get_orders_data()"
   ]
  },
  {
   "cell_type": "code",
   "execution_count": 37,
   "metadata": {},
   "outputs": [
    {
     "data": {
      "text/plain": "2"
     },
     "execution_count": 37,
     "metadata": {},
     "output_type": "execute_result"
    }
   ],
   "source": [
    "sold"
   ]
  },
  {
   "cell_type": "code",
   "execution_count": 3,
   "metadata": {},
   "outputs": [],
   "source": [
    "b = Buyer.query.first()"
   ]
  },
  {
   "cell_type": "code",
   "execution_count": 6,
   "metadata": {},
   "outputs": [
    {
     "data": {
      "text/plain": "<sqlalchemy.orm.dynamic.AppenderBaseQuery at 0x22e3c7a6160>"
     },
     "execution_count": 6,
     "metadata": {},
     "output_type": "execute_result"
    }
   ],
   "source": [
    "b.orders"
   ]
  },
  {
   "cell_type": "code",
   "execution_count": 2,
   "metadata": {},
   "outputs": [],
   "source": [
    "from ecommerce import *\n",
    "from ecommerce.models import *"
   ]
  },
  {
   "cell_type": "code",
   "execution_count": 3,
   "metadata": {},
   "outputs": [],
   "source": [
    "prod = Product.query.get(1)\n",
    "res = prod.get_orders_info(order_count=True , units_sold=True)"
   ]
  },
  {
   "cell_type": "code",
   "execution_count": 31,
   "metadata": {},
   "outputs": [
    {
     "data": {
      "text/plain": "{'get_orders_info': [<Order 1>, <Order 2>, <Order 9>, <Order 25>, <Order 37>],\n 'units_sold': 9,\n 'order_count': 5}"
     },
     "execution_count": 31,
     "metadata": {},
     "output_type": "execute_result"
    }
   ],
   "source": [
    "res"
   ]
  },
  {
   "cell_type": "code",
   "execution_count": 61,
   "metadata": {},
   "outputs": [
    {
     "data": {
      "text/plain": "9"
     },
     "execution_count": 61,
     "metadata": {},
     "output_type": "execute_result"
    }
   ],
   "source": [
    "res = Product.query.get(1).get_orders_info(order_count=True , units_sold=True)['units_sold']\n",
    "res"
   ]
  },
  {
   "cell_type": "code",
   "execution_count": 30,
   "metadata": {},
   "outputs": [],
   "source": [
    "Anatoli = Buyer('anatoli@gmail.com' , 'Anatoli' , 'Anatoli', name='anatoli Zolo' ,address='Rehovot' )"
   ]
  },
  {
   "cell_type": "code",
   "execution_count": 39,
   "metadata": {},
   "outputs": [
    {
     "data": {
      "text/plain": "{'_sa_instance_state': <sqlalchemy.orm.state.InstanceState at 0x13cce4c22e8>,\n 'name': 'white desk',\n 'supplier_id': 8,\n 'price': 21,\n 'product_type': 'furniture',\n 'product_sub_type': 'N/A',\n 'desc': 'white deskת Measurements : 140X100X60',\n 'brand': 'Home depot',\n 'picture': '/static/img/products/default.jpg'}"
     },
     "execution_count": 39,
     "metadata": {},
     "output_type": "execute_result"
    }
   ],
   "source": [
    "product.__dict__"
   ]
  },
  {
   "cell_type": "code",
   "execution_count": 74,
   "metadata": {},
   "outputs": [],
   "source": [
    "product = Product('Tennis ball' , 2 , \n",
    "1350 ,product_type='sports' , desc='Tennis ball' )"
   ]
  },
  {
   "cell_type": "code",
   "execution_count": 43,
   "metadata": {},
   "outputs": [
    {
     "data": {
      "text/plain": "[<Reviews 4>, None, <Reviews 7>, <Reviews 8>]"
     },
     "execution_count": 43,
     "metadata": {},
     "output_type": "execute_result"
    }
   ],
   "source": [
    "temp\n",
    "#temp['get_reviews'][2].__dict__"
   ]
  },
  {
   "cell_type": "code",
   "execution_count": 63,
   "metadata": {},
   "outputs": [],
   "source": [
    "sup = Supplier.query.get(8)\n",
    "temp = sup.get_reviews(avg_star_ranking=True)"
   ]
  },
  {
   "cell_type": "code",
   "execution_count": 64,
   "metadata": {},
   "outputs": [
    {
     "data": {
      "text/plain": "[<Reviews 4>, None, <Reviews 7>, <Reviews 8>]"
     },
     "execution_count": 64,
     "metadata": {},
     "output_type": "execute_result"
    }
   ],
   "source": [
    "temp"
   ]
  },
  {
   "cell_type": "code",
   "execution_count": 17,
   "metadata": {},
   "outputs": [],
   "source": [
    "a =db.session.query(Supplier,Supplier.name ,db.func.count(Supplier.id), db.func.avg(Reviews.stars)).join(Product, Product.supplier_id == Supplier.id).join(Order, Order.product_id == Product.id).join(Reviews , Reviews.order_id == Order.id ).group_by(Supplier).all()"
   ]
  },
  {
   "cell_type": "code",
   "execution_count": 18,
   "metadata": {},
   "outputs": [
    {
     "data": {
      "text/plain": "[(<Supplier 1>, 'Super Sports', 6, 3.3333333333333335),\n (<Supplier 3>, 'I-store digital', 4, 3.25),\n (<Supplier 4>, 'KSP', 1, 5.0),\n (<Supplier 5>, 'Bug', 3, 3.3333333333333335),\n (<Supplier 8>, 'Home depot', 3, 4.0)]"
     },
     "execution_count": 18,
     "metadata": {},
     "output_type": "execute_result"
    }
   ],
   "source": [
    "a"
   ]
  },
  {
   "cell_type": "code",
   "execution_count": 9,
   "metadata": {},
   "outputs": [
    {
     "data": {
      "text/plain": "[<Order 1>, <Order 2>, <Order 9>, <Order 25>, <Order 37>]"
     },
     "execution_count": 9,
     "metadata": {},
     "output_type": "execute_result"
    }
   ],
   "source": [
    "Product.query.get(1).orders.all()"
   ]
  },
  {
   "cell_type": "code",
   "execution_count": 4,
   "metadata": {},
   "outputs": [
    {
     "data": {
      "text/plain": "{'get_product_orders': [<Order 41>], 'sum_orders': 1, 'sum_units': 4}"
     },
     "execution_count": 4,
     "metadata": {},
     "output_type": "execute_result"
    }
   ],
   "source": [
    "a = Product.query.get(3).get_product_orders(sum_orders=True, sum_units=True)\n",
    "a"
   ]
  },
  {
   "cell_type": "code",
   "execution_count": 58,
   "metadata": {},
   "outputs": [
    {
     "data": {
      "text/plain": "[(<Product 1>, 4.0),\n (<Product 5>, 5.0),\n (<Product 6>, 3.5),\n (<Product 9>, 5.0),\n (<Product 11>, 2.0),\n (<Product 12>, 3.0),\n (<Product 13>, 5.0),\n (<Product 14>, 2.6666666666666665),\n (<Product 16>, 5.0),\n (<Product 19>, 3.6666666666666665),\n (<Product 20>, 2.5)]"
     },
     "execution_count": 58,
     "metadata": {},
     "output_type": "execute_result"
    }
   ],
   "source": [
    "b =db.session.query(Product, db.func.avg(Reviews.stars)).join(Supplier, Product.supplier_id == Supplier.id).join(Order, Order.product_id == Product.id).join(Reviews , Reviews.order_id == Order.id ).group_by(Product).all()\n",
    "b"
   ]
  },
  {
   "cell_type": "code",
   "execution_count": 39,
   "metadata": {},
   "outputs": [],
   "source": [
    "def get_reviews(pid):\n",
    "    res = product_avg = db.session.query(Product , db.func.avg(Reviews.stars)).join(Order, Order.product_id == Product.id ).join(Reviews , Reviews.order_id == Order.id).group_by(Product).all()\n",
    "    if res == []:\n",
    "        res = 'no reviews yet'\n",
    "\n",
    "    return res"
   ]
  },
  {
   "cell_type": "code",
   "execution_count": 40,
   "metadata": {},
   "outputs": [
    {
     "data": {
      "text/plain": "[(<Product 1>, 4.0),\n (<Product 5>, 5.0),\n (<Product 6>, 3.5),\n (<Product 9>, 5.0),\n (<Product 11>, 2.0),\n (<Product 12>, 3.0),\n (<Product 13>, 5.0),\n (<Product 14>, 2.6666666666666665),\n (<Product 16>, 5.0),\n (<Product 19>, 3.6666666666666665),\n (<Product 20>, 2.5)]"
     },
     "execution_count": 40,
     "metadata": {},
     "output_type": "execute_result"
    }
   ],
   "source": [
    "get_reviews(2)"
   ]
  },
  {
   "cell_type": "code",
   "execution_count": 114,
   "metadata": {},
   "outputs": [
    {
     "data": {
      "text/plain": "{'product_get_all_reviews': [], 'avg_star_ranking': False}"
     },
     "execution_count": 114,
     "metadata": {},
     "output_type": "execute_result"
    }
   ],
   "source": [
    "def product_get_all_reviews(pid , avg_star_ranking=False):\n",
    "    responce = dict()\n",
    "    res = db.session.query(Reviews).join(Order, Order.id == Reviews.order_id ).filter(Order.product_id == pid).all()\n",
    "    #if res == []:\n",
    "       # res = 'no reviews yet'\n",
    "\n",
    "    responce['product_get_all_reviews'] = res\n",
    "\n",
    "    if avg_star_ranking:\n",
    "        avg = db.session.query(db.func.avg(Reviews.stars)).join(Order, Order.id == Reviews.order_id ).filter(Order.product_id == pid).all()[0][0]\n",
    "        if avg == None:\n",
    "            avg = False\n",
    "        responce['avg_star_ranking'] = avg\n",
    "    \n",
    "    return responce\n",
    "\n",
    "product_get_all_reviews(38 , avg_star_ranking=True)\n"
   ]
  },
  {
   "cell_type": "code",
   "execution_count": 46,
   "metadata": {},
   "outputs": [
    {
     "data": {
      "text/plain": "1"
     },
     "execution_count": 46,
     "metadata": {},
     "output_type": "execute_result"
    }
   ],
   "source": [
    "len(product_get_all_reviews(5))"
   ]
  },
  {
   "cell_type": "code",
   "execution_count": 102,
   "metadata": {},
   "outputs": [],
   "source": [
    "z = db.session.query(db.func.avg(Reviews.stars)).join(Order, Order.id == Reviews.order_id ).filter(Order.product_id == 2).all()[0][0]\n",
    "z"
   ]
  },
  {
   "cell_type": "code",
   "execution_count": 3,
   "metadata": {},
   "outputs": [
    {
     "data": {
      "text/plain": "{'get_review': [<Reviews 1>], 'avg': 4.0}"
     },
     "execution_count": 3,
     "metadata": {},
     "output_type": "execute_result"
    }
   ],
   "source": [
    "p = Product.query.get(1).get_review(avg=True)\n",
    "p"
   ]
  },
  {
   "cell_type": "code",
   "execution_count": 23,
   "metadata": {},
   "outputs": [
    {
     "data": {
      "text/plain": "{'get_orders': [<Order 1>, <Order 2>, <Order 9>, <Order 25>, <Order 37>],\n 'sum_orders': 5,\n 'sum_units': [(9)]}"
     },
     "execution_count": 23,
     "metadata": {},
     "output_type": "execute_result"
    }
   ],
   "source": [
    "def get_product_orders(pid , sum_orders=False , sum_units=False):\n",
    "    responce = dict()\n",
    "    responce['get_product_orders'] = db.session.query(Order).join(Product, Product.id == Order.product_id).filter(Order.product_id == pid).all()\n",
    "    #if res == []:\n",
    "       # res = 'no reviews yet'\n",
    "    if sum_orders:\n",
    "        responce['sum_orders'] = len(responce['get_orders'])\n",
    "\n",
    "    if sum_units:\n",
    "        responce['sum_units'] = db.session.query(db.func.sum(Order.qty)).join(Product, Product.id == Order.product_id).filter(Order.product_id == pid).all()\n",
    "\n",
    "    return responce\n",
    "\n",
    "get_orders(1, sum_orders=True , sum_units=True)\n"
   ]
  },
  {
   "cell_type": "code",
   "execution_count": 1,
   "metadata": {},
   "outputs": [],
   "source": [
    "from ecommerce import *\n",
    "from ecommerce.models import *"
   ]
  },
  {
   "cell_type": "code",
   "execution_count": 5,
   "metadata": {},
   "outputs": [
    {
     "data": {
      "text/plain": "{'_sa_instance_state': <sqlalchemy.orm.state.InstanceState at 0x14d342efbe0>,\n 'qty': 2,\n 'supplier_id': 5,\n 'product_id': 12,\n 'total_price': Decimal('6.0000000000'),\n 'status': 'Closed',\n 'order_time': datetime.datetime(2020, 1, 17, 15, 26, 14, 200081),\n 'buyer_id': 1,\n 'id': 8,\n 'unit_price': Decimal('3.0000000000'),\n 'product': <Product 12>,\n 'supplier': <Supplier 5>,\n 'the_buyer': <Buyer 1>}"
     },
     "execution_count": 5,
     "metadata": {},
     "output_type": "execute_result"
    }
   ],
   "source": [
    "o.__dict__"
   ]
  },
  {
   "cell_type": "code",
   "execution_count": 2,
   "metadata": {},
   "outputs": [
    {
     "name": "stderr",
     "output_type": "stream",
     "text": "c:\\Users\\user\\ecommerce-3\\env\\lib\\site-packages\\sqlalchemy\\sql\\sqltypes.py:603: SAWarning: Dialect sqlite+pysqlite does *not* support Decimal objects natively, and SQLAlchemy must convert from floating point - rounding errors and other issues may occur. Please consider storing Decimal numbers as strings or integers on this platform for lossless storage.\n  'storage.' % (dialect.name, dialect.driver))\n"
    }
   ],
   "source": [
    "order = Order(3,2,4)\n",
    "db.session.add(order)\n",
    "db.session.commit()"
   ]
  },
  {
   "cell_type": "code",
   "execution_count": 12,
   "metadata": {},
   "outputs": [
    {
     "data": {
      "text/plain": "{'get_supplier_reviews': [<Reviews 17>], 'avg': 5.0}"
     },
     "execution_count": 12,
     "metadata": {},
     "output_type": "execute_result"
    }
   ],
   "source": [
    "def get_supplier_reviews(sid , avg=False):\n",
    "    responce = dict()\n",
    "    responce['get_supplier_reviews']= db.session.query(Reviews).join(Order , Reviews.order_id == Order.id ).filter(Order.supplier_id == sid ).all()\n",
    "\n",
    "    if avg:\n",
    "        responce['avg'] = db.session.query(db.func.avg(Reviews.stars)).join(Order, Order.id == Reviews.order_id ).filter(Order.supplier_id == sid).all()[0][0]\n",
    "\n",
    "    return responce\n",
    "\n",
    "get_supplier_reviews(4 , avg=True)"
   ]
  },
  {
   "cell_type": "code",
   "execution_count": 12,
   "metadata": {},
   "outputs": [
    {
     "ename": "TypeError",
     "evalue": "filter_by() takes 1 positional argument but 2 were given",
     "output_type": "error",
     "traceback": [
      "\u001b[1;31m---------------------------------------------------------------------------\u001b[0m",
      "\u001b[1;31mTypeError\u001b[0m                                 Traceback (most recent call last)",
      "\u001b[1;32m<ipython-input-12-a7931416231e>\u001b[0m in \u001b[0;36m<module>\u001b[1;34m\u001b[0m\n\u001b[1;32m----> 1\u001b[1;33m \u001b[0mSupplier\u001b[0m\u001b[1;33m.\u001b[0m\u001b[0mquery\u001b[0m\u001b[1;33m.\u001b[0m\u001b[0mget\u001b[0m\u001b[1;33m(\u001b[0m\u001b[1;36m5\u001b[0m\u001b[1;33m)\u001b[0m\u001b[1;33m.\u001b[0m\u001b[0mget_orders\u001b[0m\u001b[1;33m(\u001b[0m\u001b[0mincome\u001b[0m\u001b[1;33m=\u001b[0m\u001b[1;32mTrue\u001b[0m \u001b[1;33m,\u001b[0m \u001b[0mcount\u001b[0m\u001b[1;33m=\u001b[0m\u001b[1;32mTrue\u001b[0m \u001b[1;33m,\u001b[0m \u001b[0mstatus\u001b[0m\u001b[1;33m=\u001b[0m\u001b[1;34m'Closed'\u001b[0m\u001b[1;33m)\u001b[0m\u001b[1;33m\u001b[0m\u001b[0m\n\u001b[0m",
      "\u001b[1;32mc:\\Users\\user\\ecommerce-5\\ecommerce\\models.py\u001b[0m in \u001b[0;36mget_orders\u001b[1;34m(self, status, pid, count, income)\u001b[0m\n\u001b[0;32m    151\u001b[0m         \u001b[0morders\u001b[0m \u001b[1;33m=\u001b[0m \u001b[0mOrder\u001b[0m\u001b[1;33m.\u001b[0m\u001b[0mquery\u001b[0m\u001b[1;33m.\u001b[0m\u001b[0mfilter_by\u001b[0m\u001b[1;33m(\u001b[0m\u001b[0msupplier_id\u001b[0m \u001b[1;33m=\u001b[0m \u001b[0mself\u001b[0m\u001b[1;33m.\u001b[0m\u001b[0mid\u001b[0m\u001b[1;33m)\u001b[0m\u001b[1;33m\u001b[0m\u001b[0m\n\u001b[0;32m    152\u001b[0m         \u001b[1;32mif\u001b[0m \u001b[0mstatus\u001b[0m \u001b[1;33m:\u001b[0m\u001b[1;33m\u001b[0m\u001b[0m\n\u001b[1;32m--> 153\u001b[1;33m             \u001b[0morders\u001b[0m \u001b[1;33m=\u001b[0m \u001b[0morders\u001b[0m\u001b[1;33m.\u001b[0m\u001b[0mfilter_by\u001b[0m\u001b[1;33m(\u001b[0m\u001b[0mOrder\u001b[0m\u001b[1;33m.\u001b[0m\u001b[0mstatus\u001b[0m\u001b[1;33m.\u001b[0m\u001b[0min_\u001b[0m\u001b[1;33m(\u001b[0m\u001b[0mstatus\u001b[0m\u001b[1;33m)\u001b[0m\u001b[1;33m)\u001b[0m\u001b[1;33m\u001b[0m\u001b[0m\n\u001b[0m\u001b[0;32m    154\u001b[0m         \u001b[1;32mif\u001b[0m \u001b[0mpid\u001b[0m \u001b[1;33m:\u001b[0m\u001b[1;33m\u001b[0m\u001b[0m\n\u001b[0;32m    155\u001b[0m             \u001b[0morders\u001b[0m \u001b[1;33m=\u001b[0m \u001b[0morders\u001b[0m\u001b[1;33m.\u001b[0m\u001b[0mfilter\u001b[0m\u001b[1;33m(\u001b[0m\u001b[0mOrder\u001b[0m\u001b[1;33m.\u001b[0m\u001b[0mproduct_id\u001b[0m\u001b[1;33m.\u001b[0m\u001b[0min_\u001b[0m\u001b[1;33m(\u001b[0m\u001b[0mlis\u001b[0m\u001b[1;33m)\u001b[0m\u001b[1;33m)\u001b[0m\u001b[1;33m\u001b[0m\u001b[0m\n",
      "\u001b[1;31mTypeError\u001b[0m: filter_by() takes 1 positional argument but 2 were given"
     ]
    }
   ],
   "source": [
    "Supplier.query.get(5).get_orders(income=True , count=True , status='Closed')"
   ]
  },
  {
   "cell_type": "code",
   "execution_count": 6,
   "metadata": {},
   "outputs": [
    {
     "data": {
      "text/plain": "{'get_orders': []}"
     },
     "execution_count": 6,
     "metadata": {},
     "output_type": "execute_result"
    }
   ],
   "source": [
    "sup."
   ]
  },
  {
   "cell_type": "code",
   "execution_count": 77,
   "metadata": {},
   "outputs": [],
   "source": [
    "lis = [1,8,9]"
   ]
  },
  {
   "cell_type": "code",
   "execution_count": 78,
   "metadata": {},
   "outputs": [],
   "source": [
    "orders = Order.query.filter_by(supplier_id=1)"
   ]
  },
  {
   "cell_type": "code",
   "execution_count": 79,
   "metadata": {},
   "outputs": [],
   "source": [
    "orders = orders.filter(Order.product_id.in_(lis))"
   ]
  },
  {
   "cell_type": "code",
   "execution_count": 80,
   "metadata": {},
   "outputs": [
    {
     "data": {
      "text/plain": "[<Order 1>, <Order 2>, <Order 9>, <Order 25>, <Order 37>]"
     },
     "execution_count": 80,
     "metadata": {},
     "output_type": "execute_result"
    }
   ],
   "source": [
    "orders.all()"
   ]
  },
  {
   "cell_type": "code",
   "execution_count": 6,
   "metadata": {},
   "outputs": [
    {
     "data": {
      "text/plain": "16"
     },
     "execution_count": 6,
     "metadata": {},
     "output_type": "execute_result"
    }
   ],
   "source": [
    "Order.query.filter_by(supplier_id = 1).c"
   ]
  },
  {
   "cell_type": "code",
   "execution_count": 10,
   "metadata": {},
   "outputs": [
    {
     "data": {
      "text/plain": "Decimal('18.0000000000')"
     },
     "execution_count": 10,
     "metadata": {},
     "output_type": "execute_result"
    }
   ],
   "source": [
    "db.session.query(db.func.sum(Order.total_price)).join(Supplier, Order.supplier_id == Supplier.id ).filter(Order.supplier_id == 4).all()[0][0]"
   ]
  },
  {
   "cell_type": "code",
   "execution_count": 23,
   "metadata": {},
   "outputs": [],
   "source": [
    "status = 'abc'"
   ]
  },
  {
   "cell_type": "code",
   "execution_count": 24,
   "metadata": {},
   "outputs": [],
   "source": [
    "if status is not list:\n",
    "    temp = status\n",
    "    status = list().append(temp)"
   ]
  },
  {
   "cell_type": "code",
   "execution_count": 26,
   "metadata": {},
   "outputs": [
    {
     "ename": "TypeError",
     "evalue": "'NoneType' object is not subscriptable",
     "output_type": "error",
     "traceback": [
      "\u001b[1;31m---------------------------------------------------------------------------\u001b[0m",
      "\u001b[1;31mTypeError\u001b[0m                                 Traceback (most recent call last)",
      "\u001b[1;32m<ipython-input-26-101445bdffde>\u001b[0m in \u001b[0;36m<module>\u001b[1;34m\u001b[0m\n\u001b[1;32m----> 1\u001b[1;33m \u001b[0mstatus\u001b[0m\u001b[1;33m[\u001b[0m\u001b[1;36m0\u001b[0m\u001b[1;33m]\u001b[0m\u001b[1;33m\u001b[0m\u001b[0m\n\u001b[0m",
      "\u001b[1;31mTypeError\u001b[0m: 'NoneType' object is not subscriptable"
     ]
    }
   ],
   "source": [
    "status[0]"
   ]
  },
  {
   "cell_type": "code",
   "execution_count": null,
   "metadata": {},
   "outputs": [],
   "source": []
  }
 ]
}