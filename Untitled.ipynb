{
 "cells": [
  {
   "cell_type": "code",
   "execution_count": 7,
   "metadata": {},
   "outputs": [],
   "source": [
    "from ecommerce import *\n",
    "from ecommerce.models import *\n",
    "from sqlalchemy import or_\n",
    "from ecommerce.buyer_functions import *\n",
    "from ecommerce.supplier_functions import *\n",
    "from ecommerce.api import *\n",
    "import pdb\n",
    "from decimal import *\n",
    "\n",
    "#category_schema = Categoryschema(many=True)\n",
    "buyer_schema = Buyerschema(many=True)\n",
    "supllier_schema = SupplierSchema(many=True)\n",
    "order_schema = OrderSchema(many=True)\n",
    "cart_schema = Cartschema(many=True)\n",
    "product_schema = ProductSchema(many=True)"
   ]
  },
  {
   "cell_type": "code",
   "execution_count": 1,
   "metadata": {},
   "outputs": [],
   "source": [
    "from ecommerce import *\n",
    "from ecommerce.models import *"
   ]
  },
  {
   "cell_type": "code",
   "execution_count": 2,
   "metadata": {},
   "outputs": [],
   "source": [
    "db.create_all()"
   ]
  },
  {
   "cell_type": "code",
   "execution_count": 3,
   "metadata": {},
   "outputs": [],
   "source": [
    "sup = Supplier.query.get(5)"
   ]
  },
  {
   "cell_type": "code",
   "execution_count": 4,
   "metadata": {},
   "outputs": [
    {
     "data": {
      "text/plain": [
       "4.22"
      ]
     },
     "execution_count": 4,
     "metadata": {},
     "output_type": "execute_result"
    }
   ],
   "source": [
    "sup.review_avg"
   ]
  },
  {
   "cell_type": "code",
   "execution_count": 2,
   "metadata": {},
   "outputs": [],
   "source": [
    "buyer = Buyer.query.get(8)"
   ]
  },
  {
   "cell_type": "code",
   "execution_count": 8,
   "metadata": {},
   "outputs": [
    {
     "data": {
      "text/plain": [
       "[<Cart 105>, <Cart 169>, <Cart 25>]"
      ]
     },
     "execution_count": 8,
     "metadata": {},
     "output_type": "execute_result"
    }
   ],
   "source": [
    "buyer.cart.join(Order).join(Reviews).all()"
   ]
  },
  {
   "cell_type": "code",
   "execution_count": 14,
   "metadata": {},
   "outputs": [
    {
     "data": {
      "text/plain": [
       "Decimal('3.0000000000')"
      ]
     },
     "execution_count": 14,
     "metadata": {},
     "output_type": "execute_result"
    }
   ],
   "source": [
    "buyer.cart[0].cart_product.price"
   ]
  },
  {
   "cell_type": "code",
   "execution_count": 10,
   "metadata": {},
   "outputs": [
    {
     "data": {
      "text/plain": [
       "[{'buyer_message': None,\n",
       "  'cart_buyer': 2,\n",
       "  'id': 207,\n",
       "  'order_time': None,\n",
       "  'the_status': 1,\n",
       "  'add_time': '2020-02-02T14:05:58.115542',\n",
       "  'cart_product': 4,\n",
       "  'order_id': None,\n",
       "  'purchase_way': 'via cart',\n",
       "  'qty': '2',\n",
       "  'cancal_time': None},\n",
       " {'buyer_message': None,\n",
       "  'cart_buyer': 2,\n",
       "  'id': 209,\n",
       "  'order_time': None,\n",
       "  'the_status': 1,\n",
       "  'add_time': '2020-02-02T14:05:58.221260',\n",
       "  'cart_product': 7,\n",
       "  'order_id': None,\n",
       "  'purchase_way': 'via cart',\n",
       "  'qty': '1',\n",
       "  'cancal_time': None},\n",
       " {'buyer_message': None,\n",
       "  'cart_buyer': 2,\n",
       "  'id': 211,\n",
       "  'order_time': None,\n",
       "  'the_status': 1,\n",
       "  'add_time': '2020-02-02T14:05:58.330966',\n",
       "  'cart_product': 7,\n",
       "  'order_id': None,\n",
       "  'purchase_way': 'via cart',\n",
       "  'qty': '1',\n",
       "  'cancal_time': None},\n",
       " {'buyer_message': None,\n",
       "  'cart_buyer': 2,\n",
       "  'id': 222,\n",
       "  'order_time': None,\n",
       "  'the_status': 1,\n",
       "  'add_time': '2020-02-02T14:05:58.977238',\n",
       "  'cart_product': 2,\n",
       "  'order_id': None,\n",
       "  'purchase_way': 'via cart',\n",
       "  'qty': '2',\n",
       "  'cancal_time': None},\n",
       " {'buyer_message': None,\n",
       "  'cart_buyer': 2,\n",
       "  'id': 232,\n",
       "  'order_time': None,\n",
       "  'the_status': 1,\n",
       "  'add_time': '2020-02-04T00:24:00.584362',\n",
       "  'cart_product': 12,\n",
       "  'order_id': None,\n",
       "  'purchase_way': 'via cart',\n",
       "  'qty': '2',\n",
       "  'cancal_time': None},\n",
       " {'buyer_message': None,\n",
       "  'cart_buyer': 2,\n",
       "  'id': 233,\n",
       "  'order_time': None,\n",
       "  'the_status': 1,\n",
       "  'add_time': '2020-02-04T00:30:11.642979',\n",
       "  'cart_product': 2,\n",
       "  'order_id': None,\n",
       "  'purchase_way': 'via cart',\n",
       "  'qty': '3',\n",
       "  'cancal_time': None},\n",
       " {'buyer_message': None,\n",
       "  'cart_buyer': 2,\n",
       "  'id': 234,\n",
       "  'order_time': None,\n",
       "  'the_status': 1,\n",
       "  'add_time': '2020-02-04T00:31:54.914947',\n",
       "  'cart_product': 2,\n",
       "  'order_id': None,\n",
       "  'purchase_way': 'via cart',\n",
       "  'qty': '1',\n",
       "  'cancal_time': None},\n",
       " {'buyer_message': None,\n",
       "  'cart_buyer': 2,\n",
       "  'id': 235,\n",
       "  'order_time': None,\n",
       "  'the_status': 1,\n",
       "  'add_time': '2020-02-04T00:32:01.282895',\n",
       "  'cart_product': 2,\n",
       "  'order_id': None,\n",
       "  'purchase_way': 'via cart',\n",
       "  'qty': '1',\n",
       "  'cancal_time': None},\n",
       " {'buyer_message': None,\n",
       "  'cart_buyer': 2,\n",
       "  'id': 236,\n",
       "  'order_time': None,\n",
       "  'the_status': 1,\n",
       "  'add_time': '2020-02-04T00:33:22.501456',\n",
       "  'cart_product': 10,\n",
       "  'order_id': None,\n",
       "  'purchase_way': 'via cart',\n",
       "  'qty': '2',\n",
       "  'cancal_time': None},\n",
       " {'buyer_message': None,\n",
       "  'cart_buyer': 2,\n",
       "  'id': 237,\n",
       "  'order_time': None,\n",
       "  'the_status': 1,\n",
       "  'add_time': '2020-02-04T00:33:32.229788',\n",
       "  'cart_product': 10,\n",
       "  'order_id': None,\n",
       "  'purchase_way': 'via cart',\n",
       "  'qty': '1',\n",
       "  'cancal_time': None},\n",
       " {'buyer_message': None,\n",
       "  'cart_buyer': 2,\n",
       "  'id': 238,\n",
       "  'order_time': None,\n",
       "  'the_status': 1,\n",
       "  'add_time': '2020-02-04T00:37:20.958670',\n",
       "  'cart_product': 10,\n",
       "  'order_id': None,\n",
       "  'purchase_way': 'via cart',\n",
       "  'qty': '2',\n",
       "  'cancal_time': None},\n",
       " {'buyer_message': None,\n",
       "  'cart_buyer': 2,\n",
       "  'id': 239,\n",
       "  'order_time': None,\n",
       "  'the_status': 1,\n",
       "  'add_time': '2020-02-04T00:40:32.045776',\n",
       "  'cart_product': 12,\n",
       "  'order_id': None,\n",
       "  'purchase_way': 'via cart',\n",
       "  'qty': '2',\n",
       "  'cancal_time': None},\n",
       " {'buyer_message': None,\n",
       "  'cart_buyer': 2,\n",
       "  'id': 240,\n",
       "  'order_time': None,\n",
       "  'the_status': 1,\n",
       "  'add_time': '2020-02-04T00:41:40.262444',\n",
       "  'cart_product': 20,\n",
       "  'order_id': None,\n",
       "  'purchase_way': 'via cart',\n",
       "  'qty': '2',\n",
       "  'cancal_time': None},\n",
       " {'buyer_message': None,\n",
       "  'cart_buyer': 2,\n",
       "  'id': 241,\n",
       "  'order_time': None,\n",
       "  'the_status': 1,\n",
       "  'add_time': '2020-02-04T00:41:55.074088',\n",
       "  'cart_product': 18,\n",
       "  'order_id': None,\n",
       "  'purchase_way': 'via cart',\n",
       "  'qty': '2',\n",
       "  'cancal_time': None},\n",
       " {'buyer_message': None,\n",
       "  'cart_buyer': 2,\n",
       "  'id': 243,\n",
       "  'order_time': None,\n",
       "  'the_status': 1,\n",
       "  'add_time': '2020-02-04T01:14:14.185935',\n",
       "  'cart_product': 12,\n",
       "  'order_id': None,\n",
       "  'purchase_way': 'via cart',\n",
       "  'qty': '1',\n",
       "  'cancal_time': None},\n",
       " {'buyer_message': None,\n",
       "  'cart_buyer': 2,\n",
       "  'id': 244,\n",
       "  'order_time': None,\n",
       "  'the_status': 1,\n",
       "  'add_time': '2020-02-04T01:16:07.623780',\n",
       "  'cart_product': 15,\n",
       "  'order_id': None,\n",
       "  'purchase_way': 'via cart',\n",
       "  'qty': '1',\n",
       "  'cancal_time': None},\n",
       " {'buyer_message': None,\n",
       "  'cart_buyer': 2,\n",
       "  'id': 246,\n",
       "  'order_time': None,\n",
       "  'the_status': 1,\n",
       "  'add_time': '2020-02-04T13:46:32.884771',\n",
       "  'cart_product': 12,\n",
       "  'order_id': None,\n",
       "  'purchase_way': 'via cart',\n",
       "  'qty': '3',\n",
       "  'cancal_time': None},\n",
       " {'buyer_message': None,\n",
       "  'cart_buyer': 2,\n",
       "  'id': 249,\n",
       "  'order_time': None,\n",
       "  'the_status': 1,\n",
       "  'add_time': '2020-02-04T13:54:50.835022',\n",
       "  'cart_product': 5,\n",
       "  'order_id': None,\n",
       "  'purchase_way': 'via cart',\n",
       "  'qty': '1',\n",
       "  'cancal_time': None},\n",
       " {'buyer_message': None,\n",
       "  'cart_buyer': 2,\n",
       "  'id': 253,\n",
       "  'order_time': None,\n",
       "  'the_status': 1,\n",
       "  'add_time': '2020-02-04T14:05:28.138314',\n",
       "  'cart_product': 11,\n",
       "  'order_id': None,\n",
       "  'purchase_way': 'via cart',\n",
       "  'qty': '1',\n",
       "  'cancal_time': None},\n",
       " {'buyer_message': None,\n",
       "  'cart_buyer': 2,\n",
       "  'id': 255,\n",
       "  'order_time': None,\n",
       "  'the_status': 1,\n",
       "  'add_time': '2020-02-04T14:07:16.889187',\n",
       "  'cart_product': 13,\n",
       "  'order_id': None,\n",
       "  'purchase_way': 'via cart',\n",
       "  'qty': '1',\n",
       "  'cancal_time': None},\n",
       " {'buyer_message': None,\n",
       "  'cart_buyer': 2,\n",
       "  'id': 256,\n",
       "  'order_time': None,\n",
       "  'the_status': 1,\n",
       "  'add_time': '2020-02-04T14:10:05.761713',\n",
       "  'cart_product': 14,\n",
       "  'order_id': None,\n",
       "  'purchase_way': 'via cart',\n",
       "  'qty': '1',\n",
       "  'cancal_time': None},\n",
       " {'buyer_message': None,\n",
       "  'cart_buyer': 2,\n",
       "  'id': 258,\n",
       "  'order_time': None,\n",
       "  'the_status': 1,\n",
       "  'add_time': '2020-02-04T14:12:00.679970',\n",
       "  'cart_product': 18,\n",
       "  'order_id': None,\n",
       "  'purchase_way': 'via cart',\n",
       "  'qty': '1',\n",
       "  'cancal_time': None}]"
      ]
     },
     "execution_count": 10,
     "metadata": {},
     "output_type": "execute_result"
    }
   ],
   "source": [
    "cart_schema.dump(buyer.open_cart)"
   ]
  },
  {
   "cell_type": "code",
   "execution_count": 3,
   "metadata": {},
   "outputs": [],
   "source": [
    "a = buyer.cart.join(Cart_status).filter(Cart_status.is_open == True).all()"
   ]
  },
  {
   "cell_type": "code",
   "execution_count": 5,
   "metadata": {},
   "outputs": [
    {
     "name": "stdout",
     "output_type": "stream",
     "text": [
      "9793.0\n"
     ]
    },
    {
     "name": "stderr",
     "output_type": "stream",
     "text": [
      "c:\\Users\\user\\ecommerce-3\\env\\lib\\site-packages\\sqlalchemy\\sql\\sqltypes.py:603: SAWarning: Dialect sqlite+pysqlite does *not* support Decimal objects natively, and SQLAlchemy must convert from floating point - rounding errors and other issues may occur. Please consider storing Decimal numbers as strings or integers on this platform for lossless storage.\n",
      "  'storage.' % (dialect.name, dialect.driver))\n"
     ]
    }
   ],
   "source": [
    "total = 0\n",
    "for item in a :\n",
    "    total+= item.total\n",
    "\n",
    "print (total)"
   ]
  },
  {
   "cell_type": "code",
   "execution_count": 6,
   "metadata": {},
   "outputs": [
    {
     "data": {
      "text/plain": [
       "Decimal('9793.0')"
      ]
     },
     "execution_count": 6,
     "metadata": {},
     "output_type": "execute_result"
    }
   ],
   "source": [
    "sum ( item.total for item in a )"
   ]
  },
  {
   "cell_type": "code",
   "execution_count": 23,
   "metadata": {},
   "outputs": [
    {
     "ename": "SyntaxError",
     "evalue": "invalid syntax (<ipython-input-23-084405c99607>, line 1)",
     "output_type": "error",
     "traceback": [
      "\u001b[1;36m  File \u001b[1;32m\"<ipython-input-23-084405c99607>\"\u001b[1;36m, line \u001b[1;32m1\u001b[0m\n\u001b[1;33m    db.session.query(Cart).\u001b[0m\n\u001b[1;37m                           ^\u001b[0m\n\u001b[1;31mSyntaxError\u001b[0m\u001b[1;31m:\u001b[0m invalid syntax\n"
     ]
    }
   ],
   "source": [
    "db.session.query(db.func.sum())."
   ]
  },
  {
   "cell_type": "code",
   "execution_count": 8,
   "metadata": {},
   "outputs": [
    {
     "data": {
      "text/plain": [
       "Decimal('9793.0')"
      ]
     },
     "execution_count": 8,
     "metadata": {},
     "output_type": "execute_result"
    }
   ],
   "source": [
    "buyer.open_cart_total_price"
   ]
  },
  {
   "cell_type": "code",
   "execution_count": 28,
   "metadata": {},
   "outputs": [],
   "source": [
    "if Buyer.query.get(10).open_cart :\n",
    "    print ('ggg')"
   ]
  },
  {
   "cell_type": "code",
   "execution_count": 17,
   "metadata": {},
   "outputs": [
    {
     "data": {
      "text/plain": [
       "<Cart 215>"
      ]
     },
     "execution_count": 17,
     "metadata": {},
     "output_type": "execute_result"
    }
   ],
   "source": [
    "Cart.query.get(215)"
   ]
  },
  {
   "cell_type": "code",
   "execution_count": 2,
   "metadata": {},
   "outputs": [
    {
     "data": {
      "text/plain": [
       "<function ecommerce.buyer_functions.search(pid=[0, 1, 2, 3, 4, 5, 6, 7, 8, 9, 10, 11, 12, 13, 14, 15, 16, 17, 18, 19, 20, 21, 22, 23, 24, 25, 26, 27, 28], category_list=[0, 1, 2, 3, 4, 5, 6, 7, 8], min_price=0, max_price=100000, min_avg=0, word=False, as_json=False)>"
      ]
     },
     "execution_count": 2,
     "metadata": {},
     "output_type": "execute_result"
    }
   ],
   "source": [
    "search"
   ]
  },
  {
   "cell_type": "code",
   "execution_count": 29,
   "metadata": {},
   "outputs": [],
   "source": [
    "product = Product.query.get(2)"
   ]
  },
  {
   "cell_type": "code",
   "execution_count": 32,
   "metadata": {},
   "outputs": [
    {
     "data": {
      "text/plain": [
       "4.0"
      ]
     },
     "execution_count": 32,
     "metadata": {},
     "output_type": "execute_result"
    }
   ],
   "source": [
    "product.review_count"
   ]
  },
  {
   "cell_type": "code",
   "execution_count": 33,
   "metadata": {},
   "outputs": [
    {
     "data": {
      "text/plain": [
       "2"
      ]
     },
     "execution_count": 33,
     "metadata": {},
     "output_type": "execute_result"
    }
   ],
   "source": [
    "product.review_count"
   ]
  },
  {
   "cell_type": "code",
   "execution_count": 7,
   "metadata": {},
   "outputs": [
    {
     "data": {
      "text/plain": [
       "'Sports'"
      ]
     },
     "execution_count": 7,
     "metadata": {},
     "output_type": "execute_result"
    }
   ],
   "source": [
    "search()[0].the_category.name"
   ]
  },
  {
   "cell_type": "code",
   "execution_count": 10,
   "metadata": {},
   "outputs": [
    {
     "data": {
      "text/plain": [
       "ecommerce.models.Product"
      ]
     },
     "execution_count": 10,
     "metadata": {},
     "output_type": "execute_result"
    }
   ],
   "source": [
    "type(search()[0])"
   ]
  },
  {
   "cell_type": "code",
   "execution_count": 14,
   "metadata": {},
   "outputs": [],
   "source": [
    "categorys = Category.query.all()"
   ]
  },
  {
   "cell_type": "code",
   "execution_count": 15,
   "metadata": {},
   "outputs": [
    {
     "data": {
      "text/plain": [
       "[<Category 1>,\n",
       " <Category 2>,\n",
       " <Category 3>,\n",
       " <Category 4>,\n",
       " <Category 5>,\n",
       " <Category 6>,\n",
       " <Category 7>,\n",
       " <Category 8>]"
      ]
     },
     "execution_count": 15,
     "metadata": {},
     "output_type": "execute_result"
    }
   ],
   "source": [
    "categorys"
   ]
  },
  {
   "cell_type": "code",
   "execution_count": 13,
   "metadata": {},
   "outputs": [],
   "source": [
    "query = buyer.orders.order_by(Order.status).order_by(Order.order_time.desc())"
   ]
  },
  {
   "cell_type": "code",
   "execution_count": 14,
   "metadata": {},
   "outputs": [
    {
     "ename": "NameError",
     "evalue": "name 'paginate' is not defined",
     "output_type": "error",
     "traceback": [
      "\u001b[1;31m---------------------------------------------------------------------------\u001b[0m",
      "\u001b[1;31mNameError\u001b[0m                                 Traceback (most recent call last)",
      "\u001b[1;32m<ipython-input-14-807aad6f5fac>\u001b[0m in \u001b[0;36m<module>\u001b[1;34m\u001b[0m\n\u001b[1;32m----> 1\u001b[1;33m \u001b[0mpaginate\u001b[0m\u001b[1;33m(\u001b[0m\u001b[0mquery\u001b[0m\u001b[1;33m)\u001b[0m\u001b[1;33m\u001b[0m\u001b[0m\n\u001b[0m",
      "\u001b[1;31mNameError\u001b[0m: name 'paginate' is not defined"
     ]
    }
   ],
   "source": [
    "paginate(query)"
   ]
  },
  {
   "cell_type": "code",
   "execution_count": 28,
   "metadata": {},
   "outputs": [
    {
     "data": {
      "text/plain": [
       "[<Order 196>,\n",
       " <Order 184>,\n",
       " <Order 168>,\n",
       " <Order 148>,\n",
       " <Order 132>,\n",
       " <Order 112>,\n",
       " <Order 102>,\n",
       " <Order 185>,\n",
       " <Order 113>,\n",
       " <Order 80>]"
      ]
     },
     "execution_count": 28,
     "metadata": {},
     "output_type": "execute_result"
    }
   ],
   "source": [
    "query.paginate(page=1,per_page=10).items"
   ]
  },
  {
   "cell_type": "code",
   "execution_count": 8,
   "metadata": {},
   "outputs": [
    {
     "data": {
      "text/plain": [
       "<flask_sqlalchemy.BaseQuery at 0x17b777ea748>"
      ]
     },
     "execution_count": 8,
     "metadata": {},
     "output_type": "execute_result"
    }
   ],
   "source": [
    "pull_supplier_orders(sid=5).order_by(Order.status).order_by(Order.order_time.desc())"
   ]
  },
  {
   "cell_type": "code",
   "execution_count": 3,
   "metadata": {},
   "outputs": [],
   "source": [
    "a = {'a':5 , 'b':8}"
   ]
  },
  {
   "cell_type": "code",
   "execution_count": 8,
   "metadata": {},
   "outputs": [],
   "source": [
    "res = a.get('g')"
   ]
  },
  {
   "cell_type": "code",
   "execution_count": 9,
   "metadata": {},
   "outputs": [],
   "source": [
    "res"
   ]
  },
  {
   "cell_type": "code",
   "execution_count": 10,
   "metadata": {},
   "outputs": [],
   "source": [
    "data = {}"
   ]
  },
  {
   "cell_type": "code",
   "execution_count": 11,
   "metadata": {},
   "outputs": [],
   "source": [
    "action = {'a':1 , 'b':2}"
   ]
  },
  {
   "cell_type": "code",
   "execution_count": 12,
   "metadata": {},
   "outputs": [],
   "source": [
    "data['action'] = action"
   ]
  },
  {
   "cell_type": "code",
   "execution_count": 14,
   "metadata": {},
   "outputs": [],
   "source": [
    "data['act2'] = {'ddd':4 , 'fghf':'fjfgjgh'}"
   ]
  },
  {
   "cell_type": "code",
   "execution_count": 15,
   "metadata": {},
   "outputs": [
    {
     "data": {
      "text/plain": [
       "{'action': {'a': 1, 'b': 2}, 'act2': {'ddd': 4, 'fghf': 'fjfgjgh'}}"
      ]
     },
     "execution_count": 15,
     "metadata": {},
     "output_type": "execute_result"
    }
   ],
   "source": [
    "data"
   ]
  },
  {
   "cell_type": "code",
   "execution_count": 28,
   "metadata": {},
   "outputs": [
    {
     "data": {
      "text/plain": [
       "206"
      ]
     },
     "execution_count": 28,
     "metadata": {},
     "output_type": "execute_result"
    }
   ],
   "source": [
    "Cart.query.get(250).order_id.id"
   ]
  },
  {
   "cell_type": "code",
   "execution_count": 38,
   "metadata": {},
   "outputs": [],
   "source": [
    "buyer =Buyer.query.get(3)"
   ]
  },
  {
   "cell_type": "code",
   "execution_count": 39,
   "metadata": {},
   "outputs": [
    {
     "data": {
      "text/plain": [
       "0"
      ]
     },
     "execution_count": 39,
     "metadata": {},
     "output_type": "execute_result"
    }
   ],
   "source": [
    "len(buyer.open_cart)"
   ]
  },
  {
   "cell_type": "code",
   "execution_count": 19,
   "metadata": {},
   "outputs": [
    {
     "data": {
      "text/plain": [
       "'zzzz'"
      ]
     },
     "execution_count": 19,
     "metadata": {},
     "output_type": "execute_result"
    }
   ],
   "source": [
    "product.name"
   ]
  },
  {
   "cell_type": "code",
   "execution_count": 2,
   "metadata": {},
   "outputs": [
    {
     "name": "stderr",
     "output_type": "stream",
     "text": [
      "c:\\Users\\user\\ecommerce-3\\env\\lib\\site-packages\\sqlalchemy\\sql\\sqltypes.py:603: SAWarning: Dialect sqlite+pysqlite does *not* support Decimal objects natively, and SQLAlchemy must convert from floating point - rounding errors and other issues may occur. Please consider storing Decimal numbers as strings or integers on this platform for lossless storage.\n",
      "  'storage.' % (dialect.name, dialect.driver))\n"
     ]
    }
   ],
   "source": [
    "product = Product.query.get(10)"
   ]
  },
  {
   "cell_type": "code",
   "execution_count": 26,
   "metadata": {},
   "outputs": [],
   "source": [
    "product.__setattr__('name','zzzz')"
   ]
  },
  {
   "cell_type": "code",
   "execution_count": 13,
   "metadata": {},
   "outputs": [
    {
     "data": {
      "text/plain": [
       "'kkkkkui'"
      ]
     },
     "execution_count": 13,
     "metadata": {},
     "output_type": "execute_result"
    }
   ],
   "source": [
    "product.name"
   ]
  },
  {
   "cell_type": "code",
   "execution_count": 15,
   "metadata": {},
   "outputs": [],
   "source": [
    "db.session.commit()"
   ]
  },
  {
   "cell_type": "code",
   "execution_count": 14,
   "metadata": {},
   "outputs": [],
   "source": [
    "product.__setattr__('name','Tempered Glass Samsung Galaxy S7 Screen Protector')"
   ]
  },
  {
   "cell_type": "code",
   "execution_count": 28,
   "metadata": {},
   "outputs": [
    {
     "data": {
      "text/plain": [
       "<method-wrapper '__getattribute__' of Product object at 0x0000018FA5D02668>"
      ]
     },
     "execution_count": 28,
     "metadata": {},
     "output_type": "execute_result"
    }
   ],
   "source": [
    "product.__getattribute__"
   ]
  },
  {
   "cell_type": "code",
   "execution_count": 22,
   "metadata": {},
   "outputs": [
    {
     "data": {
      "text/plain": [
       "['Additional_information',\n",
       " '__class__',\n",
       " '__delattr__',\n",
       " '__dict__',\n",
       " '__dir__',\n",
       " '__doc__',\n",
       " '__eq__',\n",
       " '__format__',\n",
       " '__ge__',\n",
       " '__getattribute__',\n",
       " '__gt__',\n",
       " '__hash__',\n",
       " '__init__',\n",
       " '__init_subclass__',\n",
       " '__le__',\n",
       " '__lt__',\n",
       " '__mapper__',\n",
       " '__module__',\n",
       " '__ne__',\n",
       " '__new__',\n",
       " '__reduce__',\n",
       " '__reduce_ex__',\n",
       " '__repr__',\n",
       " '__setattr__',\n",
       " '__sizeof__',\n",
       " '__str__',\n",
       " '__subclasshook__',\n",
       " '__table__',\n",
       " '__tablename__',\n",
       " '__weakref__',\n",
       " '_decl_class_registry',\n",
       " '_sa_class_manager',\n",
       " '_sa_instance_state',\n",
       " 'add_time',\n",
       " 'as_list',\n",
       " 'brand',\n",
       " 'cart',\n",
       " 'category',\n",
       " 'coupons',\n",
       " 'desc',\n",
       " 'get_id',\n",
       " 'get_info',\n",
       " 'get_product_orders',\n",
       " 'get_review',\n",
       " 'id',\n",
       " 'is_active',\n",
       " 'is_anonymous',\n",
       " 'is_authenticated',\n",
       " 'last_change_time',\n",
       " 'metadata',\n",
       " 'name',\n",
       " 'open_order_count',\n",
       " 'open_revenue',\n",
       " 'open_units_sold',\n",
       " 'order_count',\n",
       " 'orders',\n",
       " 'picture',\n",
       " 'price',\n",
       " 'query',\n",
       " 'query_class',\n",
       " 'revenue',\n",
       " 'review_avg',\n",
       " 'review_count',\n",
       " 'reviews',\n",
       " 'supplier',\n",
       " 'supplier_id',\n",
       " 'the_category',\n",
       " 'units_sold',\n",
       " 'update_picture']"
      ]
     },
     "execution_count": 22,
     "metadata": {},
     "output_type": "execute_result"
    }
   ],
   "source": [
    "dir(product)"
   ]
  },
  {
   "cell_type": "code",
   "execution_count": 35,
   "metadata": {},
   "outputs": [
    {
     "data": {
      "text/plain": [
       "'Tempered Glass Samsung Galaxy S7 Screen Protector was changed'"
      ]
     },
     "execution_count": 35,
     "metadata": {},
     "output_type": "execute_result"
    }
   ],
   "source": [
    "f'{product.name} was changed'"
   ]
  },
  {
   "cell_type": "code",
   "execution_count": 9,
   "metadata": {},
   "outputs": [
    {
     "data": {
      "text/plain": [
       "'Tempered Glass Samsung Galaxy S7 Screen Protector'"
      ]
     },
     "execution_count": 9,
     "metadata": {},
     "output_type": "execute_result"
    }
   ],
   "source": [
    "product.name"
   ]
  },
  {
   "cell_type": "code",
   "execution_count": 12,
   "metadata": {},
   "outputs": [
    {
     "data": {
      "text/plain": [
       "True"
      ]
     },
     "execution_count": 12,
     "metadata": {},
     "output_type": "execute_result"
    }
   ],
   "source": [
    "update_product(product , 'name' , 'Tempered Glass Samsung Galaxy S7 Screen Protector')"
   ]
  },
  {
   "cell_type": "code",
   "execution_count": 13,
   "metadata": {},
   "outputs": [
    {
     "data": {
      "text/plain": [
       "'Tempered Glass Samsung Galaxy S7 Screen Protector'"
      ]
     },
     "execution_count": 13,
     "metadata": {},
     "output_type": "execute_result"
    }
   ],
   "source": [
    "product.name"
   ]
  },
  {
   "cell_type": "code",
   "execution_count": null,
   "metadata": {},
   "outputs": [],
   "source": []
  }
 ],
 "metadata": {
  "kernelspec": {
   "display_name": "Python 3.7.0 64-bit ('env': virtualenv)",
   "language": "python",
   "name": "python37064bitenvvirtualenv3752e02dd1ee44fdaf9b5646f27fe35a"
  },
  "language_info": {
   "codemirror_mode": {
    "name": "ipython",
    "version": 3
   },
   "file_extension": ".py",
   "mimetype": "text/x-python",
   "name": "python",
   "nbconvert_exporter": "python",
   "pygments_lexer": "ipython3",
   "version": "3.7.0"
  }
 },
 "nbformat": 4,
 "nbformat_minor": 2
}
