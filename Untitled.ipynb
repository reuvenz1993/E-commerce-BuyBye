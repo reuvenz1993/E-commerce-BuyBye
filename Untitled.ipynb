{
 "cells": [
  {
   "cell_type": "code",
   "execution_count": 3,
   "metadata": {},
   "outputs": [],
   "source": [
    "from ecommerce import *\n",
    "from ecommerce.models import *\n",
    "from sqlalchemy import or_\n",
    "from ecommerce.buyer_functions import *\n",
    "from ecommerce.supplier_functions import *\n",
    "from ecommerce.api import *\n",
    "import pdb\n",
    "from decimal import *\n",
    "\n",
    "#category_schema = Categoryschema(many=True)\n",
    "buyer_schema = Buyerschema(many=True)\n",
    "supllier_schema = SupplierSchema(many=True)\n",
    "order_schema = OrderSchema(many=True)\n",
    "cart_schema = Cartschema(many=True)\n",
    "product_schema = ProductSchema(many=True)"
   ]
  },
  {
   "cell_type": "code",
   "execution_count": 28,
   "metadata": {},
   "outputs": [
    {
     "data": {
      "text/plain": [
       "<pymongo.results.InsertOneResult at 0x1bb14f03508>"
      ]
     },
     "execution_count": 28,
     "metadata": {},
     "output_type": "execute_result"
    }
   ],
   "source": [
    "mydict = { \"name\": \"zak\"}\n",
    "mongo.db.users.insert_one(mydict)"
   ]
  },
  {
   "cell_type": "code",
   "execution_count": 5,
   "metadata": {},
   "outputs": [
    {
     "name": "stderr",
     "output_type": "stream",
     "text": [
      "c:\\Users\\user\\ecommerce-3\\env\\lib\\site-packages\\ipykernel_launcher.py:2: DeprecationWarning: count is deprecated. Use Collection.count_documents instead.\n",
      "  \n"
     ]
    },
    {
     "data": {
      "text/plain": [
       "2"
      ]
     },
     "execution_count": 5,
     "metadata": {},
     "output_type": "execute_result"
    }
   ],
   "source": [
    "a = mongo.db.users.find()\n",
    "a.count()"
   ]
  },
  {
   "cell_type": "code",
   "execution_count": 15,
   "metadata": {},
   "outputs": [],
   "source": [
    "a = mongo.db.users.find()"
   ]
  },
  {
   "cell_type": "code",
   "execution_count": 21,
   "metadata": {},
   "outputs": [
    {
     "data": {
      "text/plain": [
       "['_BaseObject__codec_options',\n",
       " '_BaseObject__read_concern',\n",
       " '_BaseObject__read_preference',\n",
       " '_BaseObject__write_concern',\n",
       " '_Collection__create',\n",
       " '_Collection__create_index',\n",
       " '_Collection__database',\n",
       " '_Collection__find_and_modify',\n",
       " '_Collection__full_name',\n",
       " '_Collection__name',\n",
       " '_Collection__write_response_codec_options',\n",
       " '__call__',\n",
       " '__class__',\n",
       " '__delattr__',\n",
       " '__dict__',\n",
       " '__dir__',\n",
       " '__doc__',\n",
       " '__eq__',\n",
       " '__format__',\n",
       " '__ge__',\n",
       " '__getattr__',\n",
       " '__getattribute__',\n",
       " '__getitem__',\n",
       " '__gt__',\n",
       " '__hash__',\n",
       " '__init__',\n",
       " '__init_subclass__',\n",
       " '__iter__',\n",
       " '__le__',\n",
       " '__lt__',\n",
       " '__module__',\n",
       " '__ne__',\n",
       " '__new__',\n",
       " '__next__',\n",
       " '__reduce__',\n",
       " '__reduce_ex__',\n",
       " '__repr__',\n",
       " '__setattr__',\n",
       " '__sizeof__',\n",
       " '__str__',\n",
       " '__subclasshook__',\n",
       " '__weakref__',\n",
       " '_aggregate',\n",
       " '_aggregate_one_result',\n",
       " '_command',\n",
       " '_count',\n",
       " '_delete',\n",
       " '_delete_retryable',\n",
       " '_insert',\n",
       " '_insert_one',\n",
       " '_legacy_write',\n",
       " '_map_reduce',\n",
       " '_read_preference_for',\n",
       " '_socket_for_reads',\n",
       " '_socket_for_writes',\n",
       " '_update',\n",
       " '_update_retryable',\n",
       " '_write_concern_for',\n",
       " '_write_concern_for_cmd',\n",
       " 'aggregate',\n",
       " 'aggregate_raw_batches',\n",
       " 'bulk_write',\n",
       " 'codec_options',\n",
       " 'count',\n",
       " 'count_documents',\n",
       " 'create_index',\n",
       " 'create_indexes',\n",
       " 'database',\n",
       " 'delete_many',\n",
       " 'delete_one',\n",
       " 'distinct',\n",
       " 'drop',\n",
       " 'drop_index',\n",
       " 'drop_indexes',\n",
       " 'ensure_index',\n",
       " 'estimated_document_count',\n",
       " 'find',\n",
       " 'find_and_modify',\n",
       " 'find_one',\n",
       " 'find_one_and_delete',\n",
       " 'find_one_and_replace',\n",
       " 'find_one_and_update',\n",
       " 'find_one_or_404',\n",
       " 'find_raw_batches',\n",
       " 'full_name',\n",
       " 'group',\n",
       " 'index_information',\n",
       " 'initialize_ordered_bulk_op',\n",
       " 'initialize_unordered_bulk_op',\n",
       " 'inline_map_reduce',\n",
       " 'insert',\n",
       " 'insert_many',\n",
       " 'insert_one',\n",
       " 'list_indexes',\n",
       " 'map_reduce',\n",
       " 'name',\n",
       " 'next',\n",
       " 'options',\n",
       " 'parallel_scan',\n",
       " 'read_concern',\n",
       " 'read_preference',\n",
       " 'reindex',\n",
       " 'remove',\n",
       " 'rename',\n",
       " 'replace_one',\n",
       " 'save',\n",
       " 'update',\n",
       " 'update_many',\n",
       " 'update_one',\n",
       " 'watch',\n",
       " 'with_options',\n",
       " 'write_concern']"
      ]
     },
     "execution_count": 21,
     "metadata": {},
     "output_type": "execute_result"
    }
   ],
   "source": [
    "dir(mongo.db.users.insrt)"
   ]
  },
  {
   "cell_type": "code",
   "execution_count": 44,
   "metadata": {},
   "outputs": [
    {
     "data": {
      "text/plain": [
       "['__bool__',\n",
       " '__class__',\n",
       " '__delattr__',\n",
       " '__dir__',\n",
       " '__doc__',\n",
       " '__eq__',\n",
       " '__format__',\n",
       " '__ge__',\n",
       " '__getattribute__',\n",
       " '__gt__',\n",
       " '__hash__',\n",
       " '__init__',\n",
       " '__init_subclass__',\n",
       " '__le__',\n",
       " '__lt__',\n",
       " '__ne__',\n",
       " '__new__',\n",
       " '__reduce__',\n",
       " '__reduce_ex__',\n",
       " '__repr__',\n",
       " '__setattr__',\n",
       " '__sizeof__',\n",
       " '__str__',\n",
       " '__subclasshook__']"
      ]
     },
     "execution_count": 44,
     "metadata": {},
     "output_type": "execute_result"
    }
   ],
   "source": [
    "dir(mongo.db.users.find_one())"
   ]
  },
  {
   "cell_type": "code",
   "execution_count": 2,
   "metadata": {},
   "outputs": [
    {
     "ename": "NameError",
     "evalue": "name 'db2' is not defined",
     "output_type": "error",
     "traceback": [
      "\u001b[1;31m---------------------------------------------------------------------------\u001b[0m",
      "\u001b[1;31mNameError\u001b[0m                                 Traceback (most recent call last)",
      "\u001b[1;32m<ipython-input-2-0a2bc84ce0ec>\u001b[0m in \u001b[0;36m<module>\u001b[1;34m\u001b[0m\n\u001b[1;32m----> 1\u001b[1;33m \u001b[0mdb2\u001b[0m\u001b[1;33m\u001b[0m\u001b[0m\n\u001b[0m",
      "\u001b[1;31mNameError\u001b[0m: name 'db2' is not defined"
     ]
    }
   ],
   "source": [
    "db2"
   ]
  },
  {
   "cell_type": "code",
   "execution_count": 4,
   "metadata": {},
   "outputs": [
    {
     "data": {
      "text/plain": [
       "<flask_mongoengine.MongoEngine at 0x1d249c7b470>"
      ]
     },
     "execution_count": 4,
     "metadata": {},
     "output_type": "execute_result"
    }
   ],
   "source": [
    "db2"
   ]
  },
  {
   "cell_type": "code",
   "execution_count": 5,
   "metadata": {},
   "outputs": [],
   "source": [
    "def initialize_db(app):\n",
    "    db.init_app(app)"
   ]
  },
  {
   "cell_type": "code",
   "execution_count": 8,
   "metadata": {},
   "outputs": [],
   "source": [
    "initialize_db(app)"
   ]
  },
  {
   "cell_type": "code",
   "execution_count": 19,
   "metadata": {},
   "outputs": [
    {
     "ename": "AttributeError",
     "evalue": "'MongoEngine' object has no attribute 'users'",
     "output_type": "error",
     "traceback": [
      "\u001b[1;31m---------------------------------------------------------------------------\u001b[0m",
      "\u001b[1;31mAttributeError\u001b[0m                            Traceback (most recent call last)",
      "\u001b[1;32m<ipython-input-19-c8c2943f1bc0>\u001b[0m in \u001b[0;36m<module>\u001b[1;34m\u001b[0m\n\u001b[1;32m----> 1\u001b[1;33m \u001b[0mdb2\u001b[0m\u001b[1;33m.\u001b[0m\u001b[0musers\u001b[0m\u001b[1;33m\u001b[0m\u001b[0m\n\u001b[0m",
      "\u001b[1;31mAttributeError\u001b[0m: 'MongoEngine' object has no attribute 'users'"
     ]
    }
   ],
   "source": [
    "db2."
   ]
  },
  {
   "cell_type": "code",
   "execution_count": 16,
   "metadata": {},
   "outputs": [
    {
     "data": {
      "text/plain": [
       "['BinaryField',\n",
       " 'BooleanField',\n",
       " 'BulkWriteError',\n",
       " 'CASCADE',\n",
       " 'CachedReferenceField',\n",
       " 'ComplexDateTimeField',\n",
       " 'ConnectionFailure',\n",
       " 'DEFAULT_CONNECTION_NAME',\n",
       " 'DEFAULT_DATABASE_NAME',\n",
       " 'DENY',\n",
       " 'DO_NOTHING',\n",
       " 'DateField',\n",
       " 'DateTimeField',\n",
       " 'DecimalField',\n",
       " 'DeprecatedError',\n",
       " 'DictField',\n",
       " 'Document',\n",
       " 'DoesNotExist',\n",
       " 'DynamicDocument',\n",
       " 'DynamicEmbeddedDocument',\n",
       " 'DynamicField',\n",
       " 'EmailField',\n",
       " 'EmbeddedDocument',\n",
       " 'EmbeddedDocumentField',\n",
       " 'EmbeddedDocumentListField',\n",
       " 'FieldDoesNotExist',\n",
       " 'FileField',\n",
       " 'FloatField',\n",
       " 'GenericEmbeddedDocumentField',\n",
       " 'GenericLazyReferenceField',\n",
       " 'GenericReferenceField',\n",
       " 'GeoJsonBaseField',\n",
       " 'GeoPointField',\n",
       " 'GridFSError',\n",
       " 'GridFSProxy',\n",
       " 'ImageField',\n",
       " 'ImageGridFsProxy',\n",
       " 'ImproperlyConfigured',\n",
       " 'IntField',\n",
       " 'InvalidCollectionError',\n",
       " 'InvalidDocumentError',\n",
       " 'InvalidQueryError',\n",
       " 'LazyReferenceField',\n",
       " 'LineStringField',\n",
       " 'ListField',\n",
       " 'LongField',\n",
       " 'LookUpError',\n",
       " 'MapField',\n",
       " 'MapReduceDocument',\n",
       " 'MultiLineStringField',\n",
       " 'MultiPointField',\n",
       " 'MultiPolygonField',\n",
       " 'MultipleObjectsReturned',\n",
       " 'NULLIFY',\n",
       " 'NotRegistered',\n",
       " 'NotUniqueError',\n",
       " 'ObjectIdField',\n",
       " 'OperationError',\n",
       " 'PULL',\n",
       " 'PointField',\n",
       " 'PolygonField',\n",
       " 'Q',\n",
       " 'QueryFieldList',\n",
       " 'QuerySet',\n",
       " 'QuerySetManager',\n",
       " 'QuerySetNoCache',\n",
       " 'ReferenceField',\n",
       " 'SaveConditionError',\n",
       " 'SequenceField',\n",
       " 'SortedListField',\n",
       " 'StringField',\n",
       " 'URLField',\n",
       " 'UUIDField',\n",
       " 'ValidationError',\n",
       " '__class__',\n",
       " '__delattr__',\n",
       " '__dict__',\n",
       " '__dir__',\n",
       " '__doc__',\n",
       " '__eq__',\n",
       " '__format__',\n",
       " '__ge__',\n",
       " '__getattribute__',\n",
       " '__gt__',\n",
       " '__hash__',\n",
       " '__init__',\n",
       " '__init_subclass__',\n",
       " '__le__',\n",
       " '__lt__',\n",
       " '__module__',\n",
       " '__ne__',\n",
       " '__new__',\n",
       " '__reduce__',\n",
       " '__reduce_ex__',\n",
       " '__repr__',\n",
       " '__setattr__',\n",
       " '__sizeof__',\n",
       " '__str__',\n",
       " '__subclasshook__',\n",
       " '__weakref__',\n",
       " 'app',\n",
       " 'connect',\n",
       " 'connection',\n",
       " 'disconnect',\n",
       " 'disconnect_all',\n",
       " 'get_connection',\n",
       " 'get_db',\n",
       " 'init_app',\n",
       " 'post_delete',\n",
       " 'post_init',\n",
       " 'post_save',\n",
       " 'pre_delete',\n",
       " 'pre_init',\n",
       " 'pre_save',\n",
       " 'pre_save_post_validation',\n",
       " 'queryset_manager',\n",
       " 'register_connection']"
      ]
     },
     "execution_count": 16,
     "metadata": {},
     "output_type": "execute_result"
    }
   ],
   "source": [
    "dir(db2)"
   ]
  },
  {
   "cell_type": "code",
   "execution_count": 20,
   "metadata": {},
   "outputs": [],
   "source": [
    "from mongoengine import *\n",
    "import datetime\n",
    "\n",
    "\n",
    "class Page(Document):\n",
    "    title = StringField(max_length=200, required=True)\n",
    "    date_modified = DateTimeField(default=datetime.datetime.utcnow)"
   ]
  },
  {
   "cell_type": "code",
   "execution_count": 21,
   "metadata": {},
   "outputs": [
    {
     "data": {
      "text/plain": [
       "__main__.Page"
      ]
     },
     "execution_count": 21,
     "metadata": {},
     "output_type": "execute_result"
    }
   ],
   "source": [
    "Page"
   ]
  },
  {
   "cell_type": "code",
   "execution_count": 22,
   "metadata": {},
   "outputs": [
    {
     "data": {
      "text/plain": [
       "<Page: Page object>"
      ]
     },
     "execution_count": 22,
     "metadata": {},
     "output_type": "execute_result"
    }
   ],
   "source": [
    "page = Page(title='Using MongoEngine')\n",
    "page.tags = ['mongodb', 'mongoengine']\n",
    "page.save()"
   ]
  },
  {
   "cell_type": "code",
   "execution_count": 25,
   "metadata": {},
   "outputs": [
    {
     "data": {
      "text/plain": [
       "<Page: Page object>"
      ]
     },
     "execution_count": 25,
     "metadata": {},
     "output_type": "execute_result"
    }
   ],
   "source": [
    "page"
   ]
  },
  {
   "cell_type": "code",
   "execution_count": 26,
   "metadata": {},
   "outputs": [],
   "source": [
    "class User(Document):\n",
    "    first_name = StringField(max_length=200, required=True)\n",
    "    last_name = StringField(max_length=200, required=True)"
   ]
  },
  {
   "cell_type": "code",
   "execution_count": 56,
   "metadata": {},
   "outputs": [],
   "source": [
    "class Product(Document):\n",
    "    name = StringField(max_length=200, required=True)\n",
    "    price = DecimalField(required=True)"
   ]
  },
  {
   "cell_type": "code",
   "execution_count": 27,
   "metadata": {},
   "outputs": [
    {
     "data": {
      "text/plain": [
       "__main__.User"
      ]
     },
     "execution_count": 27,
     "metadata": {},
     "output_type": "execute_result"
    }
   ],
   "source": [
    "User"
   ]
  },
  {
   "cell_type": "code",
   "execution_count": 42,
   "metadata": {},
   "outputs": [
    {
     "data": {
      "text/plain": [
       "<User: User object>"
      ]
     },
     "execution_count": 42,
     "metadata": {},
     "output_type": "execute_result"
    }
   ],
   "source": [
    "user = User(first_name=\"joen\", last_name=\"tes\")\n",
    "user.save()"
   ]
  },
  {
   "cell_type": "code",
   "execution_count": 55,
   "metadata": {},
   "outputs": [
    {
     "data": {
      "text/plain": [
       "'{\"_id\": {\"$oid\": \"5e4c3305d090a57d2f4dbfb3\"}, \"first_name\": \"reuven\", \"last_name\": \"zolo\"}'"
      ]
     },
     "execution_count": 55,
     "metadata": {},
     "output_type": "execute_result"
    }
   ],
   "source": [
    "a = list(User.objects(first_name='reuven'))\n",
    "dir(a[0])\n",
    "a[0].to_json()"
   ]
  },
  {
   "cell_type": "code",
   "execution_count": 33,
   "metadata": {},
   "outputs": [
    {
     "data": {
      "text/plain": [
       "['DoesNotExist',\n",
       " 'MultipleObjectsReturned',\n",
       " 'STRICT',\n",
       " '_BaseDocument__expand_dynamic_values',\n",
       " '_BaseDocument__get_field_display',\n",
       " '_BaseDocument__set_field_display',\n",
       " '_Document__objects',\n",
       " '__class__',\n",
       " '__contains__',\n",
       " '__delattr__',\n",
       " '__dict__',\n",
       " '__dir__',\n",
       " '__doc__',\n",
       " '__eq__',\n",
       " '__format__',\n",
       " '__ge__',\n",
       " '__getattribute__',\n",
       " '__getitem__',\n",
       " '__getstate__',\n",
       " '__gt__',\n",
       " '__hash__',\n",
       " '__init__',\n",
       " '__init_subclass__',\n",
       " '__iter__',\n",
       " '__le__',\n",
       " '__len__',\n",
       " '__lt__',\n",
       " '__module__',\n",
       " '__ne__',\n",
       " '__new__',\n",
       " '__reduce__',\n",
       " '__reduce_ex__',\n",
       " '__repr__',\n",
       " '__setattr__',\n",
       " '__setitem__',\n",
       " '__setstate__',\n",
       " '__sizeof__',\n",
       " '__slots__',\n",
       " '__str__',\n",
       " '__subclasshook__',\n",
       " '__weakref__',\n",
       " '_auto_id_field',\n",
       " '_build_index_spec',\n",
       " '_build_index_specs',\n",
       " '_cached_reference_fields',\n",
       " '_changed_fields',\n",
       " '_class_name',\n",
       " '_clear_changed_fields',\n",
       " '_collection',\n",
       " '_created',\n",
       " '_data',\n",
       " '_db_field_map',\n",
       " '_delta',\n",
       " '_disconnect',\n",
       " '_dynamic',\n",
       " '_dynamic_fields',\n",
       " '_dynamic_lock',\n",
       " '_fields',\n",
       " '_fields_ordered',\n",
       " '_from_son',\n",
       " '_geo_indices',\n",
       " '_get_capped_collection',\n",
       " '_get_changed_fields',\n",
       " '_get_collection',\n",
       " '_get_collection_name',\n",
       " '_get_db',\n",
       " '_get_update_doc',\n",
       " '_initialised',\n",
       " '_is_base_cls',\n",
       " '_is_document',\n",
       " '_lookup_field',\n",
       " '_mark_as_changed',\n",
       " '_meta',\n",
       " '_nestable_types_changed_fields',\n",
       " '_object_key',\n",
       " '_qs',\n",
       " '_reload',\n",
       " '_reverse_db_field_map',\n",
       " '_save_create',\n",
       " '_save_update',\n",
       " '_subclasses',\n",
       " '_superclasses',\n",
       " '_translate_field_name',\n",
       " '_types',\n",
       " '_unique_with_indexes',\n",
       " 'cascade_save',\n",
       " 'clean',\n",
       " 'compare_indexes',\n",
       " 'create_index',\n",
       " 'delete',\n",
       " 'drop_collection',\n",
       " 'ensure_index',\n",
       " 'ensure_indexes',\n",
       " 'first_name',\n",
       " 'from_json',\n",
       " 'get_text_score',\n",
       " 'id',\n",
       " 'last_name',\n",
       " 'list_indexes',\n",
       " 'modify',\n",
       " 'my_metaclass',\n",
       " 'objects',\n",
       " 'pk',\n",
       " 'register_delete_rule',\n",
       " 'reload',\n",
       " 'save',\n",
       " 'select_related',\n",
       " 'switch_collection',\n",
       " 'switch_db',\n",
       " 'to_dbref',\n",
       " 'to_json',\n",
       " 'to_mongo',\n",
       " 'update',\n",
       " 'validate']"
      ]
     },
     "execution_count": 33,
     "metadata": {},
     "output_type": "execute_result"
    }
   ],
   "source": [
    "dir(User)"
   ]
  },
  {
   "cell_type": "code",
   "execution_count": 57,
   "metadata": {},
   "outputs": [
    {
     "data": {
      "text/plain": [
       "__main__.Product"
      ]
     },
     "execution_count": 57,
     "metadata": {},
     "output_type": "execute_result"
    }
   ],
   "source": [
    "Product"
   ]
  },
  {
   "cell_type": "code",
   "execution_count": 58,
   "metadata": {},
   "outputs": [
    {
     "ename": "TypeError",
     "evalue": "Instantiating a document with positional arguments is not supported. Please use `field_name=value` keyword arguments.",
     "output_type": "error",
     "traceback": [
      "\u001b[1;31m---------------------------------------------------------------------------\u001b[0m",
      "\u001b[1;31mTypeError\u001b[0m                                 Traceback (most recent call last)",
      "\u001b[1;32m<ipython-input-58-294179f46b8f>\u001b[0m in \u001b[0;36m<module>\u001b[1;34m\u001b[0m\n\u001b[1;32m----> 1\u001b[1;33m \u001b[0mp\u001b[0m \u001b[1;33m=\u001b[0m \u001b[0mProduct\u001b[0m\u001b[1;33m(\u001b[0m\u001b[1;34m\"apple\"\u001b[0m\u001b[1;33m,\u001b[0m\u001b[1;36m12\u001b[0m\u001b[1;33m)\u001b[0m\u001b[1;33m\u001b[0m\u001b[0m\n\u001b[0m",
      "\u001b[1;32mc:\\Users\\user\\ecommerce-3\\env\\lib\\site-packages\\mongoengine\\base\\document.py\u001b[0m in \u001b[0;36m__init__\u001b[1;34m(self, *args, **values)\u001b[0m\n\u001b[0;32m     77\u001b[0m         \u001b[1;32mif\u001b[0m \u001b[0margs\u001b[0m\u001b[1;33m:\u001b[0m\u001b[1;33m\u001b[0m\u001b[0m\n\u001b[0;32m     78\u001b[0m             raise TypeError(\n\u001b[1;32m---> 79\u001b[1;33m                 \u001b[1;34m\"Instantiating a document with positional arguments is not \"\u001b[0m\u001b[1;33m\u001b[0m\u001b[0m\n\u001b[0m\u001b[0;32m     80\u001b[0m                 \u001b[1;34m\"supported. Please use `field_name=value` keyword arguments.\"\u001b[0m\u001b[1;33m\u001b[0m\u001b[0m\n\u001b[0;32m     81\u001b[0m             )\n",
      "\u001b[1;31mTypeError\u001b[0m: Instantiating a document with positional arguments is not supported. Please use `field_name=value` keyword arguments."
     ]
    }
   ],
   "source": [
    "p = Product(name=\"apple\",12)"
   ]
  },
  {
   "cell_type": "code",
   "execution_count": null,
   "metadata": {},
   "outputs": [],
   "source": []
  }
 ],
 "metadata": {
  "kernelspec": {
   "display_name": "Python 3.7.0 64-bit ('env': virtualenv)",
   "language": "python",
   "name": "python37064bitenvvirtualenv3752e02dd1ee44fdaf9b5646f27fe35a"
  },
  "language_info": {
   "codemirror_mode": {
    "name": "ipython",
    "version": 3
   },
   "file_extension": ".py",
   "mimetype": "text/x-python",
   "name": "python",
   "nbconvert_exporter": "python",
   "pygments_lexer": "ipython3",
   "version": "3.7.0"
  }
 },
 "nbformat": 4,
 "nbformat_minor": 2
}
