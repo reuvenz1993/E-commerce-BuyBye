{
 "nbformat": 4,
 "nbformat_minor": 2,
 "metadata": {
  "language_info": {
   "name": "python",
   "codemirror_mode": {
    "name": "ipython",
    "version": 3
   },
   "version": "3.7.0-final"
  },
  "orig_nbformat": 2,
  "file_extension": ".py",
  "mimetype": "text/x-python",
  "name": "python",
  "npconvert_exporter": "python",
  "pygments_lexer": "ipython3",
  "version": 3,
  "kernelspec": {
   "name": "python37064bit267923fd9f4040048f34550cd4d43350",
   "display_name": "Python 3.7.0 64-bit"
  }
 },
 "cells": [
  {
   "cell_type": "code",
   "execution_count": 1,
   "metadata": {},
   "outputs": [],
   "source": [
    "from ecommerce import *\n",
    "from ecommerce.models import *\n",
    "from sqlalchemy import or_"
   ]
  },
  {
   "cell_type": "code",
   "execution_count": 28,
   "metadata": {},
   "outputs": [
    {
     "name": "stdout",
     "output_type": "stream",
     "text": "true\n"
    }
   ],
   "source": [
    "if not Product.query.get(80):\n",
    "    print ('true')"
   ]
  },
  {
   "cell_type": "code",
   "execution_count": 185,
   "metadata": {},
   "outputs": [
    {
     "data": {
      "text/plain": "[<Product 7>]"
     },
     "execution_count": 185,
     "metadata": {},
     "output_type": "execute_result"
    }
   ],
   "source": [
    "score = db.session.query(Product.id).outerjoin(Order).outerjoin(Reviews).group_by(Product).having(or_(db.func.count(Reviews.id)==0 , db.func.avg(Reviews.stars) > 1 )).subquery()\n",
    "\n",
    "score = Product.query.join(score , score.c.id == Product.id).filter(Product.price > 20 , Product.price < 100000).subquery()\n",
    "\n",
    "score = Product.query.join(score , score.c.id == Product.id).filter(Product.id.in_([3,4,7,8])).subquery()\n",
    "\n",
    "score = Product.query.join(score , score.c.id == Product.id)\n",
    "score.all()\n",
    "\n",
    "\n",
    "\n",
    "\n",
    "#q.filter(Product.price == 10000000000000)\n",
    "\n",
    "#q.all()\n",
    "\n",
    "\n"
   ]
  },
  {
   "cell_type": "code",
   "execution_count": 143,
   "metadata": {},
   "outputs": [
    {
     "data": {
      "text/plain": "('db.func.count(Reviews.id)', ',Order,db.func.avg(Reviews.stars)')"
     },
     "execution_count": 143,
     "metadata": {},
     "output_type": "execute_result"
    }
   ],
   "source": [
    ", db.func.count(Reviews.id) ,Order,db.func.avg(Reviews.stars)"
   ]
  },
  {
   "cell_type": "code",
   "execution_count": 115,
   "metadata": {},
   "outputs": [
    {
     "data": {
      "text/plain": "17"
     },
     "execution_count": 115,
     "metadata": {},
     "output_type": "execute_result"
    }
   ],
   "source": [
    "db.session.query(Product).join(Order).join(Reviews).count()"
   ]
  },
  {
   "cell_type": "code",
   "execution_count": 100,
   "metadata": {},
   "outputs": [
    {
     "ename": "AttributeError",
     "evalue": "'int' object has no attribute '_sa_instance_state'",
     "output_type": "error",
     "traceback": [
      "\u001b[1;31m---------------------------------------------------------------------------\u001b[0m",
      "\u001b[1;31mAttributeError\u001b[0m                            Traceback (most recent call last)",
      "\u001b[1;32m<ipython-input-100-b70b7477fc04>\u001b[0m in \u001b[0;36m<module>\u001b[1;34m\u001b[0m\n\u001b[1;32m----> 1\u001b[1;33m \u001b[0mdb\u001b[0m\u001b[1;33m.\u001b[0m\u001b[0msession\u001b[0m\u001b[1;33m.\u001b[0m\u001b[0mquery\u001b[0m\u001b[1;33m(\u001b[0m\u001b[0mOrder\u001b[0m\u001b[1;33m)\u001b[0m\u001b[1;33m.\u001b[0m\u001b[0mfilter\u001b[0m\u001b[1;33m(\u001b[0m\u001b[0mOrder\u001b[0m\u001b[1;33m.\u001b[0m\u001b[0mreviews\u001b[0m\u001b[1;33m.\u001b[0m\u001b[0mcontains\u001b[0m\u001b[1;33m(\u001b[0m\u001b[1;36m1\u001b[0m\u001b[1;33m)\u001b[0m\u001b[1;33m)\u001b[0m\u001b[1;33m.\u001b[0m\u001b[0mall\u001b[0m\u001b[1;33m(\u001b[0m\u001b[1;33m)\u001b[0m\u001b[1;33m\u001b[0m\u001b[0m\n\u001b[0m",
      "\u001b[1;32mc:\\Users\\user\\ecommerce-3\\env\\lib\\site-packages\\sqlalchemy\\sql\\operators.py\u001b[0m in \u001b[0;36mcontains\u001b[1;34m(self, other, **kwargs)\u001b[0m\n\u001b[0;32m    860\u001b[0m \u001b[1;33m\u001b[0m\u001b[0m\n\u001b[0;32m    861\u001b[0m         \"\"\"\n\u001b[1;32m--> 862\u001b[1;33m         \u001b[1;32mreturn\u001b[0m \u001b[0mself\u001b[0m\u001b[1;33m.\u001b[0m\u001b[0moperate\u001b[0m\u001b[1;33m(\u001b[0m\u001b[0mcontains_op\u001b[0m\u001b[1;33m,\u001b[0m \u001b[0mother\u001b[0m\u001b[1;33m,\u001b[0m \u001b[1;33m**\u001b[0m\u001b[0mkwargs\u001b[0m\u001b[1;33m)\u001b[0m\u001b[1;33m\u001b[0m\u001b[0m\n\u001b[0m\u001b[0;32m    863\u001b[0m \u001b[1;33m\u001b[0m\u001b[0m\n\u001b[0;32m    864\u001b[0m     \u001b[1;32mdef\u001b[0m \u001b[0mmatch\u001b[0m\u001b[1;33m(\u001b[0m\u001b[0mself\u001b[0m\u001b[1;33m,\u001b[0m \u001b[0mother\u001b[0m\u001b[1;33m,\u001b[0m \u001b[1;33m**\u001b[0m\u001b[0mkwargs\u001b[0m\u001b[1;33m)\u001b[0m\u001b[1;33m:\u001b[0m\u001b[1;33m\u001b[0m\u001b[0m\n",
      "\u001b[1;32mc:\\Users\\user\\ecommerce-3\\env\\lib\\site-packages\\sqlalchemy\\orm\\attributes.py\u001b[0m in \u001b[0;36moperate\u001b[1;34m(self, op, *other, **kwargs)\u001b[0m\n\u001b[0;32m    178\u001b[0m \u001b[1;33m\u001b[0m\u001b[0m\n\u001b[0;32m    179\u001b[0m     \u001b[1;32mdef\u001b[0m \u001b[0moperate\u001b[0m\u001b[1;33m(\u001b[0m\u001b[0mself\u001b[0m\u001b[1;33m,\u001b[0m \u001b[0mop\u001b[0m\u001b[1;33m,\u001b[0m \u001b[1;33m*\u001b[0m\u001b[0mother\u001b[0m\u001b[1;33m,\u001b[0m \u001b[1;33m**\u001b[0m\u001b[0mkwargs\u001b[0m\u001b[1;33m)\u001b[0m\u001b[1;33m:\u001b[0m\u001b[1;33m\u001b[0m\u001b[0m\n\u001b[1;32m--> 180\u001b[1;33m         \u001b[1;32mreturn\u001b[0m \u001b[0mop\u001b[0m\u001b[1;33m(\u001b[0m\u001b[0mself\u001b[0m\u001b[1;33m.\u001b[0m\u001b[0mcomparator\u001b[0m\u001b[1;33m,\u001b[0m \u001b[1;33m*\u001b[0m\u001b[0mother\u001b[0m\u001b[1;33m,\u001b[0m \u001b[1;33m**\u001b[0m\u001b[0mkwargs\u001b[0m\u001b[1;33m)\u001b[0m\u001b[1;33m\u001b[0m\u001b[0m\n\u001b[0m\u001b[0;32m    181\u001b[0m \u001b[1;33m\u001b[0m\u001b[0m\n\u001b[0;32m    182\u001b[0m     \u001b[1;32mdef\u001b[0m \u001b[0mreverse_operate\u001b[0m\u001b[1;33m(\u001b[0m\u001b[0mself\u001b[0m\u001b[1;33m,\u001b[0m \u001b[0mop\u001b[0m\u001b[1;33m,\u001b[0m \u001b[0mother\u001b[0m\u001b[1;33m,\u001b[0m \u001b[1;33m**\u001b[0m\u001b[0mkwargs\u001b[0m\u001b[1;33m)\u001b[0m\u001b[1;33m:\u001b[0m\u001b[1;33m\u001b[0m\u001b[0m\n",
      "\u001b[1;32mc:\\Users\\user\\ecommerce-3\\env\\lib\\site-packages\\sqlalchemy\\sql\\operators.py\u001b[0m in \u001b[0;36mcontains_op\u001b[1;34m(a, b, escape, autoescape)\u001b[0m\n\u001b[0;32m   1203\u001b[0m \u001b[1;33m\u001b[0m\u001b[0m\n\u001b[0;32m   1204\u001b[0m \u001b[1;32mdef\u001b[0m \u001b[0mcontains_op\u001b[0m\u001b[1;33m(\u001b[0m\u001b[0ma\u001b[0m\u001b[1;33m,\u001b[0m \u001b[0mb\u001b[0m\u001b[1;33m,\u001b[0m \u001b[0mescape\u001b[0m\u001b[1;33m=\u001b[0m\u001b[1;32mNone\u001b[0m\u001b[1;33m,\u001b[0m \u001b[0mautoescape\u001b[0m\u001b[1;33m=\u001b[0m\u001b[1;32mFalse\u001b[0m\u001b[1;33m)\u001b[0m\u001b[1;33m:\u001b[0m\u001b[1;33m\u001b[0m\u001b[0m\n\u001b[1;32m-> 1205\u001b[1;33m     \u001b[1;32mreturn\u001b[0m \u001b[0m_escaped_like_impl\u001b[0m\u001b[1;33m(\u001b[0m\u001b[0ma\u001b[0m\u001b[1;33m.\u001b[0m\u001b[0mcontains\u001b[0m\u001b[1;33m,\u001b[0m \u001b[0mb\u001b[0m\u001b[1;33m,\u001b[0m \u001b[0mescape\u001b[0m\u001b[1;33m,\u001b[0m \u001b[0mautoescape\u001b[0m\u001b[1;33m)\u001b[0m\u001b[1;33m\u001b[0m\u001b[0m\n\u001b[0m\u001b[0;32m   1206\u001b[0m \u001b[1;33m\u001b[0m\u001b[0m\n\u001b[0;32m   1207\u001b[0m \u001b[1;33m\u001b[0m\u001b[0m\n",
      "\u001b[1;32mc:\\Users\\user\\ecommerce-3\\env\\lib\\site-packages\\sqlalchemy\\sql\\operators.py\u001b[0m in \u001b[0;36m_escaped_like_impl\u001b[1;34m(fn, other, escape, autoescape)\u001b[0m\n\u001b[0;32m   1183\u001b[0m         )\n\u001b[0;32m   1184\u001b[0m \u001b[1;33m\u001b[0m\u001b[0m\n\u001b[1;32m-> 1185\u001b[1;33m     \u001b[1;32mreturn\u001b[0m \u001b[0mfn\u001b[0m\u001b[1;33m(\u001b[0m\u001b[0mother\u001b[0m\u001b[1;33m,\u001b[0m \u001b[0mescape\u001b[0m\u001b[1;33m=\u001b[0m\u001b[0mescape\u001b[0m\u001b[1;33m)\u001b[0m\u001b[1;33m\u001b[0m\u001b[0m\n\u001b[0m\u001b[0;32m   1186\u001b[0m \u001b[1;33m\u001b[0m\u001b[0m\n\u001b[0;32m   1187\u001b[0m \u001b[1;33m\u001b[0m\u001b[0m\n",
      "\u001b[1;32mc:\\Users\\user\\ecommerce-3\\env\\lib\\site-packages\\sqlalchemy\\orm\\relationships.py\u001b[0m in \u001b[0;36mcontains\u001b[1;34m(self, other, **kwargs)\u001b[0m\n\u001b[0;32m   1249\u001b[0m                     \"attributes.  Use ==\")\n\u001b[0;32m   1250\u001b[0m             clause = self.property._optimized_compare(\n\u001b[1;32m-> 1251\u001b[1;33m                 other, adapt_source=self.adapter)\n\u001b[0m\u001b[0;32m   1252\u001b[0m \u001b[1;33m\u001b[0m\u001b[0m\n\u001b[0;32m   1253\u001b[0m             \u001b[1;32mif\u001b[0m \u001b[0mself\u001b[0m\u001b[1;33m.\u001b[0m\u001b[0mproperty\u001b[0m\u001b[1;33m.\u001b[0m\u001b[0msecondaryjoin\u001b[0m \u001b[1;32mis\u001b[0m \u001b[1;32mnot\u001b[0m \u001b[1;32mNone\u001b[0m\u001b[1;33m:\u001b[0m\u001b[1;33m\u001b[0m\u001b[0m\n",
      "\u001b[1;32mc:\\Users\\user\\ecommerce-3\\env\\lib\\site-packages\\sqlalchemy\\orm\\relationships.py\u001b[0m in \u001b[0;36m_optimized_compare\u001b[1;34m(self, state, value_is_parent, adapt_source, alias_secondary)\u001b[0m\n\u001b[0;32m   1370\u001b[0m                            alias_secondary=True):\n\u001b[0;32m   1371\u001b[0m         \u001b[1;32mif\u001b[0m \u001b[0mstate\u001b[0m \u001b[1;32mis\u001b[0m \u001b[1;32mnot\u001b[0m \u001b[1;32mNone\u001b[0m\u001b[1;33m:\u001b[0m\u001b[1;33m\u001b[0m\u001b[0m\n\u001b[1;32m-> 1372\u001b[1;33m             \u001b[0mstate\u001b[0m \u001b[1;33m=\u001b[0m \u001b[0mattributes\u001b[0m\u001b[1;33m.\u001b[0m\u001b[0minstance_state\u001b[0m\u001b[1;33m(\u001b[0m\u001b[0mstate\u001b[0m\u001b[1;33m)\u001b[0m\u001b[1;33m\u001b[0m\u001b[0m\n\u001b[0m\u001b[0;32m   1373\u001b[0m \u001b[1;33m\u001b[0m\u001b[0m\n\u001b[0;32m   1374\u001b[0m         \u001b[0mreverse_direction\u001b[0m \u001b[1;33m=\u001b[0m \u001b[1;32mnot\u001b[0m \u001b[0mvalue_is_parent\u001b[0m\u001b[1;33m\u001b[0m\u001b[0m\n",
      "\u001b[1;31mAttributeError\u001b[0m: 'int' object has no attribute '_sa_instance_state'"
     ]
    }
   ],
   "source": [
    "db.session.query(Order).filter(Order.reviews.contains(1)).all()"
   ]
  },
  {
   "cell_type": "code",
   "execution_count": 71,
   "metadata": {},
   "outputs": [
    {
     "data": {
      "text/plain": "[<Reviews 1>]"
     },
     "execution_count": 71,
     "metadata": {},
     "output_type": "execute_result"
    }
   ],
   "source": [
    "Order.query.get(1).reviews.all()"
   ]
  },
  {
   "cell_type": "code",
   "execution_count": 207,
   "metadata": {},
   "outputs": [
    {
     "data": {
      "text/plain": "21"
     },
     "execution_count": 207,
     "metadata": {},
     "output_type": "execute_result"
    }
   ],
   "source": [
    "Product.query.count()"
   ]
  },
  {
   "cell_type": "code",
   "execution_count": null,
   "metadata": {},
   "outputs": [],
   "source": [
    "subquery = db.session.query(Event).join(Order).join(Reviews).filter(Order.id == Reviews.order_id ).exists()"
   ]
  },
  {
   "cell_type": "code",
   "execution_count": 7,
   "metadata": {},
   "outputs": [],
   "source": [
    "def search( pid = [x for x in range( Product.query.count()+1 )] ,category_list = [x for x in range( Category.query.count()+1 )],min_price=0 , max_price=100000 , min_avg=0 , word=False ):\n",
    "\n",
    "    if type(pid) == int :\n",
    "        pid = [pid]\n",
    "\n",
    "\n",
    "    search_query = db.session.query(Product.id).outerjoin(Order).outerjoin(Reviews).group_by(Product).having(or_(db.func.count(Reviews.id)==0 , db.func.avg(Reviews.stars) > min_avg )).subquery()\n",
    "\n",
    "\n",
    "    #query = products.filter(Product.category.in_(pid))\n",
    "\n",
    "    if word :\n",
    "        word = \"%{}%\".format(word)\n",
    "        search_query = Product.query.join(search_query , search_query.c.id == Product.id).filter(Product.name.like(word)).subquery()\n",
    "\n",
    "    \n",
    "    search_query = Product.query.join(search_query , search_query.c.id == Product.id).filter(Product.id.in_(pid) ,Product.category.in_(category_list) , Product.price > min_price , Product.price < max_price )\n",
    "\n",
    "    #if min_price:\n",
    "    #    products = products.filter(Product.price > min_price )\n",
    "\n",
    "    #if max_price:\n",
    "    #    products = products.filter(Product.price < max_price )\n",
    "\n",
    "    #search_query = search_query.all()\n",
    "    #temp = search_query.all()\n",
    "    \n",
    "    products = []\n",
    "    for product in search_query :\n",
    "        row = product.__dict__\n",
    "        row['supplier'] = product.supplier.get_info()\n",
    "        row['avg_stars'] = product.get_review(avg=True)['avg']\n",
    "        row['price'] =  float( row['price'] )\n",
    "        if row['_sa_instance_state']:\n",
    "            del row['_sa_instance_state']\n",
    "        products.append(row)\n",
    "    \n",
    "    return products"
   ]
  },
  {
   "cell_type": "code",
   "execution_count": 13,
   "metadata": {},
   "outputs": [
    {
     "data": {
      "text/plain": "1"
     },
     "execution_count": 13,
     "metadata": {},
     "output_type": "execute_result"
    }
   ],
   "source": [
    "len(search( category_list=[1] ))"
   ]
  },
  {
   "cell_type": "code",
   "execution_count": 56,
   "metadata": {},
   "outputs": [],
   "source": [
    "    query = db.session.query(Product.id).outerjoin(Order).outerjoin(Reviews).group_by(Product).having(or_(db.func.count(Reviews.id)==0 , db.func.avg(Reviews.stars) > 0 )).subquery()\n",
    "\n",
    "    query = Product.query.join(query , query.c.id == Product.id).filter(Product.id.in_([1,2,3,4,5,6,7,8,9]) , Product.price > 1 , Product.price < 100000 )\n"
   ]
  },
  {
   "cell_type": "code",
   "execution_count": 57,
   "metadata": {},
   "outputs": [
    {
     "data": {
      "text/plain": "[<Product 1>,\n <Product 2>,\n <Product 3>,\n <Product 4>,\n <Product 5>,\n <Product 6>,\n <Product 7>,\n <Product 8>,\n <Product 9>]"
     },
     "execution_count": 57,
     "metadata": {},
     "output_type": "execute_result"
    }
   ],
   "source": [
    "query.all()"
   ]
  },
  {
   "cell_type": "code",
   "execution_count": 42,
   "metadata": {},
   "outputs": [],
   "source": [
    "temp = query.all()"
   ]
  },
  {
   "cell_type": "code",
   "execution_count": 43,
   "metadata": {},
   "outputs": [
    {
     "data": {
      "text/plain": "[<Product 1>,\n <Product 2>,\n <Product 3>,\n <Product 4>,\n <Product 5>,\n <Product 6>,\n <Product 7>,\n <Product 8>,\n <Product 9>]"
     },
     "execution_count": 43,
     "metadata": {},
     "output_type": "execute_result"
    }
   ],
   "source": [
    "temp"
   ]
  },
  {
   "cell_type": "code",
   "execution_count": 31,
   "metadata": {},
   "outputs": [
    {
     "data": {
      "text/plain": "[<Product 1>,\n <Product 2>,\n <Product 3>,\n <Product 4>,\n <Product 5>,\n <Product 6>,\n <Product 7>,\n <Product 8>,\n <Product 9>,\n <Product 10>,\n <Product 11>,\n <Product 12>,\n <Product 13>,\n <Product 14>,\n <Product 15>,\n <Product 16>,\n <Product 17>,\n <Product 18>,\n <Product 19>,\n <Product 20>,\n <Product 21>]"
     },
     "execution_count": 31,
     "metadata": {},
     "output_type": "execute_result"
    }
   ],
   "source": [
    "word = ''\n",
    "word = \"%{}%\".format(word)\n",
    "Product.query.filter(Product.name.like(word)).all()"
   ]
  },
  {
   "cell_type": "code",
   "execution_count": 46,
   "metadata": {},
   "outputs": [
    {
     "name": "stdout",
     "output_type": "stream",
     "text": "Super Sports', 'type_of': 'N/A', 'address': 'N/A', 'photo': 'N/A', 'supplier_avg_stars': 3.3333333333333335}, 'avg_stars': 4.0}, {'Additional_information': 'Placerat in egestas erat imperdiet sed euismod. Tellus id interdum velit laoreet id donec. Adipiscing vitae proin sagittis nisl rhoncus mattis rhoncus urna neque.', 'price': 2.0, 'product_sub_type': 'N/A', 'category': 1, 'supplier_id': 1, 'name': 'pen', 'picture': '/static/img/products/default.png', 'brand': 'pilot', 'product_type': 'house', 'desc': 'a good pen', 'id': 2, 'supplier': {'id': 1, 'name': 'Super Sports', 'type_of': 'N/A', 'address': 'N/A', 'photo': 'N/A', 'supplier_avg_stars': 3.3333333333333335}, 'avg_stars': None}, {'Additional_information': 'N/A', 'price': 14.0, 'product_sub_type': 'furniture', 'category': 2, 'supplier_id': 2, 'name': 'Table', 'picture': '/static/img/products/a.jpg', 'brand': 'IKEA', 'product_type': 'house', 'desc': 'Dining table', 'id': 3, 'supplier': {'id': 2, 'name': 'Best-Buy', 'type_of': 'house', 'address': 'israel', 'photo': 'israel', 'supplier_avg_stars': None}, 'avg_stars': None}, {'Additional_information': 'N/A', 'price': 16.0, 'product_sub_type': 'furniture', 'category': 1, 'supplier_id': 2, 'name': 'Chair', 'picture': '/static/img/products/c60bf7c631e88f82.jpg', 'brand': 'IKEA', 'product_type': 'house', 'desc': 'Comfortable chair', 'id': 4, 'supplier': {'id': 2, 'name': 'Best-Buy', 'type_of': 'house', 'address': 'israel', 'photo': 'israel', 'supplier_avg_stars': None}, 'avg_stars': None}, {'Additional_information': 'N/A', 'price': 21.0, 'product_sub_type': 'N/A', 'category': 2, 'supplier_id': 8, 'name': 'white desk', 'picture': '/static/img/products/default.jpg', 'brand': 'Home depot', 'product_type': 'furniture', 'desc': 'white deskת Measurements : 140X100X60', 'id': 5, 'supplier': {'id': 8, 'name': 'Home depot', 'type_of': 'House', 'address': 'dovnov 4, Rehovot', 'photo': 'dovnov 4, Rehovot', 'supplier_avg_stars': 4.0}, 'avg_stars': 5.0}, {'Additional_information': 'N/A', 'price': 21.0, 'product_sub_type': 'N/A', 'category': 1, 'supplier_id': 8, 'name': 'black desk', 'picture': '/static/img/products/default.jpg', 'brand': 'Home depot', 'product_type': 'furniture', 'desc': 'black desk, Measurements : 140X100X60', 'id': 6, 'supplier': {'id': 8, 'name': 'Home depot', 'type_of': 'House', 'address': 'dovnov 4, Rehovot', 'photo': 'dovnov 4, Rehovot', 'supplier_avg_stars': 4.0}, 'avg_stars': 3.5}, {'Additional_information': 'N/A', 'price': 35.0, 'product_sub_type': 'N/A', 'category': 2, 'supplier_id': 7, 'name': 'black desk', 'picture': '/static/img/products/default.jpg', 'brand': 'Ace', 'product_type': 'furniture', 'desc': 'black desk, Measurements : 140X100X80', 'id': 7, 'supplier': {'id': 7, 'name': 'Ace', 'type_of': 'House', 'address': 'dovnov 10, Rehovot', 'photo': 'dovnov 10, Rehovot', 'supplier_avg_stars': None}, 'avg_stars': None}, {'Additional_information': 'N/A', 'price': 3.0, 'product_sub_type': 'N/A', 'category': 1, 'supplier_id': 4, 'name': 'Full Cover Glass on the For iPhone X', 'picture': '/static/img/products/default.jpg', 'brand': 'N/A', 'product_type': 'furniture', 'desc': '3Pcs Full Cover Glass on the For iPhone X XS Max XR Tempered Glass For iPhone 7 8 6 6s Plus 5 5S SE 11 Pro Screen Protector', 'id': 8, 'supplier': {'id': 4, 'name': 'KSP', 'type_of': 'consumer electronics', 'address': 'rotshild 21, tal aviv', 'photo': 'rotshild 21, tal aviv', 'supplier_avg_stars': 5.0}, 'avg_stars': None}, {'Additional_information': 'N/A', 'price': 3.0, 'product_sub_type': 'N/A', 'category': 3, 'supplier_id': 4, 'name': 'Tempered Glass Film For Samsung Galaxy Note 8', 'picture': '/static/img/products/default.jpg', 'brand': 'N/A', 'product_type': 'furniture', 'desc': 'Tempered Glass Film For Samsung Galaxy Note 8 9 S9 S8 Plus S7 Edge 9D Full Curved Screen Protector For Samsung A6 A8 Plus 2018, Perftctly Suitable For Samsung Galaxy S7/S7 Edge/S8/S8 Plus/S9/S9 PlusmNote 8/Note 9/A6 2018/A6 Plus 2018/A8 2018/A8 2018 Plus[Material]:  Made Of High Quality Tempered Glass, [Function]:Shock-Proof + Scratch-Resistant + Anti-Skid', 'id': 9, 'supplier': {'id': 4, 'name': 'KSP', 'type_of': 'consumer electronics', 'address': 'rotshild 21, tal aviv', 'photo': 'rotshild 21, tal aviv', 'supplier_avg_stars': 5.0}, 'avg_stars': 5.0}, {'Additional_information': 'N/A', 'price': 3.0, 'product_sub_type': 'N/A', 'category': 4, 'supplier_id': 5, 'name': 'Tempered Glass Samsung Galaxy S7 Screen Protector', 'picture': '/static/img/products/default.jpg', 'brand': 'N/A', 'product_type': 'Phone Screen Protector', 'desc': 'Tempered Glass Samsung Galaxy S7 Screen Protector Ultra-Thin Protective Film For Samsung Galaxy S7 Glass For Samsung S7', 'id': 10, 'supplier': {'id': 5, 'name': 'Bug', 'type_of': 'consumer electronics', 'address': 'rotshild 60, tal aviv', 'photo': 'rotshild 60, tal aviv', 'supplier_avg_stars': 3.3333333333333335}, 'avg_stars': None}, {'Additional_information': 'N/A', 'price': 3.0, 'product_sub_type': 'N/A', 'category': 5, 'supplier_id': 5, 'name': 'Dell Inspiron 15 3593', 'picture': '/static/img/products/default.jpg', 'brand': 'Dell ', 'product_type': 'laptop', 'desc': 'Dell Inspiron 15 3593 laptop', 'id': 11, 'supplier': {'id': 5, 'name': 'Bug', 'type_of': 'consumer electronics', 'address': 'rotshild 60, tal aviv', 'photo': 'rotshild 60, tal aviv', 'supplier_avg_stars': 3.3333333333333335}, 'avg_stars': 2.0}, {'Additional_information': 'N/A', 'price': 3.0, 'product_sub_type': 'N/A', 'category': 6, 'supplier_id': 5, 'name': 'Dell Vostro 5490 VM-RD09-11633', 'picture': '/static/img/products/default.jpg', 'brand': 'Dell ', 'product_type': 'laptop', 'desc': 'Dell Vostro 5490 VM-RD09-11633 laptop', 'id': 12, 'supplier': {'id': 5, 'name': 'Bug', 'type_of': 'consumer electronics', 'address': 'rotshild 60, tal aviv', 'photo': 'rotshild 60, tal aviv', 'supplier_avg_stars': 3.3333333333333335}, 'avg_stars': 3.0}, {'Additional_information': 'N/A', 'price': 3.0, 'product_sub_type': 'N/A', 'category': 1, 'supplier_id': 5, 'name': 'Dell Vostro 15 3590 VM-RD09-11681', 'picture': '/static/img/products/default.jpg', 'brand': 'Dell ', 'product_type': 'laptop', 'desc': 'Dell Vostro 15 3590 VM-RD09-11681 laptop', 'id': 13, 'supplier': {'id': 5, 'name': 'Bug', 'type_of': 'consumer electronics', 'address': 'rotshild 60, tal aviv', 'photo': 'rotshild 60, tal aviv', 'supplier_avg_stars': 3.3333333333333335}, 'avg_stars': 5.0}, {'Additional_information': 'N/A', 'price': 1200.0, 'product_sub_type': 'N/A', 'category': 6, 'supplier_id': 3, 'name': 'Apple MacBook Pro', 'picture': '/static/img/products/default.jpg', 'brand': 'Apple ', 'product_type': 'laptop', 'desc': 'Apple MacBook Pro laptop', 'id': 14, 'supplier': {'id': 3, 'name': 'I-store digital', 'type_of': 'consumer electronics', 'address': 'alanbi 21, tal aviv', 'photo': 'alanbi 21, tal aviv', 'supplier_avg_stars': 3.25}, 'avg_stars': 2.6666666666666665}, {'Additional_information': 'N/A', 'price': 1800.0, 'product_sub_type': 'N/A', 'category': 1, 'supplier_id': 3, 'name': 'Apple MacBook Pro 15', 'picture': '/static/img/products/default.jpg', 'brand': 'Apple ', 'product_type': 'laptop', 'desc': 'Apple MacBook Pro 15 laptop', 'id': 15, 'supplier': {'id': 3, 'name': 'I-store digital', 'type_of': 'consumer electronics', 'address': 'alanbi 21, tal aviv', 'photo': 'alanbi 21, tal aviv', 'supplier_avg_stars': 3.25}, 'avg_stars': None}, {'Additional_information': 'N/A', 'price': 1350.0, 'product_sub_type': 'N/A', 'category': 6, 'supplier_id': 3, 'name': 'Apple MacBook Air 13', 'picture': '/static/img/products/default.jpg', 'brand': 'Apple ', 'product_type': 'laptop', 'desc': 'Apple MacBook Air 13 laptop', 'id': 16, 'supplier': {'id': 3, 'name': 'I-store digital', 'type_of': 'consumer electronics', 'address': 'alanbi 21, tal aviv', 'photo': 'alanbi 21, tal aviv', 'supplier_avg_stars': 3.25}, 'avg_stars': 5.0}, {'Additional_information': 'N/A', 'price': 1350.0, 'product_sub_type': 'N/A', 'category': 1, 'supplier_id': 6, 'name': 'sport shoes', 'picture': '/static/img/products/default.jpg', 'brand': 'nike', 'product_type': 'laptop', 'desc': 'sport shoes size 42', 'id': 17, 'supplier': {'id': 6, 'name': 'bon-sports', 'type_of': 'sports', 'address': 'dovnov 10, holon', 'photo': 'dovnov 10, holon', 'supplier_avg_stars': None}, 'avg_stars': None}, {'Additional_information': 'N/A', 'price': 1350.0, 'product_sub_type': 'N/A', 'category': 8, 'supplier_id': 1, 'name': 'sport shoes', 'picture': '/static/img/products/default.jpg', 'brand': 'puma', 'product_type': 'laptop', 'desc': 'sport shoes size 42', 'id': 18, 'supplier': {'id': 1, 'name': 'Super Sports', 'type_of': 'N/A', 'address': 'N/A', 'photo': 'N/A', 'supplier_avg_stars': 3.3333333333333335}, 'avg_stars': None}, {'Additional_information': 'N/A', 'price': 1350.0, 'product_sub_type': 'N/A', 'category': 8, 'supplier_id': 1, 'name': 'runing shoes', 'picture': '/static/img/products/default.jpg', 'brand': 'puma', 'product_type': 'laptop', 'desc': 'runing shoes size 42', 'id': 19, 'supplier': {'id': 1, 'name': 'Super Sports', 'type_of': 'N/A', 'address': 'N/A', 'photo': 'N/A', 'supplier_avg_stars': 3.3333333333333335}, 'avg_stars': 3.6666666666666665}, {'Additional_information': 'N/A', 'price': 1350.0, 'product_sub_type': 'N/A', 'category': 1, 'supplier_id': 1, 'name': 'Tennis racket', 'picture': '/static/img/products/default.jpg', 'brand': 'NBC', 'product_type': 'sports', 'desc': 'Tennis racket', 'id': 20, 'supplier': {'id': 1, 'name': 'Super Sports', 'type_of': 'N/A', 'address': 'N/A', 'photo': 'N/A', 'supplier_avg_stars': 3.3333333333333335}, 'avg_stars': 2.5}]\n[{'Additional_information': 'Lorem ipsum dolor sit amet, consectetur adipiscing elit, sed do eiusmod tempor incididunt ut labore et dolore magna aliqua.', 'price': 5.0, 'product_sub_type': 'N/A', 'category': 1, 'supplier_id': 1, 'name': 'ball', 'picture': '/static/img/products/football.jfif', 'brand': 'nike', 'product_type': 'sports', 'desc': 'real madrid ball', 'id': 1, 'supplier': {'id': 1, 'name': 'Super Sports', 'type_of': 'N/A', 'address': 'N/A', 'photo': 'N/A', 'supplier_avg_stars': 3.3333333333333335}, 'avg_stars': 4.0}, {'Additional_information': 'Placerat in egestas erat imperdiet sed euismod. Tellus id interdum velit laoreet id donec. Adipiscing vitae proin sagittis nisl rhoncus mattis rhoncus urna neque.', 'price': 2.0, 'product_sub_type': 'N/A', 'category': 1, 'supplier_id': 1, 'name': 'pen', 'picture': '/static/img/products/default.png', 'brand': 'pilot', 'product_type': 'house', 'desc': 'a good pen', 'id': 2, 'supplier': {'id': 1, 'name': 'Super Sports', 'type_of': 'N/A', 'address': 'N/A', 'photo': 'N/A', 'supplier_avg_stars': 3.3333333333333335}, 'avg_stars': None}, {'Additional_information': 'N/A', 'price': 14.0, 'product_sub_type': 'furniture', 'category': 2, 'supplier_id': 2, 'name': 'Table', 'picture': '/static/img/products/a.jpg', 'brand': 'IKEA', 'product_type': 'house', 'desc': 'Dining table', 'id': 3, 'supplier': {'id': 2, 'name': 'Best-Buy', 'type_of': 'house', 'address': 'israel', 'photo': 'israel', 'supplier_avg_stars': None}, 'avg_stars': None}, {'Additional_information': 'N/A', 'price': 16.0, 'product_sub_type': 'furniture', 'category': 1, 'supplier_id': 2, 'name': 'Chair', 'picture': '/static/img/products/c60bf7c631e88f82.jpg', 'brand': 'IKEA', 'product_type': 'house', 'desc': 'Comfortable chair', 'id': 4, 'supplier': {'id': 2, 'name': 'Best-Buy', 'type_of': 'house', 'address': 'israel', 'photo': 'israel', 'supplier_avg_stars': None}, 'avg_stars': None}, {'Additional_information': 'N/A', 'price': 21.0, 'product_sub_type': 'N/A', 'category': 2, 'supplier_id': 8, 'name': 'white desk', 'picture': '/static/img/products/default.jpg', 'brand': 'Home depot', 'product_type': 'furniture', 'desc': 'white deskת Measurements : 140X100X60', 'id': 5, 'supplier': {'id': 8, 'name': 'Home depot', 'type_of': 'House', 'address': 'dovnov 4, Rehovot', 'photo': 'dovnov 4, Rehovot', 'supplier_avg_stars': 4.0}, 'avg_stars': 5.0}, {'Additional_information': 'N/A', 'price': 21.0, 'product_sub_type': 'N/A', 'category': 1, 'supplier_id': 8, 'name': 'black desk', 'picture': '/static/img/products/default.jpg', 'brand': 'Home depot', 'product_type': 'furniture', 'desc': 'black desk, Measurements : 140X100X60', 'id': 6, 'supplier': {'id': 8, 'name': 'Home depot', 'type_of': 'House', 'address': 'dovnov 4, Rehovot', 'photo': 'dovnov 4, Rehovot', 'supplier_avg_stars': 4.0}, 'avg_stars': 3.5}, {'Additional_information': 'N/A', 'price': 35.0, 'product_sub_type': 'N/A', 'category': 2, 'supplier_id': 7, 'name': 'black desk', 'picture': '/static/img/products/default.jpg', 'brand': 'Ace', 'product_type': 'furniture', 'desc': 'black desk, Measurements : 140X100X80', 'id': 7, 'supplier': {'id': 7, 'name': 'Ace', 'type_of': 'House', 'address': 'dovnov 10, Rehovot', 'photo': 'dovnov 10, Rehovot', 'supplier_avg_stars': None}, 'avg_stars': None}, {'Additional_information': 'N/A', 'price': 3.0, 'product_sub_type': 'N/A', 'category': 1, 'supplier_id': 4, 'name': 'Full Cover Glass on the For iPhone X', 'picture': '/static/img/products/default.jpg', 'brand': 'N/A', 'product_type': 'furniture', 'desc': '3Pcs Full Cover Glass on the For iPhone X XS Max XR Tempered Glass For iPhone 7 8 6 6s Plus 5 5S SE 11 Pro Screen Protector', 'id': 8, 'supplier': {'id': 4, 'name': 'KSP', 'type_of': 'consumer electronics', 'address': 'rotshild 21, tal aviv', 'photo': 'rotshild 21, tal aviv', 'supplier_avg_stars': 5.0}, 'avg_stars': None}, {'Additional_information': 'N/A', 'price': 3.0, 'product_sub_type': 'N/A', 'category': 3, 'supplier_id': 4, 'name': 'Tempered Glass Film For Samsung Galaxy Note 8', 'picture': '/static/img/products/default.jpg', 'brand': 'N/A', 'product_type': 'furniture', 'desc': 'Tempered Glass Film For Samsung Galaxy Note 8 9 S9 S8 Plus S7 Edge 9D Full Curved Screen Protector For Samsung A6 A8 Plus 2018, Perftctly Suitable For Samsung Galaxy S7/S7 Edge/S8/S8 Plus/S9/S9 PlusmNote 8/Note 9/A6 2018/A6 Plus 2018/A8 2018/A8 2018 Plus[Material]:  Made Of High Quality Tempered Glass, [Function]:Shock-Proof + Scratch-Resistant + Anti-Skid', 'id': 9, 'supplier': {'id': 4, 'name': 'KSP', 'type_of': 'consumer electronics', 'address': 'rotshild 21, tal aviv', 'photo': 'rotshild 21, tal aviv', 'supplier_avg_stars': 5.0}, 'avg_stars': 5.0}, {'Additional_information': 'N/A', 'price': 3.0, 'product_sub_type': 'N/A', 'category': 4, 'supplier_id': 5, 'name': 'Tempered Glass Samsung Galaxy S7 Screen Protector', 'picture': '/static/img/products/default.jpg', 'brand': 'N/A', 'product_type': 'Phone Screen Protector', 'desc': 'Tempered Glass Samsung Galaxy S7 Screen Protector Ultra-Thin Protective Film For Samsung Galaxy S7 Glass For Samsung S7', 'id': 10, 'supplier': {'id': 5, 'name': 'Bug', 'type_of': 'consumer electronics', 'address': 'rotshild 60, tal aviv', 'photo': 'rotshild 60, tal aviv', 'supplier_avg_stars': 3.3333333333333335}, 'avg_stars': None}, {'Additional_information': 'N/A', 'price': 3.0, 'product_sub_type': 'N/A', 'category': 5, 'supplier_id': 5, 'name': 'Dell Inspiron 15 3593', 'picture': '/static/img/products/default.jpg', 'brand': 'Dell ', 'product_type': 'laptop', 'desc': 'Dell Inspiron 15 3593 laptop', 'id': 11, 'supplier': {'id': 5, 'name': 'Bug', 'type_of': 'consumer electronics', 'address': 'rotshild 60, tal aviv', 'photo': 'rotshild 60, tal aviv', 'supplier_avg_stars': 3.3333333333333335}, 'avg_stars': 2.0}, {'Additional_information': 'N/A', 'price': 3.0, 'product_sub_type': 'N/A', 'category': 6, 'supplier_id': 5, 'name': 'Dell Vostro 5490 VM-RD09-11633', 'picture': '/static/img/products/default.jpg', 'brand': 'Dell ', 'product_type': 'laptop', 'desc': 'Dell Vostro 5490 VM-RD09-11633 laptop', 'id': 12, 'supplier': {'id': 5, 'name': 'Bug', 'type_of': 'consumer electronics', 'address': 'rotshild 60, tal aviv', 'photo': 'rotshild 60, tal aviv', 'supplier_avg_stars': 3.3333333333333335}, 'avg_stars': 3.0}, {'Additional_information': 'N/A', 'price': 3.0, 'product_sub_type': 'N/A', 'category': 1, 'supplier_id': 5, 'name': 'Dell Vostro 15 3590 VM-RD09-11681', 'picture': '/static/img/products/default.jpg', 'brand': 'Dell ', 'product_type': 'laptop', 'desc': 'Dell Vostro 15 3590 VM-RD09-11681 laptop', 'id': 13, 'supplier': {'id': 5, 'name': 'Bug', 'type_of': 'consumer electronics', 'address': 'rotshild 60, tal aviv', 'photo': 'rotshild 60, tal aviv', 'supplier_avg_stars': 3.3333333333333335}, 'avg_stars': 5.0}, {'Additional_information': 'N/A', 'price': 1200.0, 'product_sub_type': 'N/A', 'category': 6, 'supplier_id': 3, 'name': 'Apple MacBook Pro', 'picture': '/static/img/products/default.jpg', 'brand': 'Apple ', 'product_type': 'laptop', 'desc': 'Apple MacBook Pro laptop', 'id': 14, 'supplier': {'id': 3, 'name': 'I-store digital', 'type_of': 'consumer electronics', 'address': 'alanbi 21, tal aviv', 'photo': 'alanbi 21, tal aviv', 'supplier_avg_stars': 3.25}, 'avg_stars': 2.6666666666666665}, {'Additional_information': 'N/A', 'price': 1800.0, 'product_sub_type': 'N/A', 'category': 1, 'supplier_id': 3, 'name': 'Apple MacBook Pro 15', 'picture': '/static/img/products/default.jpg', 'brand': 'Apple ', 'product_type': 'laptop', 'desc': 'Apple MacBook Pro 15 laptop', 'id': 15, 'supplier': {'id': 3, 'name': 'I-store digital', 'type_of': 'consumer electronics', 'address': 'alanbi 21, tal aviv', 'photo': 'alanbi 21, tal aviv', 'supplier_avg_stars': 3.25}, 'avg_stars': None}, {'Additional_information': 'N/A', 'price': 1350.0, 'product_sub_type': 'N/A', 'category': 6, 'supplier_id': 3, 'name': 'Apple MacBook Air 13', 'picture': '/static/img/products/default.jpg', 'brand': 'Apple ', 'product_type': 'laptop', 'desc': 'Apple MacBook Air 13 laptop', 'id': 16, 'supplier': {'id': 3, 'name': 'I-store digital', 'type_of': 'consumer electronics', 'address': 'alanbi 21, tal aviv', 'photo': 'alanbi 21, tal aviv', 'supplier_avg_stars': 3.25}, 'avg_stars': 5.0}, {'Additional_information': 'N/A', 'price': 1350.0, 'product_sub_type': 'N/A', 'category': 1, 'supplier_id': 6, 'name': 'sport shoes', 'picture': '/static/img/products/default.jpg', 'brand': 'nike', 'product_type': 'laptop', 'desc': 'sport shoes size 42', 'id': 17, 'supplier': {'id': 6, 'name': 'bon-sports', 'type_of': 'sports', 'address': 'dovnov 10, holon', 'photo': 'dovnov 10, holon', 'supplier_avg_stars': None}, 'avg_stars': None}, {'Additional_information': 'N/A', 'price': 1350.0, 'product_sub_type': 'N/A', 'category': 8, 'supplier_id': 1, 'name': 'sport shoes', 'picture': '/static/img/products/default.jpg', 'brand': 'puma', 'product_type': 'laptop', 'desc': 'sport shoes size 42', 'id': 18, 'supplier': {'id': 1, 'name': 'Super Sports', 'type_of': 'N/A', 'address': 'N/A', 'photo': 'N/A', 'supplier_avg_stars': 3.3333333333333335}, 'avg_stars': None}, {'Additional_information': 'N/A', 'price': 1350.0, 'product_sub_type': 'N/A', 'category': 8, 'supplier_id': 1, 'name': 'runing shoes', 'picture': '/static/img/products/default.jpg', 'brand': 'puma', 'product_type': 'laptop', 'desc': 'runing shoes size 42', 'id': 19, 'supplier': {'id': 1, 'name': 'Super Sports', 'type_of': 'N/A', 'address': 'N/A', 'photo': 'N/A', 'supplier_avg_stars': 3.3333333333333335}, 'avg_stars': 3.6666666666666665}, {'Additional_information': 'N/A', 'price': 1350.0, 'product_sub_type': 'N/A', 'category': 1, 'supplier_id': 1, 'name': 'Tennis racket', 'picture': '/static/img/products/default.jpg', 'brand': 'NBC', 'product_type': 'sports', 'desc': 'Tennis racket', 'id': 20, 'supplier': {'id': 1, 'name': 'Super Sports', 'type_of': 'N/A', 'address': 'N/A', 'photo': 'N/A', 'supplier_avg_stars': 3.3333333333333335}, 'avg_stars': 2.5}, {'Additional_information': 'N/A', 'price': 1350.0, 'product_sub_type': 'N/A', 'category': 3, 'supplier_id': 2, 'name': 'Tennis ball', 'picture': '/static/img/products/default.jpg', 'brand': 'N/A', 'product_type': 'sports', 'desc': 'Tennis ball', 'id': 21, 'supplier': {'id': 2, 'name': 'Best-Buy', 'type_of': 'house', 'address': 'israel', 'photo': 'israel', 'supplier_avg_stars': None}, 'avg_stars': None}]\n"
    }
   ],
   "source": [
    "    search_query = db.session.query(Product.id).outerjoin(Order).outerjoin(Reviews).group_by(Product).having(or_(db.func.count(Reviews.id)==0 , db.func.avg(Reviews.stars) > 0 )).subquery()\n",
    "\n",
    "\n",
    "    #query = products.filter(Product.category.in_(pid))\n",
    "\n",
    "    #if word :\n",
    "     #   word = \"%{}%\".format(word)\n",
    "      #  search_query = Product.query.join(search_query , search_query.c.id == Product.id).filter(Product.name.like(word)).subquery()\n",
    "\n",
    "    \n",
    "    search_query = Product.query.join(search_query , search_query.c.id == Product.id).filter(Product.id.in_([1,2,3,4,5,6,7,8,9,10,11,12,13,14,15,16,17,18,19,20,21,22]) , Product.price > 1 , Product.price < 50000 )\n",
    "\n",
    "    #if min_price:\n",
    "    #    products = products.filter(Product.price > min_price )\n",
    "\n",
    "    #if max_price:\n",
    "    #    products = products.filter(Product.price < max_price )\n",
    "\n",
    "    #temp = search_query.all()\n",
    "    \n",
    "    products = []\n",
    "    for product in search_query :\n",
    "        row = product.__dict__\n",
    "        row['supplier'] = product.supplier.get_info()\n",
    "        row['avg_stars'] = product.get_review(avg=True)['avg']\n",
    "        row['price'] =  float( row['price'] )\n",
    "        if row['_sa_instance_state']:\n",
    "            del row['_sa_instance_state']\n",
    "        products.append(row)\n",
    "\n",
    "        print (products)"
   ]
  },
  {
   "cell_type": "code",
   "execution_count": 7,
   "metadata": {},
   "outputs": [],
   "source": [
    "a = search_query[1]"
   ]
  },
  {
   "cell_type": "code",
   "execution_count": 16,
   "metadata": {},
   "outputs": [],
   "source": [
    "from ecommerce import *\n",
    "from ecommerce.models import *\n",
    "from sqlalchemy import or_"
   ]
  },
  {
   "cell_type": "code",
   "execution_count": 9,
   "metadata": {},
   "outputs": [
    {
     "data": {
      "text/plain": "{'id': 1,\n 'name': 'Super Sports',\n 'type_of': 'N/A',\n 'address': 'N/A',\n 'photo': 'N/A',\n 'supplier_avg_stars': 3.3333333333333335}"
     },
     "execution_count": 9,
     "metadata": {},
     "output_type": "execute_result"
    }
   ],
   "source": [
    "search_query[0].supplier.get_info()"
   ]
  },
  {
   "cell_type": "code",
   "execution_count": 1,
   "metadata": {},
   "outputs": [],
   "source": [
    "from ecommerce.functions import *"
   ]
  },
  {
   "cell_type": "code",
   "execution_count": 11,
   "metadata": {},
   "outputs": [
    {
     "data": {
      "text/plain": "<SQLAlchemy engine=sqlite:///c:\\Users\\user\\ecommerce-5\\ecommerce\\data.sqlite>"
     },
     "execution_count": 11,
     "metadata": {},
     "output_type": "execute_result"
    }
   ],
   "source": [
    "db"
   ]
  },
  {
   "cell_type": "code",
   "execution_count": 8,
   "metadata": {},
   "outputs": [],
   "source": [
    "res =search()"
   ]
  },
  {
   "cell_type": "code",
   "execution_count": 9,
   "metadata": {},
   "outputs": [
    {
     "data": {
      "text/plain": "dict"
     },
     "execution_count": 9,
     "metadata": {},
     "output_type": "execute_result"
    }
   ],
   "source": [
    "type(res[0]['supplier'])"
   ]
  },
  {
   "cell_type": "code",
   "execution_count": 14,
   "metadata": {},
   "outputs": [],
   "source": [
    "r = res[0]"
   ]
  },
  {
   "cell_type": "code",
   "execution_count": 15,
   "metadata": {},
   "outputs": [
    {
     "data": {
      "text/plain": "{'Additional_information': 'Lorem ipsum dolor sit amet, consectetur adipiscing elit, sed do eiusmod tempor incididunt ut labore et dolore magna aliqua.',\n 'price': 5.0,\n 'product_sub_type': 'N/A',\n 'category': 1,\n 'supplier_id': 1,\n 'name': 'ball',\n 'picture': '/static/img/products/football.jfif',\n 'brand': 'nike',\n 'product_type': 'sports',\n 'desc': 'real madrid ball',\n 'id': 1,\n 'supplier': {'id': 1,\n  'name': 'Super Sports',\n  'type_of': 'N/A',\n  'address': 'N/A',\n  'photo': 'N/A',\n  'supplier_avg_stars': 3.3333333333333335},\n 'avg_stars': 4.0}"
     },
     "execution_count": 15,
     "metadata": {},
     "output_type": "execute_result"
    }
   ],
   "source": [
    "r"
   ]
  },
  {
   "cell_type": "code",
   "execution_count": 8,
   "metadata": {},
   "outputs": [
    {
     "ename": "NameError",
     "evalue": "name 'search' is not defined",
     "output_type": "error",
     "traceback": [
      "\u001b[1;31m---------------------------------------------------------------------------\u001b[0m",
      "\u001b[1;31mNameError\u001b[0m                                 Traceback (most recent call last)",
      "\u001b[1;32m<ipython-input-8-1c6ecc7c4192>\u001b[0m in \u001b[0;36m<module>\u001b[1;34m\u001b[0m\n\u001b[0;32m      1\u001b[0m \u001b[0mkeyword_args\u001b[0m \u001b[1;33m=\u001b[0m \u001b[1;33m{\u001b[0m\u001b[1;34m'pid'\u001b[0m \u001b[1;33m:\u001b[0m \u001b[1;36m5\u001b[0m\u001b[1;33m}\u001b[0m\u001b[1;33m\u001b[0m\u001b[0m\n\u001b[1;32m----> 2\u001b[1;33m \u001b[0msearch\u001b[0m\u001b[1;33m(\u001b[0m\u001b[1;33m**\u001b[0m\u001b[0mkeyword_args\u001b[0m\u001b[1;33m)\u001b[0m\u001b[1;33m\u001b[0m\u001b[0m\n\u001b[0m",
      "\u001b[1;31mNameError\u001b[0m: name 'search' is not defined"
     ]
    }
   ],
   "source": [
    "keyword_args = {'pid' : 5}\n",
    "search(**keyword_args)"
   ]
  },
  {
   "cell_type": "code",
   "execution_count": 22,
   "metadata": {},
   "outputs": [
    {
     "data": {
      "text/plain": "5"
     },
     "execution_count": 22,
     "metadata": {},
     "output_type": "execute_result"
    }
   ],
   "source": [
    "data['pid']"
   ]
  },
  {
   "cell_type": "code",
   "execution_count": 14,
   "metadata": {},
   "outputs": [],
   "source": [
    "from ecommerce import *\n",
    "from ecommerce.models import *\n",
    "from sqlalchemy import or_"
   ]
  },
  {
   "cell_type": "code",
   "execution_count": 15,
   "metadata": {},
   "outputs": [],
   "source": [
    "def category_list():\n",
    "    cat_query = db.session.query(Category)\n",
    "    category_list = []\n",
    "    for category in cat_query:\n",
    "        temp = category.__dict__\n",
    "        if temp['_sa_instance_state']:\n",
    "            del temp['_sa_instance_state']\n",
    "        category_list.append(temp)\n",
    "    return category_list"
   ]
  },
  {
   "cell_type": "code",
   "execution_count": 10,
   "metadata": {},
   "outputs": [
    {
     "data": {
      "text/plain": "[{'photo': None, 'name': 'Sports', 'id': 1},\n {'photo': None, 'name': 'House', 'id': 2},\n {'photo': None, 'name': 'Electronics', 'id': 3},\n {'photo': None, 'name': 'Men Clothing', 'id': 4},\n {'photo': None, 'name': 'Women Clothing', 'id': 5},\n {'photo': None, 'name': 'Phone accessories', 'id': 6},\n {'photo': None, 'name': 'Phones', 'id': 7},\n {'photo': None, 'name': 'Computer and office', 'id': 8}]"
     },
     "execution_count": 10,
     "metadata": {},
     "output_type": "execute_result"
    }
   ],
   "source": [
    "category_list()"
   ]
  },
  {
   "cell_type": "code",
   "execution_count": 12,
   "metadata": {},
   "outputs": [],
   "source": [
    "query = db.session.query(Category.id , Category.name , db.func.count(Product.id)).outerjoin(Product).group_by(Category).all()"
   ]
  },
  {
   "cell_type": "code",
   "execution_count": 13,
   "metadata": {},
   "outputs": [
    {
     "data": {
      "text/plain": "[(1, 'Sports', 9),\n (2, 'House', 3),\n (3, 'Electronics', 2),\n (4, 'Men Clothing', 1),\n (5, 'Women Clothing', 1),\n (6, 'Phone accessories', 3),\n (7, 'Phones', 0),\n (8, 'Computer and office', 2)]"
     },
     "execution_count": 13,
     "metadata": {},
     "output_type": "execute_result"
    }
   ],
   "source": [
    "query"
   ]
  },
  {
   "cell_type": "code",
   "execution_count": 38,
   "metadata": {},
   "outputs": [],
   "source": [
    "def cc():\n",
    "    query = db.session.query(Category.id , Category.name , db.func.count(Product.id)).outerjoin(Product).group_by(Category).all()\n",
    "    return query"
   ]
  },
  {
   "cell_type": "code",
   "execution_count": 42,
   "metadata": {},
   "outputs": [],
   "source": [
    "t =cc()"
   ]
  },
  {
   "cell_type": "code",
   "execution_count": 45,
   "metadata": {},
   "outputs": [
    {
     "data": {
      "text/plain": "2"
     },
     "execution_count": 45,
     "metadata": {},
     "output_type": "execute_result"
    }
   ],
   "source": [
    "t[1][0]"
   ]
  },
  {
   "cell_type": "code",
   "execution_count": 9,
   "metadata": {},
   "outputs": [
    {
     "name": "stdout",
     "output_type": "stream",
     "text": "False\n"
    }
   ],
   "source": [
    "if not Product.query.get(25) :\n",
    "    print ('False')\n",
    ""
   ]
  },
  {
   "cell_type": "code",
   "execution_count": 5,
   "metadata": {},
   "outputs": [
    {
     "name": "stdout",
     "output_type": "stream",
     "text": "not\n"
    }
   ],
   "source": [
    "if not p :\n",
    "    print ('not')"
   ]
  },
  {
   "cell_type": "code",
   "execution_count": 20,
   "metadata": {},
   "outputs": [],
   "source": [
    "from ecommerce import *\n",
    "from ecommerce.models import *\n",
    "from sqlalchemy import or_\n",
    "from ecommerce.buyer_functions import *"
   ]
  },
  {
   "cell_type": "code",
   "execution_count": 10,
   "metadata": {},
   "outputs": [],
   "source": [
    "cart = Cart(buyer_id=4 ,product_id=12 , qty=1 , buy_now=True , buyer_message='i want blue one')\n",
    "db.session.add(cart)\n",
    "db.session.commit()\n",
    "order = Order(cart_item=cart)\n",
    "db.session.add(order)\n",
    "db.session.commit()\n"
   ]
  },
  {
   "cell_type": "code",
   "execution_count": 8,
   "metadata": {},
   "outputs": [],
   "source": [
    "cart = Cart.query.get(3)\n",
    "cart"
   ]
  },
  {
   "cell_type": "code",
   "execution_count": 5,
   "metadata": {},
   "outputs": [
    {
     "name": "stderr",
     "output_type": "stream",
     "text": "c:\\Users\\user\\ecommerce-3\\env\\lib\\site-packages\\sqlalchemy\\sql\\sqltypes.py:603: SAWarning: Dialect sqlite+pysqlite does *not* support Decimal objects natively, and SQLAlchemy must convert from floating point - rounding errors and other issues may occur. Please consider storing Decimal numbers as strings or integers on this platform for lossless storage.\n  'storage.' % (dialect.name, dialect.driver))\n"
    }
   ],
   "source": [
    "cart = Cart.query.get(3)\n",
    "order = Order(cart_item=cart)\n",
    "db.session.add(order)\n",
    "db.session.commit()"
   ]
  },
  {
   "cell_type": "code",
   "execution_count": 7,
   "metadata": {},
   "outputs": [],
   "source": [
    "order = Order(cart_item=cart)\n",
    "db.session.add(order)\n",
    "db.session.commit()"
   ]
  },
  {
   "cell_type": "code",
   "execution_count": 18,
   "metadata": {},
   "outputs": [
    {
     "data": {
      "text/plain": "{'_sa_instance_state': <sqlalchemy.orm.state.InstanceState at 0x2a181d115c0>,\n 'supplier_id': 5,\n 'product_id': 12,\n 'cart_item_id': 2,\n 'total_price': Decimal('3.0000000000'),\n 'unit_price': Decimal('3.0000000000'),\n 'qty': 1,\n 'fulfillment_time': None,\n 'order_time': datetime.datetime(2020, 1, 23, 2, 6, 50, 911118),\n 'buyer_id': 4,\n 'id': 2,\n 'buyer_message': 'i want blue one',\n 'status': 'open',\n 'last_change_time': None,\n 'payment_time': None,\n 'cart_item': <Cart 2>,\n 'product': <Product 12>,\n 'supplier': <Supplier 5>,\n 'the_buyer': <Buyer 4>}"
     },
     "execution_count": 18,
     "metadata": {},
     "output_type": "execute_result"
    }
   ],
   "source": [
    "order.__dict__"
   ]
  },
  {
   "cell_type": "code",
   "execution_count": 2,
   "metadata": {},
   "outputs": [
    {
     "name": "stderr",
     "output_type": "stream",
     "text": "c:\\Users\\user\\ecommerce-3\\env\\lib\\site-packages\\sqlalchemy\\sql\\sqltypes.py:603: SAWarning: Dialect sqlite+pysqlite does *not* support Decimal objects natively, and SQLAlchemy must convert from floating point - rounding errors and other issues may occur. Please consider storing Decimal numbers as strings or integers on this platform for lossless storage.\n  'storage.' % (dialect.name, dialect.driver))\n"
    },
    {
     "data": {
      "text/plain": "[{'id': 1,\n  'last_change_time': None,\n  'Additional_information': 'Lorem ipsum dolor sit amet, consectetur adipiscing elit, sed do eiusmod tempor incididunt ut labore et dolore magna aliqua.',\n  'price': 5.0,\n  'brand': 'nike',\n  'product_type': 'sports',\n  'supplier_id': 1,\n  'name': 'ball',\n  'add_time': None,\n  'picture': '/static/img/products/football.jfif',\n  'product_sub_type': 'N/A',\n  'category': 1,\n  'desc': 'real madrid ball',\n  'supplier': {'id': 1,\n   'name': 'Super Sports',\n   'type_of': 'N/A',\n   'address': 'N/A',\n   'photo': 'N/A',\n   'supplier_avg_stars': None},\n  'reviews': {'avg': None, 'count': 0},\n  'orders': {'count_orders': 1, 'count_units': 3}},\n {'id': 2,\n  'last_change_time': None,\n  'Additional_information': 'Placerat in egestas erat imperdiet sed euismod. Tellus id interdum velit laoreet id donec. Adipiscing vitae proin sagittis nisl rhoncus mattis rhoncus urna neque.',\n  'price': 2.0,\n  'brand': 'pilot',\n  'product_type': 'house',\n  'supplier_id': 1,\n  'name': 'pen',\n  'add_time': None,\n  'picture': '/static/img/products/default.png',\n  'product_sub_type': 'N/A',\n  'category': 1,\n  'desc': 'a good pen',\n  'supplier': {'id': 1,\n   'name': 'Super Sports',\n   'type_of': 'N/A',\n   'address': 'N/A',\n   'photo': 'N/A',\n   'supplier_avg_stars': None},\n  'reviews': {'avg': None, 'count': 0},\n  'orders': {'count_orders': 0, 'count_units': None}},\n {'id': 3,\n  'last_change_time': None,\n  'Additional_information': 'N/A',\n  'price': 14.0,\n  'brand': 'IKEA',\n  'product_type': 'house',\n  'supplier_id': 2,\n  'name': 'Table',\n  'add_time': None,\n  'picture': '/static/img/products/a.jpg',\n  'product_sub_type': 'furniture',\n  'category': 2,\n  'desc': 'Dining table',\n  'supplier': {'id': 2,\n   'name': 'Best-Buy',\n   'type_of': 'house',\n   'address': 'israel',\n   'photo': 'israel',\n   'supplier_avg_stars': None},\n  'reviews': {'avg': None, 'count': 0},\n  'orders': {'count_orders': 0, 'count_units': None}},\n {'id': 4,\n  'last_change_time': None,\n  'Additional_information': 'N/A',\n  'price': 16.0,\n  'brand': 'IKEA',\n  'product_type': 'house',\n  'supplier_id': 2,\n  'name': 'Chair',\n  'add_time': None,\n  'picture': '/static/img/products/c60bf7c631e88f82.jpg',\n  'product_sub_type': 'furniture',\n  'category': 1,\n  'desc': 'Comfortable chair',\n  'supplier': {'id': 2,\n   'name': 'Best-Buy',\n   'type_of': 'house',\n   'address': 'israel',\n   'photo': 'israel',\n   'supplier_avg_stars': None},\n  'reviews': {'avg': None, 'count': 0},\n  'orders': {'count_orders': 0, 'count_units': None}},\n {'id': 5,\n  'last_change_time': None,\n  'Additional_information': 'N/A',\n  'price': 21.0,\n  'brand': 'Home depot',\n  'product_type': 'furniture',\n  'supplier_id': 8,\n  'name': 'white desk',\n  'add_time': None,\n  'picture': '/static/img/products/default.jpg',\n  'product_sub_type': 'N/A',\n  'category': 2,\n  'desc': 'white desk Measurements : 140X100X60',\n  'supplier': {'id': 8,\n   'name': 'Home depot',\n   'type_of': 'House',\n   'address': 'dovnov 4, Rehovot',\n   'photo': 'dovnov 4, Rehovot',\n   'supplier_avg_stars': None},\n  'reviews': {'avg': None, 'count': 0},\n  'orders': {'count_orders': 0, 'count_units': None}},\n {'id': 6,\n  'last_change_time': None,\n  'Additional_information': 'N/A',\n  'price': 21.0,\n  'brand': 'Home depot',\n  'product_type': 'furniture',\n  'supplier_id': 8,\n  'name': 'black desk',\n  'add_time': None,\n  'picture': '/static/img/products/default.jpg',\n  'product_sub_type': 'N/A',\n  'category': 1,\n  'desc': 'black desk, Measurements : 140X100X60',\n  'supplier': {'id': 8,\n   'name': 'Home depot',\n   'type_of': 'House',\n   'address': 'dovnov 4, Rehovot',\n   'photo': 'dovnov 4, Rehovot',\n   'supplier_avg_stars': None},\n  'reviews': {'avg': None, 'count': 0},\n  'orders': {'count_orders': 0, 'count_units': None}},\n {'id': 7,\n  'last_change_time': None,\n  'Additional_information': 'N/A',\n  'price': 35.0,\n  'brand': 'Ace',\n  'product_type': 'furniture',\n  'supplier_id': 7,\n  'name': 'black desk',\n  'add_time': None,\n  'picture': '/static/img/products/default.jpg',\n  'product_sub_type': 'N/A',\n  'category': 2,\n  'desc': 'black desk, Measurements : 140X100X80',\n  'supplier': {'id': 7,\n   'name': 'Ace',\n   'type_of': 'House',\n   'address': 'dovnov 10, Rehovot',\n   'photo': 'dovnov 10, Rehovot',\n   'supplier_avg_stars': None},\n  'reviews': {'avg': None, 'count': 0},\n  'orders': {'count_orders': 0, 'count_units': None}},\n {'id': 8,\n  'last_change_time': None,\n  'Additional_information': 'N/A',\n  'price': 3.0,\n  'brand': 'N/A',\n  'product_type': 'furniture',\n  'supplier_id': 4,\n  'name': 'Full Cover Glass on the For iPhone X',\n  'add_time': None,\n  'picture': '/static/img/products/default.jpg',\n  'product_sub_type': 'N/A',\n  'category': 1,\n  'desc': '3Pcs Full Cover Glass on the For iPhone X XS',\n  'supplier': {'id': 4,\n   'name': 'KSP',\n   'type_of': 'consumer electronics',\n   'address': 'rotshild 21, tal aviv',\n   'photo': 'rotshild 21, tal aviv',\n   'supplier_avg_stars': None},\n  'reviews': {'avg': None, 'count': 0},\n  'orders': {'count_orders': 0, 'count_units': None}},\n {'id': 9,\n  'last_change_time': None,\n  'Additional_information': 'N/A',\n  'price': 3.0,\n  'brand': ' Full Curved Screen Protector For Samsung A6 A8 Plus 2018, Perftctly Suitable For Samsung Galaxy S7/S7 Edge/S8/S8 Plus/S9/S9 PlusmNote 8/Note 9/A6 2018/A6 Plus 2018/A8 2018/A8 2018 Plus[Material]:  Made Of High Quality Tempered Glass, [Function]:Shock-Proof + Scratch-Resistant + Anti-Skid',\n  'product_type': 'furniture',\n  'supplier_id': 4,\n  'name': 'Tempered Glass Film For Samsung Galaxy Note 8',\n  'add_time': None,\n  'picture': '/static/img/products/default.jpg',\n  'product_sub_type': 'N/A',\n  'category': 3,\n  'desc': 'Tempered Glass Film For Samsung Galaxy Note 8 9 S9 S8 Plus S7 Edge 9D',\n  'supplier': {'id': 4,\n   'name': 'KSP',\n   'type_of': 'consumer electronics',\n   'address': 'rotshild 21, tal aviv',\n   'photo': 'rotshild 21, tal aviv',\n   'supplier_avg_stars': None},\n  'reviews': {'avg': None, 'count': 0},\n  'orders': {'count_orders': 0, 'count_units': None}},\n {'id': 10,\n  'last_change_time': None,\n  'Additional_information': 'N/A',\n  'price': 3.0,\n  'brand': 'N/A',\n  'product_type': 'Phone Screen Protector',\n  'supplier_id': 5,\n  'name': 'Tempered Glass Samsung Galaxy S7 Screen Protector',\n  'add_time': None,\n  'picture': '/static/img/products/default.jpg',\n  'product_sub_type': 'N/A',\n  'category': 4,\n  'desc': 'Tempered Glass Samsung Galaxy S7 Screen Protector Ultra-Thin Protective Film For Samsung Galaxy S7 Glass For Samsung S7',\n  'supplier': {'id': 5,\n   'name': 'Bug',\n   'type_of': 'consumer electronics',\n   'address': 'rotshild 60, tal aviv',\n   'photo': 'rotshild 60, tal aviv',\n   'supplier_avg_stars': None},\n  'reviews': {'avg': None, 'count': 0},\n  'orders': {'count_orders': 0, 'count_units': None}},\n {'id': 11,\n  'last_change_time': None,\n  'Additional_information': 'N/A',\n  'price': 3.0,\n  'brand': 'Dell ',\n  'product_type': 'laptop',\n  'supplier_id': 5,\n  'name': 'Dell Inspiron 15 3593',\n  'add_time': None,\n  'picture': '/static/img/products/default.jpg',\n  'product_sub_type': 'N/A',\n  'category': 5,\n  'desc': 'Dell Inspiron 15 3593 laptop',\n  'supplier': {'id': 5,\n   'name': 'Bug',\n   'type_of': 'consumer electronics',\n   'address': 'rotshild 60, tal aviv',\n   'photo': 'rotshild 60, tal aviv',\n   'supplier_avg_stars': None},\n  'reviews': {'avg': None, 'count': 0},\n  'orders': {'count_orders': 0, 'count_units': None}},\n {'id': 12,\n  'last_change_time': None,\n  'Additional_information': 'N/A',\n  'price': 3.0,\n  'brand': 'Dell ',\n  'product_type': 'laptop',\n  'supplier_id': 5,\n  'name': 'Dell Vostro 5490 VM-RD09-11633',\n  'add_time': None,\n  'picture': '/static/img/products/default.jpg',\n  'product_sub_type': 'N/A',\n  'category': 6,\n  'desc': 'Dell Vostro 5490 VM-RD09-11633 laptop',\n  'supplier': {'id': 5,\n   'name': 'Bug',\n   'type_of': 'consumer electronics',\n   'address': 'rotshild 60, tal aviv',\n   'photo': 'rotshild 60, tal aviv',\n   'supplier_avg_stars': None},\n  'reviews': {'avg': None, 'count': 0},\n  'orders': {'count_orders': 1, 'count_units': 1}},\n {'id': 13,\n  'last_change_time': None,\n  'Additional_information': 'N/A',\n  'price': 3.0,\n  'brand': 'Dell ',\n  'product_type': 'laptop',\n  'supplier_id': 5,\n  'name': 'Dell Vostro 15 3590 VM-RD09-11681',\n  'add_time': None,\n  'picture': '/static/img/products/default.jpg',\n  'product_sub_type': 'N/A',\n  'category': 1,\n  'desc': 'Dell Vostro 15 3590 VM-RD09-11681 laptop',\n  'supplier': {'id': 5,\n   'name': 'Bug',\n   'type_of': 'consumer electronics',\n   'address': 'rotshild 60, tal aviv',\n   'photo': 'rotshild 60, tal aviv',\n   'supplier_avg_stars': None},\n  'reviews': {'avg': None, 'count': 0},\n  'orders': {'count_orders': 0, 'count_units': None}},\n {'id': 14,\n  'last_change_time': None,\n  'Additional_information': 'N/A',\n  'price': 1200.0,\n  'brand': 'Apple ',\n  'product_type': 'laptop',\n  'supplier_id': 3,\n  'name': 'Apple MacBook Pro',\n  'add_time': None,\n  'picture': '/static/img/products/default.jpg',\n  'product_sub_type': 'N/A',\n  'category': 6,\n  'desc': 'Apple MacBook Pro laptop',\n  'supplier': {'id': 3,\n   'name': 'I-store digital',\n   'type_of': 'consumer electronics',\n   'address': 'alanbi 21, tal aviv',\n   'photo': 'alanbi 21, tal aviv',\n   'supplier_avg_stars': None},\n  'reviews': {'avg': None, 'count': 0},\n  'orders': {'count_orders': 0, 'count_units': None}},\n {'id': 15,\n  'last_change_time': None,\n  'Additional_information': 'N/A',\n  'price': 1800.0,\n  'brand': 'Apple ',\n  'product_type': 'laptop',\n  'supplier_id': 3,\n  'name': 'Apple MacBook Pro 15',\n  'add_time': None,\n  'picture': '/static/img/products/default.jpg',\n  'product_sub_type': 'N/A',\n  'category': 1,\n  'desc': 'Apple MacBook Pro 15 laptop',\n  'supplier': {'id': 3,\n   'name': 'I-store digital',\n   'type_of': 'consumer electronics',\n   'address': 'alanbi 21, tal aviv',\n   'photo': 'alanbi 21, tal aviv',\n   'supplier_avg_stars': None},\n  'reviews': {'avg': None, 'count': 0},\n  'orders': {'count_orders': 0, 'count_units': None}},\n {'id': 16,\n  'last_change_time': None,\n  'Additional_information': 'N/A',\n  'price': 1350.0,\n  'brand': 'Apple ',\n  'product_type': 'laptop',\n  'supplier_id': 3,\n  'name': 'Apple MacBook Air 13',\n  'add_time': None,\n  'picture': '/static/img/products/default.jpg',\n  'product_sub_type': 'N/A',\n  'category': 6,\n  'desc': 'Apple MacBook Air 13 laptop',\n  'supplier': {'id': 3,\n   'name': 'I-store digital',\n   'type_of': 'consumer electronics',\n   'address': 'alanbi 21, tal aviv',\n   'photo': 'alanbi 21, tal aviv',\n   'supplier_avg_stars': None},\n  'reviews': {'avg': None, 'count': 0},\n  'orders': {'count_orders': 0, 'count_units': None}},\n {'id': 17,\n  'last_change_time': None,\n  'Additional_information': 'N/A',\n  'price': 1350.0,\n  'brand': 'nike',\n  'product_type': 'laptop',\n  'supplier_id': 6,\n  'name': 'sport shoes',\n  'add_time': None,\n  'picture': '/static/img/products/default.jpg',\n  'product_sub_type': 'N/A',\n  'category': 1,\n  'desc': 'sport shoes size 42',\n  'supplier': {'id': 6,\n   'name': 'bon-sports',\n   'type_of': 'sports',\n   'address': 'dovnov 10, holon',\n   'photo': 'dovnov 10, holon',\n   'supplier_avg_stars': None},\n  'reviews': {'avg': None, 'count': 0},\n  'orders': {'count_orders': 0, 'count_units': None}},\n {'id': 18,\n  'last_change_time': None,\n  'Additional_information': 'N/A',\n  'price': 1350.0,\n  'brand': 'puma',\n  'product_type': 'laptop',\n  'supplier_id': 1,\n  'name': 'sport shoes',\n  'add_time': None,\n  'picture': '/static/img/products/default.jpg',\n  'product_sub_type': 'N/A',\n  'category': 8,\n  'desc': 'sport shoes size 42',\n  'supplier': {'id': 1,\n   'name': 'Super Sports',\n   'type_of': 'N/A',\n   'address': 'N/A',\n   'photo': 'N/A',\n   'supplier_avg_stars': None},\n  'reviews': {'avg': None, 'count': 0},\n  'orders': {'count_orders': 0, 'count_units': None}},\n {'id': 19,\n  'last_change_time': None,\n  'Additional_information': 'N/A',\n  'price': 1350.0,\n  'brand': 'puma',\n  'product_type': 'laptop',\n  'supplier_id': 1,\n  'name': 'runing shoes',\n  'add_time': None,\n  'picture': '/static/img/products/default.jpg',\n  'product_sub_type': 'N/A',\n  'category': 8,\n  'desc': 'runing shoes size 42',\n  'supplier': {'id': 1,\n   'name': 'Super Sports',\n   'type_of': 'N/A',\n   'address': 'N/A',\n   'photo': 'N/A',\n   'supplier_avg_stars': None},\n  'reviews': {'avg': None, 'count': 0},\n  'orders': {'count_orders': 0, 'count_units': None}},\n {'id': 20,\n  'last_change_time': None,\n  'Additional_information': 'N/A',\n  'price': 1350.0,\n  'brand': 'NBC',\n  'product_type': 'sports',\n  'supplier_id': 1,\n  'name': 'Tennis racket',\n  'add_time': None,\n  'picture': '/static/img/products/default.jpg',\n  'product_sub_type': 'N/A',\n  'category': 1,\n  'desc': 'Tennis racket',\n  'supplier': {'id': 1,\n   'name': 'Super Sports',\n   'type_of': 'N/A',\n   'address': 'N/A',\n   'photo': 'N/A',\n   'supplier_avg_stars': None},\n  'reviews': {'avg': None, 'count': 0},\n  'orders': {'count_orders': 0, 'count_units': None}},\n {'id': 21,\n  'last_change_time': None,\n  'Additional_information': 'N/A',\n  'price': 1350.0,\n  'brand': 'N/A',\n  'product_type': 'sports',\n  'supplier_id': 2,\n  'name': 'Tennis ball',\n  'add_time': None,\n  'picture': '/static/img/products/default.jpg',\n  'product_sub_type': 'N/A',\n  'category': 3,\n  'desc': 'Tennis ball',\n  'supplier': {'id': 2,\n   'name': 'Best-Buy',\n   'type_of': 'house',\n   'address': 'israel',\n   'photo': 'israel',\n   'supplier_avg_stars': None},\n  'reviews': {'avg': None, 'count': 0},\n  'orders': {'count_orders': 0, 'count_units': None}}]"
     },
     "execution_count": 2,
     "metadata": {},
     "output_type": "execute_result"
    }
   ],
   "source": [
    "search()"
   ]
  },
  {
   "cell_type": "code",
   "execution_count": 1,
   "metadata": {},
   "outputs": [],
   "source": [
    "from ecommerce import *\n",
    "from ecommerce.models import *\n",
    "from sqlalchemy import or_\n",
    "from ecommerce.buyer_functions import *\n",
    "import pdb"
   ]
  },
  {
   "cell_type": "code",
   "execution_count": 2,
   "metadata": {},
   "outputs": [
    {
     "name": "stderr",
     "output_type": "stream",
     "text": "c:\\Users\\user\\ecommerce-3\\env\\lib\\site-packages\\sqlalchemy\\sql\\sqltypes.py:603: SAWarning: Dialect sqlite+pysqlite does *not* support Decimal objects natively, and SQLAlchemy must convert from floating point - rounding errors and other issues may occur. Please consider storing Decimal numbers as strings or integers on this platform for lossless storage.\n  'storage.' % (dialect.name, dialect.driver))\n"
    },
    {
     "data": {
      "text/plain": "{'cart_item': <Cart 23>}"
     },
     "execution_count": 2,
     "metadata": {},
     "output_type": "execute_result"
    }
   ],
   "source": [
    "buy_now_or_add_to_cart(buyer_id=4,product_id=3,qty=4 )"
   ]
  },
  {
   "cell_type": "code",
   "execution_count": 19,
   "metadata": {},
   "outputs": [],
   "source": [
    "cart = Cart(buyer_id=1,product_id=4,qty=2,buy_now=True)\n",
    "db.session.add(cart)\n",
    "db.session.commit()"
   ]
  },
  {
   "cell_type": "code",
   "execution_count": 21,
   "metadata": {},
   "outputs": [],
   "source": [
    "order = Order(cart_item=cart)\n",
    "db.session.add(order)\n",
    "db.session.commit()"
   ]
  },
  {
   "cell_type": "code",
   "execution_count": 6,
   "metadata": {},
   "outputs": [
    {
     "name": "stderr",
     "output_type": "stream",
     "text": "c:\\Users\\user\\ecommerce-3\\env\\lib\\site-packages\\sqlalchemy\\sql\\sqltypes.py:603: SAWarning: Dialect sqlite+pysqlite does *not* support Decimal objects natively, and SQLAlchemy must convert from floating point - rounding errors and other issues may occur. Please consider storing Decimal numbers as strings or integers on this platform for lossless storage.\n  'storage.' % (dialect.name, dialect.driver))\n"
    },
    {
     "data": {
      "text/plain": "<Order 6>"
     },
     "execution_count": 6,
     "metadata": {},
     "output_type": "execute_result"
    }
   ],
   "source": [
    "cart_item = Cart.query.get(16)\n",
    "cart_item.order_id"
   ]
  },
  {
   "cell_type": "code",
   "execution_count": 15,
   "metadata": {},
   "outputs": [
    {
     "data": {
      "text/plain": "{'_sa_instance_state': <sqlalchemy.orm.state.InstanceState at 0x1db77226550>,\n 'buyer_message': None,\n 'order_time': None,\n 'add_time': datetime.datetime(2020, 1, 23, 2, 51, 14, 754804),\n 'qty': '3',\n 'buyer_id': 3,\n 'purchase_way': 'via cart',\n 'cancal_time': None,\n 'status': 'active',\n 'product_id': 3,\n 'id': 10}"
     },
     "execution_count": 15,
     "metadata": {},
     "output_type": "execute_result"
    }
   ],
   "source": [
    "buyer = Buyer.query.get(3)\n",
    "buyer.get_cart()[0].__dict__"
   ]
  },
  {
   "cell_type": "code",
   "execution_count": 19,
   "metadata": {},
   "outputs": [
    {
     "data": {
      "text/plain": "21.0"
     },
     "execution_count": 19,
     "metadata": {},
     "output_type": "execute_result"
    }
   ],
   "source": [
    "float( Product.query.get(5).price )"
   ]
  },
  {
   "cell_type": "code",
   "execution_count": 8,
   "metadata": {},
   "outputs": [],
   "source": [
    "def pull_cart(buyer_id):\n",
    "    cart = []\n",
    "    for item in Buyer.query.get(buyer_id).get_cart():\n",
    "        cart_item = item.__dict__\n",
    "        if cart_item['_sa_instance_state']:\n",
    "            del cart_item['_sa_instance_state']\n",
    "        cart_item['unit_price'] = float( Product.query.get(item.product_id).price )\n",
    "        cart_item['total'] = cart_item['unit_price'] * int(item.qty)\n",
    "        cart.append(cart_item)\n",
    "    return cart\n"
   ]
  },
  {
   "cell_type": "code",
   "execution_count": 10,
   "metadata": {},
   "outputs": [],
   "source": [
    "c = pull_cart(1)"
   ]
  },
  {
   "cell_type": "code",
   "execution_count": 13,
   "metadata": {},
   "outputs": [
    {
     "data": {
      "text/plain": "{'buyer_message': None,\n 'order_time': None,\n 'add_time': datetime.datetime(2020, 1, 23, 3, 2, 5, 845395),\n 'qty': '1',\n 'buyer_id': 1,\n 'purchase_way': 'buy now',\n 'cancal_time': None,\n 'status': 'active',\n 'product_id': 1,\n 'id': 18,\n 'unit_price': 5.0,\n 'total': 5.0}"
     },
     "execution_count": 13,
     "metadata": {},
     "output_type": "execute_result"
    }
   ],
   "source": [
    "c[1]"
   ]
  },
  {
   "cell_type": "code",
   "execution_count": 19,
   "metadata": {},
   "outputs": [],
   "source": [
    "def get_product_data(pid):\n",
    "    res = []\n",
    "    responce = dict()\n",
    "    \n",
    "    product = Product.query.get(pid)\n",
    "    responce = product.__dict__\n",
    "    responce['price'] =  float( responce['price'] )\n",
    "    responce['supplier'] = product.supplier.get_info()\n",
    "    del responce['_sa_instance_state']\n",
    "    #responce['product']['sum_orders'] = product.get_product_orders(sum_orders=True )['sum_orders']\n",
    "    #responce['product']['sum_orders'] = product.get_product_orders( sum_units=True)['sum_units']\n",
    "    print (responce)\n",
    "\n",
    "    res.append(responce)\n",
    "    return res"
   ]
  },
  {
   "cell_type": "code",
   "execution_count": 20,
   "metadata": {},
   "outputs": [
    {
     "name": "stdout",
     "output_type": "stream",
     "text": "{'id': 1, 'last_change_time': None, 'Additional_information': 'Lorem ipsum dolor sit amet, consectetur adipiscing elit, sed do eiusmod tempor incididunt ut labore et dolore magna aliqua.', 'price': 5.0, 'brand': 'nike', 'product_type': 'sports', 'supplier_id': 1, 'name': 'ball', 'add_time': None, 'picture': '/static/img/products/football.jfif', 'product_sub_type': 'N/A', 'category': 1, 'desc': 'real madrid ball', 'supplier': {'id': 1, 'name': 'Super Sports', 'type_of': 'N/A', 'address': 'N/A', 'photo': 'N/A', 'supplier_avg_stars': None}}\n"
    },
    {
     "data": {
      "text/plain": "[{'id': 1,\n  'last_change_time': None,\n  'Additional_information': 'Lorem ipsum dolor sit amet, consectetur adipiscing elit, sed do eiusmod tempor incididunt ut labore et dolore magna aliqua.',\n  'price': 5.0,\n  'brand': 'nike',\n  'product_type': 'sports',\n  'supplier_id': 1,\n  'name': 'ball',\n  'add_time': None,\n  'picture': '/static/img/products/football.jfif',\n  'product_sub_type': 'N/A',\n  'category': 1,\n  'desc': 'real madrid ball',\n  'supplier': {'id': 1,\n   'name': 'Super Sports',\n   'type_of': 'N/A',\n   'address': 'N/A',\n   'photo': 'N/A',\n   'supplier_avg_stars': None}}]"
     },
     "execution_count": 20,
     "metadata": {},
     "output_type": "execute_result"
    }
   ],
   "source": [
    "get_product_data(1)"
   ]
  },
  {
   "cell_type": "code",
   "execution_count": 21,
   "metadata": {},
   "outputs": [],
   "source": [
    "def get_product_extra_info(pid):\n",
    "    product = Product.query.filter_by(id = pid).first()\n",
    "    if not product :\n",
    "        print('product number : ' + str(pid) + ' not exists')\n",
    "        return False\n",
    "\n",
    "    product_data = product.__dict__\n",
    "    product_data['supplier'] = product.supplier.get_info()\n",
    "    product_data['reviews'] = product.get_review(get_review=True ,avg=True , count=True)\n",
    "    reviews = []\n",
    "    for rev in product_data['reviews']['get_review']:\n",
    "        temp = rev\n",
    "        rev = temp.__dict__\n",
    "        rev['reviewer'] = temp.get_review_buyer().name\n",
    "        if rev['_sa_instance_state']:\n",
    "            del rev['_sa_instance_state']\n",
    "        reviews.append(rev)\n",
    "    product_data['reviews']['get_review'] = reviews\n",
    "    product_data['orders'] = product.get_product_orders( get_product_orders=False, count_orders=True , count_units=True)\n",
    "    product_data['price'] = round( float( product_data['price'] ) , 1 )\n",
    "    if product_data['_sa_instance_state']:\n",
    "        del product_data['_sa_instance_state']\n",
    "\n",
    "    return product_data"
   ]
  },
  {
   "cell_type": "code",
   "execution_count": 22,
   "metadata": {},
   "outputs": [
    {
     "data": {
      "text/plain": "{'id': 3,\n 'last_change_time': None,\n 'Additional_information': 'N/A',\n 'price': 14.0,\n 'brand': 'IKEA',\n 'product_type': 'house',\n 'supplier_id': 2,\n 'name': 'Table',\n 'add_time': None,\n 'picture': '/static/img/products/a.jpg',\n 'product_sub_type': 'furniture',\n 'category': 2,\n 'desc': 'Dining table',\n 'supplier': {'id': 2,\n  'name': 'Best-Buy',\n  'type_of': 'house',\n  'address': 'israel',\n  'photo': 'israel',\n  'supplier_avg_stars': None},\n 'reviews': {'get_review': [], 'avg': None, 'count': 0},\n 'orders': {'count_orders': 3, 'count_units': 3}}"
     },
     "execution_count": 22,
     "metadata": {},
     "output_type": "execute_result"
    }
   ],
   "source": [
    "get_product_extra_info(3)"
   ]
  },
  {
   "cell_type": "code",
   "execution_count": 2,
   "metadata": {},
   "outputs": [],
   "source": [
    "def pull_cart(buyer_id):\n",
    "    cart = []\n",
    "    for item in Buyer.query.get(buyer_id).get_cart():\n",
    "        cart_item = item.__dict__\n",
    "        if cart_item['_sa_instance_state']:\n",
    "            del cart_item['_sa_instance_state']\n",
    "        cart_item['unit_price'] = float( Product.query.get(item.product_id).price )\n",
    "        cart_item['total'] = cart_item['unit_price'] * int(item.qty)\n",
    "        cart_item['product']=get_product_extra_info(cart_item['product_id'])\n",
    "        cart.append(cart_item)\n",
    "    \n",
    "    return { 'cart' : cart , 'cart_size': len(cart) }"
   ]
  },
  {
   "cell_type": "code",
   "execution_count": 3,
   "metadata": {},
   "outputs": [
    {
     "name": "stderr",
     "output_type": "stream",
     "text": "c:\\Users\\user\\ecommerce-3\\env\\lib\\site-packages\\sqlalchemy\\sql\\sqltypes.py:603: SAWarning: Dialect sqlite+pysqlite does *not* support Decimal objects natively, and SQLAlchemy must convert from floating point - rounding errors and other issues may occur. Please consider storing Decimal numbers as strings or integers on this platform for lossless storage.\n  'storage.' % (dialect.name, dialect.driver))\n"
    },
    {
     "data": {
      "text/plain": "{'cart': [{'buyer_message': None,\n   'order_time': None,\n   'add_time': datetime.datetime(2020, 1, 23, 2, 55, 38, 778863),\n   'qty': '1',\n   'buyer_id': 1,\n   'purchase_way': 'via cart',\n   'cancal_time': None,\n   'status': 'active',\n   'product_id': 8,\n   'id': 11,\n   'unit_price': 3.0,\n   'total': 3.0,\n   'product': {'id': 8,\n    'last_change_time': None,\n    'Additional_information': 'N/A',\n    'price': 3.0,\n    'brand': 'N/A',\n    'product_type': 'furniture',\n    'supplier_id': 4,\n    'name': 'Full Cover Glass on the For iPhone X',\n    'add_time': None,\n    'picture': '/static/img/products/default.jpg',\n    'product_sub_type': 'N/A',\n    'category': 1,\n    'desc': '3Pcs Full Cover Glass on the For iPhone X XS',\n    'supplier': {'id': 4,\n     'name': 'KSP',\n     'type_of': 'consumer electronics',\n     'address': 'rotshild 21, tal aviv',\n     'photo': 'rotshild 21, tal aviv',\n     'supplier_avg_stars': None},\n    'reviews': {'get_review': [], 'avg': None, 'count': 0},\n    'orders': {'count_orders': 0, 'count_units': None}}},\n  {'buyer_message': None,\n   'order_time': None,\n   'add_time': datetime.datetime(2020, 1, 23, 3, 2, 5, 845395),\n   'qty': '1',\n   'buyer_id': 1,\n   'purchase_way': 'buy now',\n   'cancal_time': None,\n   'status': 'active',\n   'product_id': 1,\n   'id': 18,\n   'unit_price': 5.0,\n   'total': 5.0,\n   'product': {'id': 1,\n    'last_change_time': None,\n    'Additional_information': 'Lorem ipsum dolor sit amet, consectetur adipiscing elit, sed do eiusmod tempor incididunt ut labore et dolore magna aliqua.',\n    'price': 5.0,\n    'brand': 'nike',\n    'product_type': 'sports',\n    'supplier_id': 1,\n    'name': 'ball',\n    'add_time': None,\n    'picture': '/static/img/products/football.jfif',\n    'product_sub_type': 'N/A',\n    'category': 1,\n    'desc': 'real madrid ball',\n    'supplier': {'id': 1,\n     'name': 'Super Sports',\n     'type_of': 'N/A',\n     'address': 'N/A',\n     'photo': 'N/A',\n     'supplier_avg_stars': None},\n    'reviews': {'get_review': [], 'avg': None, 'count': 0},\n    'orders': {'count_orders': 4, 'count_units': 4}}},\n  {'buyer_message': None,\n   'order_time': None,\n   'add_time': datetime.datetime(2020, 1, 23, 3, 2, 22, 513626),\n   'qty': '1',\n   'buyer_id': 1,\n   'purchase_way': 'buy now',\n   'cancal_time': None,\n   'status': 'active',\n   'product_id': 1,\n   'id': 19,\n   'unit_price': 5.0,\n   'total': 5.0,\n   'product': {'id': 1,\n    'last_change_time': None,\n    'Additional_information': 'Lorem ipsum dolor sit amet, consectetur adipiscing elit, sed do eiusmod tempor incididunt ut labore et dolore magna aliqua.',\n    'price': 5.0,\n    'brand': 'nike',\n    'product_type': 'sports',\n    'supplier_id': 1,\n    'name': 'ball',\n    'add_time': None,\n    'picture': '/static/img/products/football.jfif',\n    'product_sub_type': 'N/A',\n    'category': 1,\n    'desc': 'real madrid ball',\n    'supplier': {'id': 1,\n     'name': 'Super Sports',\n     'type_of': 'N/A',\n     'address': 'N/A',\n     'photo': 'N/A',\n     'supplier_avg_stars': None},\n    'reviews': {'get_review': [], 'avg': None, 'count': 0},\n    'orders': {'count_orders': 4, 'count_units': 4}}},\n  {'buyer_message': None,\n   'order_time': None,\n   'add_time': datetime.datetime(2020, 1, 23, 3, 2, 45, 248628),\n   'qty': '1',\n   'buyer_id': 1,\n   'purchase_way': 'buy now',\n   'cancal_time': None,\n   'status': 'active',\n   'product_id': 1,\n   'id': 20,\n   'unit_price': 5.0,\n   'total': 5.0,\n   'product': {'id': 1,\n    'last_change_time': None,\n    'Additional_information': 'Lorem ipsum dolor sit amet, consectetur adipiscing elit, sed do eiusmod tempor incididunt ut labore et dolore magna aliqua.',\n    'price': 5.0,\n    'brand': 'nike',\n    'product_type': 'sports',\n    'supplier_id': 1,\n    'name': 'ball',\n    'add_time': None,\n    'picture': '/static/img/products/football.jfif',\n    'product_sub_type': 'N/A',\n    'category': 1,\n    'desc': 'real madrid ball',\n    'supplier': {'id': 1,\n     'name': 'Super Sports',\n     'type_of': 'N/A',\n     'address': 'N/A',\n     'photo': 'N/A',\n     'supplier_avg_stars': None},\n    'reviews': {'get_review': [], 'avg': None, 'count': 0},\n    'orders': {'count_orders': 4, 'count_units': 4}}},\n  {'buyer_message': None,\n   'order_time': None,\n   'add_time': datetime.datetime(2020, 1, 23, 3, 3, 7, 25703),\n   'qty': '1',\n   'buyer_id': 1,\n   'purchase_way': 'via cart',\n   'cancal_time': None,\n   'status': 'active',\n   'product_id': 1,\n   'id': 22,\n   'unit_price': 5.0,\n   'total': 5.0,\n   'product': {'id': 1,\n    'last_change_time': None,\n    'Additional_information': 'Lorem ipsum dolor sit amet, consectetur adipiscing elit, sed do eiusmod tempor incididunt ut labore et dolore magna aliqua.',\n    'price': 5.0,\n    'brand': 'nike',\n    'product_type': 'sports',\n    'supplier_id': 1,\n    'name': 'ball',\n    'add_time': None,\n    'picture': '/static/img/products/football.jfif',\n    'product_sub_type': 'N/A',\n    'category': 1,\n    'desc': 'real madrid ball',\n    'supplier': {'id': 1,\n     'name': 'Super Sports',\n     'type_of': 'N/A',\n     'address': 'N/A',\n     'photo': 'N/A',\n     'supplier_avg_stars': None},\n    'reviews': {'get_review': [], 'avg': None, 'count': 0},\n    'orders': {'count_orders': 4, 'count_units': 4}}}],\n 'cart_size': 5}"
     },
     "execution_count": 3,
     "metadata": {},
     "output_type": "execute_result"
    }
   ],
   "source": [
    "pull_cart(1)"
   ]
  },
  {
   "cell_type": "code",
   "execution_count": 1,
   "metadata": {},
   "outputs": [],
   "source": [
    "from ecommerce import *\n",
    "from ecommerce.models import *\n",
    "from sqlalchemy import or_\n",
    "from ecommerce.buyer_functions import *\n",
    "import pdb"
   ]
  },
  {
   "cell_type": "code",
   "execution_count": 4,
   "metadata": {},
   "outputs": [],
   "source": [
    "def pull_buyer_orders(buyer_id):\n",
    "    order_list = []\n",
    "    for order in Buyer.query.get(buyer_id).orders:\n",
    "        temp = order.__dict__\n",
    "\n",
    "        if '_sa_instance_state' in temp:\n",
    "            del temp['_sa_instance_state']\n",
    "        temp['supplier_name'] = order.get_order_supplier().name\n",
    "        \n",
    "        order_list.append(temp)\n",
    "\n",
    "    return order_list\n",
    "\n",
    "    \n",
    "test =pull_buyer_orders(2)"
   ]
  },
  {
   "cell_type": "code",
   "execution_count": 6,
   "metadata": {},
   "outputs": [
    {
     "data": {
      "text/plain": "{'payment_time': None,\n 'cart_item_id': 9,\n 'fulfillment_time': None,\n 'last_change_time': None,\n 'qty': 1,\n 'id': 8,\n 'status': 'open',\n 'product_id': 2,\n 'unit_price': Decimal('2.0000000000'),\n 'buyer_id': 2,\n 'total_price': Decimal('2.0000000000'),\n 'supplier_id': 1,\n 'buyer_message': None,\n 'order_time': datetime.datetime(2020, 1, 23, 2, 50, 45, 379714),\n 'supplier_name': 'Super Sports'}"
     },
     "execution_count": 6,
     "metadata": {},
     "output_type": "execute_result"
    }
   ],
   "source": [
    "test[0]"
   ]
  },
  {
   "cell_type": "code",
   "execution_count": 10,
   "metadata": {},
   "outputs": [],
   "source": [
    "def pull_buyer_orders(buyer_id):\n",
    "    order_list = []\n",
    "    for order in Buyer.query.get(buyer_id).orders:\n",
    "        temp = order.__dict__\n",
    "        temp['supplier_name'] = order.get_order_supplier().name\n",
    "        temp['unit_price'] = int(temp['unit_price'])\n",
    "        temp['total_price'] = float(temp['unit_price'])\n",
    "        temp['product'] = get_product_extra_info(temp['product_id'])\n",
    "        if '_sa_instance_state' in temp:\n",
    "            del temp['_sa_instance_state']\n",
    "\n",
    "        \n",
    "\n",
    "        order_list.append(temp)\n",
    "\n",
    "    return order_list\n",
    "\n",
    "order =pull_buyer_orders(2)"
   ]
  },
  {
   "cell_type": "code",
   "execution_count": 37,
   "metadata": {},
   "outputs": [
    {
     "data": {
      "text/plain": "'2020-01-23 02:50'"
     },
     "execution_count": 37,
     "metadata": {},
     "output_type": "execute_result"
    }
   ],
   "source": [
    "str(order['order_time'])[0:16]"
   ]
  },
  {
   "cell_type": "code",
   "execution_count": null,
   "metadata": {},
   "outputs": [],
   "source": []
  },
  {
   "cell_type": "code",
   "execution_count": 35,
   "metadata": {},
   "outputs": [
    {
     "name": "stdout",
     "output_type": "stream",
     "text": "Help on class str in module builtins:\n\nclass str(object)\n |  str(object='') -> str\n |  str(bytes_or_buffer[, encoding[, errors]]) -> str\n |  \n |  Create a new string object from the given object. If encoding or\n |  errors is specified, then the object must expose a data buffer\n |  that will be decoded using the given encoding and error handler.\n |  Otherwise, returns the result of object.__str__() (if defined)\n |  or repr(object).\n |  encoding defaults to sys.getdefaultencoding().\n |  errors defaults to 'strict'.\n |  \n |  Methods defined here:\n |  \n |  __add__(self, value, /)\n |      Return self+value.\n |  \n |  __contains__(self, key, /)\n |      Return key in self.\n |  \n |  __eq__(self, value, /)\n |      Return self==value.\n |  \n |  __format__(self, format_spec, /)\n |      Return a formatted version of the string as described by format_spec.\n |  \n |  __ge__(self, value, /)\n |      Return self>=value.\n |  \n |  __getattribute__(self, name, /)\n |      Return getattr(self, name).\n |  \n |  __getitem__(self, key, /)\n |      Return self[key].\n |  \n |  __getnewargs__(...)\n |  \n |  __gt__(self, value, /)\n |      Return self>value.\n |  \n |  __hash__(self, /)\n |      Return hash(self).\n |  \n |  __iter__(self, /)\n |      Implement iter(self).\n |  \n |  __le__(self, value, /)\n |      Return self<=value.\n |  \n |  __len__(self, /)\n |      Return len(self).\n |  \n |  __lt__(self, value, /)\n |      Return self<value.\n |  \n |  __mod__(self, value, /)\n |      Return self%value.\n |  \n |  __mul__(self, value, /)\n |      Return self*value.\n |  \n |  __ne__(self, value, /)\n |      Return self!=value.\n |  \n |  __repr__(self, /)\n |      Return repr(self).\n |  \n |  __rmod__(self, value, /)\n |      Return value%self.\n |  \n |  __rmul__(self, value, /)\n |      Return value*self.\n |  \n |  __sizeof__(self, /)\n |      Return the size of the string in memory, in bytes.\n |  \n |  __str__(self, /)\n |      Return str(self).\n |  \n |  capitalize(self, /)\n |      Return a capitalized version of the string.\n |      \n |      More specifically, make the first character have upper case and the rest lower\n |      case.\n |  \n |  casefold(self, /)\n |      Return a version of the string suitable for caseless comparisons.\n |  \n |  center(self, width, fillchar=' ', /)\n |      Return a centered string of length width.\n |      \n |      Padding is done using the specified fill character (default is a space).\n |  \n |  count(...)\n |      S.count(sub[, start[, end]]) -> int\n |      \n |      Return the number of non-overlapping occurrences of substring sub in\n |      string S[start:end].  Optional arguments start and end are\n |      interpreted as in slice notation.\n |  \n |  encode(self, /, encoding='utf-8', errors='strict')\n |      Encode the string using the codec registered for encoding.\n |      \n |      encoding\n |        The encoding in which to encode the string.\n |      errors\n |        The error handling scheme to use for encoding errors.\n |        The default is 'strict' meaning that encoding errors raise a\n |        UnicodeEncodeError.  Other possible values are 'ignore', 'replace' and\n |        'xmlcharrefreplace' as well as any other name registered with\n |        codecs.register_error that can handle UnicodeEncodeErrors.\n |  \n |  endswith(...)\n |      S.endswith(suffix[, start[, end]]) -> bool\n |      \n |      Return True if S ends with the specified suffix, False otherwise.\n |      With optional start, test S beginning at that position.\n |      With optional end, stop comparing S at that position.\n |      suffix can also be a tuple of strings to try.\n |  \n |  expandtabs(self, /, tabsize=8)\n |      Return a copy where all tab characters are expanded using spaces.\n |      \n |      If tabsize is not given, a tab size of 8 characters is assumed.\n |  \n |  find(...)\n |      S.find(sub[, start[, end]]) -> int\n |      \n |      Return the lowest index in S where substring sub is found,\n |      such that sub is contained within S[start:end].  Optional\n |      arguments start and end are interpreted as in slice notation.\n |      \n |      Return -1 on failure.\n |  \n |  format(...)\n |      S.format(*args, **kwargs) -> str\n |      \n |      Return a formatted version of S, using substitutions from args and kwargs.\n |      The substitutions are identified by braces ('{' and '}').\n |  \n |  format_map(...)\n |      S.format_map(mapping) -> str\n |      \n |      Return a formatted version of S, using substitutions from mapping.\n |      The substitutions are identified by braces ('{' and '}').\n |  \n |  index(...)\n |      S.index(sub[, start[, end]]) -> int\n |      \n |      Return the lowest index in S where substring sub is found, \n |      such that sub is contained within S[start:end].  Optional\n |      arguments start and end are interpreted as in slice notation.\n |      \n |      Raises ValueError when the substring is not found.\n |  \n |  isalnum(self, /)\n |      Return True if the string is an alpha-numeric string, False otherwise.\n |      \n |      A string is alpha-numeric if all characters in the string are alpha-numeric and\n |      there is at least one character in the string.\n |  \n |  isalpha(self, /)\n |      Return True if the string is an alphabetic string, False otherwise.\n |      \n |      A string is alphabetic if all characters in the string are alphabetic and there\n |      is at least one character in the string.\n |  \n |  isascii(self, /)\n |      Return True if all characters in the string are ASCII, False otherwise.\n |      \n |      ASCII characters have code points in the range U+0000-U+007F.\n |      Empty string is ASCII too.\n |  \n |  isdecimal(self, /)\n |      Return True if the string is a decimal string, False otherwise.\n |      \n |      A string is a decimal string if all characters in the string are decimal and\n |      there is at least one character in the string.\n |  \n |  isdigit(self, /)\n |      Return True if the string is a digit string, False otherwise.\n |      \n |      A string is a digit string if all characters in the string are digits and there\n |      is at least one character in the string.\n |  \n |  isidentifier(self, /)\n |      Return True if the string is a valid Python identifier, False otherwise.\n |      \n |      Use keyword.iskeyword() to test for reserved identifiers such as \"def\" and\n |      \"class\".\n |  \n |  islower(self, /)\n |      Return True if the string is a lowercase string, False otherwise.\n |      \n |      A string is lowercase if all cased characters in the string are lowercase and\n |      there is at least one cased character in the string.\n |  \n |  isnumeric(self, /)\n |      Return True if the string is a numeric string, False otherwise.\n |      \n |      A string is numeric if all characters in the string are numeric and there is at\n |      least one character in the string.\n |  \n |  isprintable(self, /)\n |      Return True if the string is printable, False otherwise.\n |      \n |      A string is printable if all of its characters are considered printable in\n |      repr() or if it is empty.\n |  \n |  isspace(self, /)\n |      Return True if the string is a whitespace string, False otherwise.\n |      \n |      A string is whitespace if all characters in the string are whitespace and there\n |      is at least one character in the string.\n |  \n |  istitle(self, /)\n |      Return True if the string is a title-cased string, False otherwise.\n |      \n |      In a title-cased string, upper- and title-case characters may only\n |      follow uncased characters and lowercase characters only cased ones.\n |  \n |  isupper(self, /)\n |      Return True if the string is an uppercase string, False otherwise.\n |      \n |      A string is uppercase if all cased characters in the string are uppercase and\n |      there is at least one cased character in the string.\n |  \n |  join(self, iterable, /)\n |      Concatenate any number of strings.\n |      \n |      The string whose method is called is inserted in between each given string.\n |      The result is returned as a new string.\n |      \n |      Example: '.'.join(['ab', 'pq', 'rs']) -> 'ab.pq.rs'\n |  \n |  ljust(self, width, fillchar=' ', /)\n |      Return a left-justified string of length width.\n |      \n |      Padding is done using the specified fill character (default is a space).\n |  \n |  lower(self, /)\n |      Return a copy of the string converted to lowercase.\n |  \n |  lstrip(self, chars=None, /)\n |      Return a copy of the string with leading whitespace removed.\n |      \n |      If chars is given and not None, remove characters in chars instead.\n |  \n |  partition(self, sep, /)\n |      Partition the string into three parts using the given separator.\n |      \n |      This will search for the separator in the string.  If the separator is found,\n |      returns a 3-tuple containing the part before the separator, the separator\n |      itself, and the part after it.\n |      \n |      If the separator is not found, returns a 3-tuple containing the original string\n |      and two empty strings.\n |  \n |  replace(self, old, new, count=-1, /)\n |      Return a copy with all occurrences of substring old replaced by new.\n |      \n |        count\n |          Maximum number of occurrences to replace.\n |          -1 (the default value) means replace all occurrences.\n |      \n |      If the optional argument count is given, only the first count occurrences are\n |      replaced.\n |  \n |  rfind(...)\n |      S.rfind(sub[, start[, end]]) -> int\n |      \n |      Return the highest index in S where substring sub is found,\n |      such that sub is contained within S[start:end].  Optional\n |      arguments start and end are interpreted as in slice notation.\n |      \n |      Return -1 on failure.\n |  \n |  rindex(...)\n |      S.rindex(sub[, start[, end]]) -> int\n |      \n |      Return the highest index in S where substring sub is found,\n |      such that sub is contained within S[start:end].  Optional\n |      arguments start and end are interpreted as in slice notation.\n |      \n |      Raises ValueError when the substring is not found.\n |  \n |  rjust(self, width, fillchar=' ', /)\n |      Return a right-justified string of length width.\n |      \n |      Padding is done using the specified fill character (default is a space).\n |  \n |  rpartition(self, sep, /)\n |      Partition the string into three parts using the given separator.\n |      \n |      This will search for the separator in the string, starting at the end. If\n |      the separator is found, returns a 3-tuple containing the part before the\n |      separator, the separator itself, and the part after it.\n |      \n |      If the separator is not found, returns a 3-tuple containing two empty strings\n |      and the original string.\n |  \n |  rsplit(self, /, sep=None, maxsplit=-1)\n |      Return a list of the words in the string, using sep as the delimiter string.\n |      \n |        sep\n |          The delimiter according which to split the string.\n |          None (the default value) means split according to any whitespace,\n |          and discard empty strings from the result.\n |        maxsplit\n |          Maximum number of splits to do.\n |          -1 (the default value) means no limit.\n |      \n |      Splits are done starting at the end of the string and working to the front.\n |  \n |  rstrip(self, chars=None, /)\n |      Return a copy of the string with trailing whitespace removed.\n |      \n |      If chars is given and not None, remove characters in chars instead.\n |  \n |  split(self, /, sep=None, maxsplit=-1)\n |      Return a list of the words in the string, using sep as the delimiter string.\n |      \n |      sep\n |        The delimiter according which to split the string.\n |        None (the default value) means split according to any whitespace,\n |        and discard empty strings from the result.\n |      maxsplit\n |        Maximum number of splits to do.\n |        -1 (the default value) means no limit.\n |  \n |  splitlines(self, /, keepends=False)\n |      Return a list of the lines in the string, breaking at line boundaries.\n |      \n |      Line breaks are not included in the resulting list unless keepends is given and\n |      true.\n |  \n |  startswith(...)\n |      S.startswith(prefix[, start[, end]]) -> bool\n |      \n |      Return True if S starts with the specified prefix, False otherwise.\n |      With optional start, test S beginning at that position.\n |      With optional end, stop comparing S at that position.\n |      prefix can also be a tuple of strings to try.\n |  \n |  strip(self, chars=None, /)\n |      Return a copy of the string with leading and trailing whitespace remove.\n |      \n |      If chars is given and not None, remove characters in chars instead.\n |  \n |  swapcase(self, /)\n |      Convert uppercase characters to lowercase and lowercase characters to uppercase.\n |  \n |  title(self, /)\n |      Return a version of the string where each word is titlecased.\n |      \n |      More specifically, words start with uppercased characters and all remaining\n |      cased characters have lower case.\n |  \n |  translate(self, table, /)\n |      Replace each character in the string using the given translation table.\n |      \n |        table\n |          Translation table, which must be a mapping of Unicode ordinals to\n |          Unicode ordinals, strings, or None.\n |      \n |      The table must implement lookup/indexing via __getitem__, for instance a\n |      dictionary or list.  If this operation raises LookupError, the character is\n |      left untouched.  Characters mapped to None are deleted.\n |  \n |  upper(self, /)\n |      Return a copy of the string converted to uppercase.\n |  \n |  zfill(self, width, /)\n |      Pad a numeric string with zeros on the left, to fill a field of the given width.\n |      \n |      The string is never truncated.\n |  \n |  ----------------------------------------------------------------------\n |  Static methods defined here:\n |  \n |  __new__(*args, **kwargs) from builtins.type\n |      Create and return a new object.  See help(type) for accurate signature.\n |  \n |  maketrans(x, y=None, z=None, /)\n |      Return a translation table usable for str.translate().\n |      \n |      If there is only one argument, it must be a dictionary mapping Unicode\n |      ordinals (integers) or characters to Unicode ordinals, strings or None.\n |      Character keys will be then converted to ordinals.\n |      If there are two arguments, they must be strings of equal length, and\n |      in the resulting dictionary, each character in x will be mapped to the\n |      character at the same position in y. If there is a third argument, it\n |      must be a string, whose characters will be mapped to None in the result.\n\n"
    }
   ],
   "source": [
    "help(str)"
   ]
  },
  {
   "cell_type": "code",
   "execution_count": 1,
   "metadata": {},
   "outputs": [],
   "source": [
    "from ecommerce import *\n",
    "from ecommerce.models import *\n",
    "from sqlalchemy import or_\n",
    "from ecommerce.buyer_functions import *\n",
    "import pdb"
   ]
  },
  {
   "cell_type": "code",
   "execution_count": 2,
   "metadata": {},
   "outputs": [],
   "source": [
    "db.session.commit()"
   ]
  },
  {
   "cell_type": "code",
   "execution_count": null,
   "metadata": {},
   "outputs": [],
   "source": []
  }
 ]
}